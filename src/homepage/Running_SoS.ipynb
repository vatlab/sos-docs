{
 "cells": [
  {
   "cell_type": "code",
   "execution_count": 1,
   "metadata": {
    "kernel": "SoS"
   },
   "outputs": [
    {
     "data": {
      "text/html": [
       "<div class=\"toc\" id=\"toc_Running_SoS\">\n",
       "<ul class=\"toc-item lev0\">\n",
       "<li><a href=\"#workflow_cli\">SoS Workflow System (CLI)</a></li>\n",
       "<li><a href=\"#SoS-Notebook\">SoS Notebook</a></li>\n",
       "<ul class=\"toc-item lev1\">\n",
       "<li><a href=\"#Live-SoS-server\">Live SoS server</a></li>\n",
       "<li><a href=\"#SoS-Docker-Images\">SoS Docker Images</a></li>\n",
       "<li><a href=\"#Local-installation\">Local installation</a></li>\n",
       "<li><a href=\"#Jupyter-Lab\">Jupyter Lab</a></li>\n",
       "<li><a href=\"#Supported-Languages\">Supported Languages</a></li>\n",
       "<ul class=\"toc-item lev2\">\n",
       "<li><a href=\"#Bash\">Bash</a></li>\n",
       "<li><a href=\"#JavaScript\">JavaScript</a></li>\n",
       "<li><a href=\"#Julia\">Julia</a></li>\n",
       "<li><a href=\"#MATLAB\"> MATLAB</a></li>\n",
       "<li><a href=\"#Octave\"> Octave</a></li>\n",
       "<li><a href=\"#Python-2\"> Python 2</a></li>\n",
       "<li><a href=\"#Python-3\">Python 3</a></li>\n",
       "<li><a href=\"#R\">R</a></li>\n",
       "<li><a href=\"#SAS\">SAS</a></li>\n",
       "<li><a href=\"#TypeScript\">TypeScript</a></li>\n",
       "</ul>\n",
       "</ul>\n",
       "<li><a href=\"#Notes\">Notes</a></li>\n",
       "<ul class=\"toc-item lev1\">\n",
       "<li><a href=\"#Remote-access\">Remote access</a></li>\n",
       "<li><a href=\"#virtualenv-or-pipenv\"><code>virtualenv</code> or <code>pipenv</code></a></li>\n",
       "<li><a href=\"#Windows\">Windows</a></li>\n",
       "</div>"
      ]
     },
     "metadata": {},
     "output_type": "display_data"
    }
   ],
   "source": [
    "%toc -n --id 'toc_Running_SoS'"
   ]
  },
  {
   "cell_type": "markdown",
   "metadata": {
    "kernel": "SoS"
   },
   "source": [
    "# <a id=\"workflow_cli\"></a>SoS Workflow System (CLI)"
   ]
  },
  {
   "cell_type": "markdown",
   "metadata": {
    "kernel": "SoS"
   },
   "source": [
    "SoS supports Linux, Mac OSX, and Windows systems and requires [Python 3](https://www.python.org/) (version 3.6 or later) so you will need to install Python 3 if you do not have it installed locally. We recommend [anaconda Python](https://www.continuum.io/downloads) because it is a complete Python environment with many packages for scientific computing.\n"
   ]
  },
  {
   "cell_type": "markdown",
   "metadata": {
    "kernel": "SoS"
   },
   "source": [
    "If you only need to use the command line interface of the SoS Workflow System (e.g. to execute workflows on a remote server), you can install it with command\n",
    "\n",
    "```\n",
    "% pip install sos\n",
    "```"
   ]
  },
  {
   "cell_type": "markdown",
   "metadata": {
    "kernel": "SoS"
   },
   "source": [
    "SoS uses a subcommand system with subcommands such as `run`,  `convert`, and `status`. You can get a list of subcommands using command\n",
    "\n",
    "```\n",
    "% sos -h\n",
    "```\n",
    "\n",
    "and usage of a particular subcomand using commands such as\n",
    "\n",
    "```\n",
    "% sos run -h\n",
    "```\n",
    "\n",
    "You can execute a SoS script `myscript` (or `myscript.sos`) in batch mode using command\n",
    "\n",
    "```\n",
    "% sos run myscript [options]\n",
    "```\n",
    "\n",
    "directly using command\n",
    "\n",
    "```\n",
    "% myscript [options]\n",
    "```\n",
    "\n",
    "if the script has shebang line \n",
    "\n",
    "```\n",
    "#!/usr/bin/env sos-runner\n",
    "```\n",
    "\n",
    "Please refer to chapter [Command Line Interface](doc/documentation/User_Interface.html) of the SoS documentation for more details."
   ]
  },
  {
   "cell_type": "markdown",
   "metadata": {
    "kernel": "SoS"
   },
   "source": [
    "# SoS Notebook"
   ]
  },
  {
   "cell_type": "markdown",
   "metadata": {
    "kernel": "SoS"
   },
   "source": [
    "SoS Notebook can be used as both a polyglot notebook and an IDE for the SoS workflow system. It should be installed locally, or on a server to which you access remotely with a browser."
   ]
  },
  {
   "cell_type": "markdown",
   "metadata": {
    "kernel": "SoS"
   },
   "source": [
    "## Live SoS server"
   ]
  },
  {
   "cell_type": "markdown",
   "metadata": {
    "kernel": "SoS"
   },
   "source": [
    "If you are curious on what SoS and SoS Notebook are, you can try it out by clicking [this link](http://128.135.144.117:8000/). This will lead you to our live SoS server from which you can click `New` -> `SoS` and create a SoS Notebook with all supported languages except for two proprietary ones (`MATLAB` and `SAS`)."
   ]
  },
  {
   "cell_type": "markdown",
   "metadata": {
    "kernel": "SoS"
   },
   "source": [
    "## SoS Docker Images"
   ]
  },
  {
   "cell_type": "markdown",
   "metadata": {
    "kernel": "SoS"
   },
   "source": [
    "If you are using docker, you can run SoS directly using command\n",
    "\n",
    "```\n",
    "% docker run -it mdabioinfo/sos:latest /bin/bash\n",
    "```\n",
    "\n",
    "to enter a command prompt with sos command. More usefully, you can start a Jupyter server with [R](https://www.r-project.org/) and [IRkernel](https://github.com/IRkernel/IRkernel), Julia, Python, and SoS kernels, and many Python and R modules for data sciencists using command\n",
    "\n",
    "```\n",
    "% docker run -d -p 8888:8888 mdabioinfo/sos-notebook\n",
    "```\n",
    "\n",
    "After the docker is running in the background, you will need to find the name of the instance from the last column of the output of command `docker ps` and get the log message of the docker instance with `docker logs` followed by the name of your docker instance, e.g.\n",
    "\n",
    "```\n",
    "% docker logs eager_volhard\n",
    "Execute the command: jupyter notebook\n",
    "...\n",
    "    Copy/paste this URL into your browser when you connect for the first time,\n",
    "    to login with a token:\n",
    "        http://localhost:8888/?token=754a646651c82657725be887a1a2579ab69a702ba80ae4b3\n",
    "```\n",
    "\n",
    "You can then enter the URL in the log message to a browser and start working with a complete SoS environment. You could also set up the docker image to disable password as discussed [here](https://github.com/jupyter/docker-stacks/tree/master/scipy-notebook) but using a Jupyter server without password is strongly discouraged.\n",
    "\n",
    "You can even use this docker image for your daily data analysis if you make your local directory available to the Jupyter server using command \n",
    "\n",
    "```\n",
    "% docker run -d -p 8888:8888 -v $HOME:/home/jovyan/work  mdabioinfo/sos-notebook\n",
    "```\n",
    "\n",
    "This command mounts your home directory (`$HOME`) to directory `work` under the home directory of the docker machine but you can mount any local directory to the docker image. This container is hosted at [our public Jupyter\n",
    "server](http://ec2-34-192-184-206.compute-1.amazonaws.com:8000/) from which you can open our sample notebooks and create your own notebooks without installing anything.\n",
    "\n",
    "**Note**: If you get an error message stating `Bind for 0.0.0.0:8888 failed: port is already allocated`, your local port `8888` is already taken by some other processes and you can use options such as `-p 9999:8888` to use another local port. Using a different port actually allows you to execute multiple instances of the docker image."
   ]
  },
  {
   "cell_type": "markdown",
   "metadata": {
    "kernel": "SoS"
   },
   "source": [
    "## Local installation"
   ]
  },
  {
   "cell_type": "markdown",
   "metadata": {
    "kernel": "SoS"
   },
   "source": [
    "<p>SoS consists of two major parts, the **SoS Workflow Engine** and **SoS Polyglot Notebook**, each with a number of extension modules:\n",
    "\n",
    "<div class=\"container\">\n",
    "<div class=\"row\">\n",
    "<div class=\"col col-sm-6\">\n",
    "        <img src=\"doc/media/components.png\" style=\"width:100%;\">\n",
    " </div>\n",
    "  <div class=\"col col-sm-6\">\n",
    "  <b> SoS Workflow Engine </b>\n",
    "<ul>\n",
    "<li><a href=\"https://pypi.python.org/pypi/sos/\"><strong><code>sos</code></strong></a>: SoS workflow engine with its command line interface</li>\n",
    "<li><a href=\"https://pypi.python.org/pypi/sos-pbs/\"><strong><code>sos-pbs</code></strong></a>: PBS task engine for Torch, Slurm, IBM LSF etc</li>\n",
    "<li><a href=\"https://pypi.python.org/pypi/sos-rq/\"><strong><code>sos-rq</code></strong></a>: <a href=\"http://python-rq.org/\"><code>rq</code></a> task engine for SoS</li>\n",
    "<li><a href=\"https://pypi.python.org/pypi/sos-bioinfo/\"><strong><code>sos-bioinfo</code></strong></a>: extension for bioinformatic applications</li>\n",
    "</ul>\n",
    "\n",
    "<b> SoS Notebook</b> \n",
    "<ul>\n",
    "<li><a href=\"https://pypi.python.org/pypi/sos-notebook/\"><strong><code>sos-notebook</code></strong></a>: Core sos-notebook module</li><li><a href=\"https://pypi.python.org/pypi/sos-bash/\"><strong><code>sos-bash</code></strong></a>: SoS extension for shell scripts</li>\n",
    "<li><a href=\"https://pypi.python.org/pypi/sos-javascript/\"><strong><code>sos-javascript</code></strong></a>: SoS extension for <code>JavaScript</code> and <code>Node.js</code></li>\n",
    "<li><a href=\"https://pypi.python.org/pypi/sos-julia/\"><strong><code>sos-julia</code></strong></a>: SoS extension for <code>Julia</code></li>\n",
    "<li><a href=\"https://pypi.python.org/pypi/sos-matlab/\"><strong><code>sos-matlab</code></strong></a>: SoS extension for <code>MATLAB</code> and <code>Octave</code></li>\n",
    "<li><a href=\"https://pypi.python.org/pypi/sos-python/\"><strong><code>sos-python</code></strong></a>: SoS extension for <code>Python2</code> and <code>Python3</code></li>\n",
    "<li><a href=\"https://pypi.python.org/pypi/sos-r/\"><strong><code>sos-r</code></strong></a>: SoS extension for R</li>\n",
    "<li><a href=\"https://pypi.python.org/pypi/sos-sas/\"><strong><code>sos-sas</code></strong></a>: SoS extension for SAS</li>\n",
    "</ul>\n",
    "    </div>\n",
    "</div>\n",
    "</div>"
   ]
  },
  {
   "cell_type": "markdown",
   "metadata": {
    "kernel": "SoS"
   },
   "source": [
    "After making sure that you have Python 3.6+ installed, you can install <code>sos</code>, <code>sos-notebook</code> **and their extensions** with commands such as\n",
    "\n",
    "```\n",
    "% pip install sos\n",
    "% pip install sos-notebook\n",
    "```\n",
    "\n",
    "After the installation of `sos-notebook`, you will need to register the sos kernel to Jupyter using command\n",
    "\n",
    "```\n",
    "% python -m sos_notebook.install\n",
    "```\n",
    "\n",
    "After verifying the `sos` and the kernels you would like to use are in the output of\n",
    "```\n",
    "% jupyter kernelspec list\n",
    "```\n",
    "\n",
    "you can start a Jupyter server with commnad\n",
    "\n",
    "```\n",
    "% jupyter notebook\n",
    "```\n",
    "\n",
    "and choose `SoS` as the kernel for a new notebook. Please refer to [Notebook Interface](doc/documentation/Notebook_Interface.html) of the SoS documentation for details."
   ]
  },
  {
   "cell_type": "markdown",
   "metadata": {
    "kernel": "SoS"
   },
   "source": [
    "Certain features of SoS Notebook require optional python modules. They are not required but recommended for a complete SoS environment. These modules include\n",
    "\n",
    "* [graphiviz](https://pypi.org/project/graphviz/), [imageio](https://pypi.org/project/imageio/), and [pillow](https://pypi.org/project/Pillow/) or [PIL](https://pypi.org/project/PIL/) for the preview of `dot` files generated by the `-d` option of `sos run`.\n",
    "* [pysam](https://pypi.org/project/pysam/) for the preview of bam and sam files.\n",
    "\n",
    "\n",
    "Finally, if you are using `vim`, you can use command\n",
    "```\n",
    "% python -m sos.install\n",
    "```\n",
    "to install a vim extension of sos to enable syntax highlighting when editing `.sos` files."
   ]
  },
  {
   "cell_type": "markdown",
   "metadata": {
    "kernel": "SoS"
   },
   "source": [
    "## Jupyter Lab"
   ]
  },
  {
   "cell_type": "markdown",
   "metadata": {
    "kernel": "SoS"
   },
   "source": [
    "JupyterLab is currently in beta, so is the JupyterLab extension of SoS called [jupyterlab-sos](https://github.com/vatlab/jupyterlab-sos). If you are already using JupyterLab, you can install the jupyterlab extension of SoS using command\n",
    "\n",
    "```\n",
    "% jupyter labextension install jupyterlab-sos\n",
    "```\n",
    "\n",
    "All features of SoS Notebook are expected to work for JupyterLab, except for those that rely on the side panel. For example, magics `%toc`, `%preview` etc now only send result to the main notebook, and clicking the task ID will not trigger `%taskinfo`. We are working with the JupyterLab team to resolve these issues and can hopefully get it done befor the final release of JupyterLab."
   ]
  },
  {
   "cell_type": "markdown",
   "metadata": {
    "kernel": "SoS"
   },
   "source": [
    "## Supported Languages"
   ]
  },
  {
   "cell_type": "markdown",
   "metadata": {
    "kernel": "SoS"
   },
   "source": [
    "To use a language in `SoS`, your system should have the corresponding interpreters (`bash`, `python`, `julia`) and Jupyter kernel (e.g. `ir` for `R`, `ijavascript` for `JavaScript`) installed. The installation process varies from language to language, and can be quite troublesome depending on language and operating system. In general, you should\n",
    "\n",
    "1. Verify the availability of an interpreter by executing the interpreter from a command line (e.g. run `julia` to check if `julia` is installed.\n",
    "2. Install the jupyter kernel for the interpreter, and verify if the corresponding kernel is installed correctly by running\n",
    "```\n",
    "jupyter kernelspec list\n",
    "```\n",
    "3. Start Jupyter, create a notebook with the kernel and check if you can use the kernel correctly.\n",
    "4. Visit the language-specific sections below to install any required modules that are used for data exchange between SoS and the kernels."
   ]
  },
  {
   "cell_type": "markdown",
   "metadata": {
    "kernel": "sos"
   },
   "source": [
    "### <a id=\"Bash\"></a><img src=\"img/Bash.png\" style=\"width:32pt;height:32pt;margin-right:15pt;\">Bash"
   ]
  },
  {
   "cell_type": "markdown",
   "metadata": {
    "kernel": "SoS"
   },
   "source": [
    "`bash` is generally available under Linux and MacOSX so you only need to install [the Bash Kernel](https://github.com/takluyver/bash_kernel) for Jupyter. The `bash` command can be installed under windows but is generally not tested."
   ]
  },
  {
   "cell_type": "markdown",
   "metadata": {
    "kernel": "SoS"
   },
   "source": [
    "### <a id=\"JavaScript\"></a><img src=\"img/JavaScript.png\" style=\"width:32pt;height:32pt;margin-right:15pt;\">JavaScript"
   ]
  },
  {
   "cell_type": "markdown",
   "metadata": {
    "kernel": "SoS"
   },
   "source": [
    "Although there appears to be several Jupyter Kernels, SoS is only tested with the [iJavaScript kernel](https://github.com/n-riesco/ijavascript). To use this kernel, please follow [iJavaScript kernel homepage](https://github.com/n-riesco/ijavascript) to install `iJavaScript kernel`."
   ]
  },
  {
   "cell_type": "markdown",
   "metadata": {
    "kernel": "SoS"
   },
   "source": [
    "### <a id=\"Julia\"></a><img src=\"img/Julia.png\" style=\"width:32pt;height:32pt;margin-right:15pt;\">Julia"
   ]
  },
  {
   "cell_type": "markdown",
   "metadata": {
    "kernel": "SoS"
   },
   "source": [
    "Start `Julia` and install [iJulia](https://github.com/JuliaLang/IJulia.jl) by following [iJulia Kernel homepage](https://github.com/JuliaLang/IJulia.jl). After that, install [feather.jl](https://github.com/JuliaStats/Feather.jl), [DataFrames.jl](https://github.com/JuliaData/DataFrames.jl) and [NamedArrays.jl](https://github.com/davidavdav/NamedArrays.jl) with commands\n",
    "\n",
    "```\n",
    "Pkg.add(\"Feather\")\n",
    "Pkg.add(\"DataFrames\")\n",
    "Pkg.add(\"NamedArrays\")\n",
    "```\n",
    "\n",
    "Note that it is important to set\n",
    "```\n",
    "ENV[\"JUPYTER\"] = \"/path/to/jupyter\"\n",
    "```\n",
    "in Julia before installing `iJulia` so that `iJulia` can be installed to the existing installation of Jupyter."
   ]
  },
  {
   "cell_type": "markdown",
   "metadata": {
    "kernel": "SoS"
   },
   "source": [
    "### <a id=\"MATLAB\"></a><img src=\"img/Matlab.png\" style=\"width:32pt;height:32pt;margin-right:15pt;\"> MATLAB"
   ]
  },
  {
   "cell_type": "markdown",
   "metadata": {
    "kernel": "SoS"
   },
   "source": [
    "Because `SoS` requires `Python 3.6` and only `MATLAB` version 2017b+ supports this version of `Python`, you will need to have a working version of `MATLAB 2017b` or later installed on your system. Then, you will need to install [matlab engine for Python](https://www.mathworks.com/help/matlab/matlab_external/install-the-matlab-engine-for-python.html), which \n",
    "typically involves the execution of command `python setup.py install`  under `matlabroot\\extern\\engines\\python`.\n",
    "\n",
    "Because of [a bug with usage statistics collection in MATLAB 2017b](https://mathworksservicerequest.secure.force.com/apex/cp_case_detail?cc=us&id=5000Z00000tgPA0), you will need to turn off MATLAB's usage statistics collection system before you use `MATLAB 2017b` with `SoS`. To resolve this issue, You can opt-out of usage statistics collection by using the following steps: On the `Home` tab, in the `Environment` section, click `Preferences`, then select `MATLAB` > `General` in the `Preferences` window. Uncheck the box `Improve MATLAB by sending user experience information to MathWorks`.\n",
    "\n",
    "There are two different implementations of `MATLAB` kernels for Jupyter [`matlab_kernel`](https://github.com/Calysto/matlab_kernel) and [imatlab](https://github.com/imatlab/imatlab). Because of [a bug with `matlab_kernel`](https://github.com/vatlab/sos-matlab/issues/2), you should install the `imatlab` kernel by following instructions on [the imatlab homepage](https://github.com/imatlab/imatlab).\n",
    "\n",
    "Because `MATLAB` is among the most difficult languages to configure, we have recorded a video [Using MATLAB with SoS Notebook](https://youtu.be/t9ohJZnuanc) with detailed instructions on how to configure SoS Notebook to work with MATLAB.\n",
    "\n",
    "<div class=\"container\">\n",
    "    <div class=\"row\">\n",
    "        <div class=\"col-sm-3\">\n",
    "              <div class=\"embed-responsive embed-responsive-16by9\">\n",
    "                   <iframe width=\"560\" height=\"315\" src=\"https://www.youtube.com/embed/t9ohJZnuanc\" frameborder=\"0\" allowfullscreen></iframe>\n",
    "              </div>\n",
    "        </div>\n",
    "    </div>\n",
    "</div>"
   ]
  },
  {
   "cell_type": "markdown",
   "metadata": {
    "kernel": "SoS"
   },
   "source": [
    "### <a id=\"Octave\"></a><img src=\"img/Octave.png\" style=\"width:32pt;height:32pt;margin-right:15pt;\"> Octave"
   ]
  },
  {
   "cell_type": "markdown",
   "metadata": {
    "kernel": "SoS"
   },
   "source": [
    "After installing octave, install the [octave kernel](https://github.com/Calysto/octave_kernel) by following instructions on the [octave kernel homepage](https://github.com/Calysto/octave_kernel).\n",
    "\n",
    "For transferring Python's DataFrame and its equivalences in other languages, you will need to install the [dataframe](https://octave.sourceforge.io/dataframe/index.html) package using the following command:\n",
    "\n",
    "```\n",
    "octave --eval 'pkg install -forge dataframe'\n",
    "```"
   ]
  },
  {
   "cell_type": "markdown",
   "metadata": {
    "kernel": "SoS"
   },
   "source": [
    "### <a id=\"Python-2\"></a><img src=\"img/Python.png\" style=\"width:32pt;height:32pt;margin-right:15pt;\"> Python 2"
   ]
  },
  {
   "cell_type": "markdown",
   "metadata": {
    "kernel": "SoS"
   },
   "source": [
    "If you still have Python 2.x installed on your system and would like to use it with `SoS`, you will need to\n",
    "* Place executable `python2` or `python2.7` in your `$PATH` and use action `python2` for python2 scripts.\n",
    "* Install python2 kernel following directions [here](http://ipython.readthedocs.io/en/stable/install/kernel_install.html). "
   ]
  },
  {
   "cell_type": "markdown",
   "metadata": {
    "kernel": "SoS"
   },
   "source": [
    "### <a id=\"Python-3\"></a><img src=\"img/Python3.png\" style=\"width:32pt;height:32pt;margin-right:15pt;\">Python 3"
   ]
  },
  {
   "cell_type": "markdown",
   "metadata": {
    "kernel": "SoS"
   },
   "source": [
    "Jupyter comes with working `Python3` kernel so no further installation is needed."
   ]
  },
  {
   "cell_type": "markdown",
   "metadata": {
    "kernel": "SoS"
   },
   "source": [
    "### <a id=\"R\"></a><img src=\"img/R.png\" style=\"width:32pt;height:32pt;margin-right:15pt;\">R"
   ]
  },
  {
   "cell_type": "markdown",
   "metadata": {
    "kernel": "SoS"
   },
   "source": [
    "To use `R` with `SoS`, you will need to install the following components:\n",
    "\n",
    "* [IRKernel](https://github.com/IRkernel/IRkernel) kernel for Jupyter.\n",
    "* R [feather](https://cran.r-project.org/web/packages/feather/index.html) library.\n",
    "* Python [feather-format](https://github.com/wesm/feather) module, which can be installed with command\n",
    "   ```\n",
    "   conda install -c conda-forge feather-format\n",
    "   ```\n",
    "\n",
    "If you have a working `R` installation, you can install `irkernel` and `feather` in `R` with commands\n",
    "\n",
    "```\n",
    "install.packages('devtools')\n",
    "devtools::install_github('IRkernel/IRkernel')\n",
    "IRkernel::installspec()\n",
    "install.packages('feather')\n",
    "```\n",
    "\n",
    "If you are using anaconda and do not have `R` installed, you can install `R` and required packages using commands\n",
    "\n",
    "```\n",
    "conda install -c r r-essentials r-feather\n",
    "conda install -c conda-forge feather-format\n",
    "```\n",
    "\n",
    "although there have been several issues with certain versions of conda (e.g. ([libgcc_s_seh-1.dll under windows](https://github.com/ContinuumIO/anaconda-issues/issues/777) and [missing libreadline under mac](https://github.com/ContinuumIO/anaconda-issues/issues/6312))."
   ]
  },
  {
   "cell_type": "markdown",
   "metadata": {},
   "source": [
    "### <a id=\"Ruby\"></a><img src=\"img/Ruby.png\" style=\"width:32pt;height:32pt;margin-right:15pt;\">Ruby"
   ]
  },
  {
   "cell_type": "markdown",
   "metadata": {},
   "source": [
    "To use Ruby with SoS, you will need to install [iRuby](https://github.com/SciRuby/iruby) by following [iRuby Kernel homepage](https://github.com/SciRuby/iruby). After that, install [daru](https://github.com/SciRuby/daru) and [NMatrix](https://github.com/SciRuby/nmatrix)."
   ]
  },
  {
   "cell_type": "markdown",
   "metadata": {
    "kernel": "SoS"
   },
   "source": [
    "### <a id=\"SAS\"></a><img src=\"img/SAS.png\" style=\"width:32pt;height:32pt;margin-right:15pt;\">SAS"
   ]
  },
  {
   "cell_type": "markdown",
   "metadata": {
    "kernel": "SoS"
   },
   "source": [
    "With a local or remote `SAS` installation of version 9.4 or higher, you will need to install [`sas-kernel`](https://github.com/sassoftware/sas_kernel) and configure it to connect it to your `SAS` installation. \n",
    "\n",
    "**Note:**\n",
    "1. You will need SAS version 9.4 or higher to use `sas_kernel`.\n",
    "2. The SAS Unversity Edition runs a jupyter server inside a Virtual Machine without ssh access. Although you can use this version to learn SAS and Jupyter, it is not possible to use it with SoS.\n",
    "\n",
    "**Note for Windows Users:**\n",
    "1. Please follow the guideline for [configuration](https://sassoftware.github.io/saspy/install.html#configuration). The integrated object method (IOM) connection method is the only option for Windows. \n",
    "2. The paths of `classpath` in sascfg.py (sascfg_personal.py) might need to be updated manually.\n",
    "3. In sascfg.py (sascfg_personal.py), please change `SAS_config_names` to a list only containing one option that you want to use. You cannot choose the `SAS_config_names` in `sos_notebook`. For example, if winlocal is your choice, then simply change the code to `SAS_config_names = ['winlocal']`. "
   ]
  },
  {
   "cell_type": "markdown",
   "metadata": {
    "kernel": "SoS"
   },
   "source": [
    "### <a id=\"TypeScript\"></a><img src=\"img/TypeScript.png\" style=\"width:32pt;height:32pt;margin-right:15pt;\">TypeScript"
   ]
  },
  {
   "cell_type": "markdown",
   "metadata": {
    "kernel": "SoS"
   },
   "source": [
    "After installing [`npm`](https://www.npmjs.com/), [`typescript`](https://www.typescriptlang.org/), you should install the [iTypeScript kernel](https://github.com/nearbydelta/itypescript)."
   ]
  },
  {
   "cell_type": "markdown",
   "metadata": {
    "kernel": "SoS"
   },
   "source": [
    "# Notes"
   ]
  },
  {
   "cell_type": "markdown",
   "metadata": {
    "kernel": "SoS"
   },
   "source": [
    "## Remote access"
   ]
  },
  {
   "cell_type": "markdown",
   "metadata": {
    "kernel": "SoS"
   },
   "source": [
    "One of the advantages of using a Jupyter notebook is the ability to access the notebook remotely. For example, you can start a Jupyter server from your office computer and connect to it from you home (as long as there is no firewall that blocks the assigned port).\n",
    "\n",
    "[The jupyter documentation](http://jupyter-notebook.readthedocs.io/en/latest/public_server.html) provides detailed instructions on how to start a Jupyter notebook server that accepts external connection. Generally speaking, you should run command\n",
    "\n",
    "```python\n",
    ">>> from notebook.auth import passwd\n",
    ">>> passwd()\n",
    "```\n",
    "\n",
    "from a Python shell to get `sha` presentation of a password. Generate a new configuration file (`~/.jupyter/jupyter_notebook_config.py`) with command\n",
    "\n",
    "```\n",
    "jupyter notebook --generate-config\n",
    "```\n",
    "\n",
    "and modify it with lines such as\n",
    "\n",
    "```python\n",
    "c.NotebookApp.ip = '*'\n",
    "c.NotebookApp.password = u'sha1:...<your hashed password here>'\n",
    "c.NotebookApp.open_browser = False\n",
    "c.NotebookApp.port = 8888\n",
    "```\n",
    "\n",
    "Then, after you start your notebook server using command\n",
    "\n",
    "```\n",
    "% jupyter notebook\n",
    "```\n",
    "\n",
    "You should be able to access it remotely with URL\n",
    "\n",
    "```\n",
    "http://url-or-ip-of-notebook-server:8888/\n",
    "```"
   ]
  },
  {
   "cell_type": "markdown",
   "metadata": {
    "kernel": "SoS"
   },
   "source": [
    "## `virtualenv` or `pipenv`"
   ]
  },
  {
   "cell_type": "markdown",
   "metadata": {
    "kernel": "SoS"
   },
   "source": [
    "If you are using virtualenv or pipenv, you might need to remove the `sos` kernel installed globally with command\n",
    "\n",
    "```\n",
    "% jupyter kernelspec remove sos\n",
    "% python -m sos_notebook.install\n",
    "```\n",
    "to install sos for the particular `python` interpreter of the virtual env."
   ]
  },
  {
   "cell_type": "markdown",
   "metadata": {
    "kernel": "SoS"
   },
   "source": [
    "## Windows"
   ]
  },
  {
   "cell_type": "markdown",
   "metadata": {
    "kernel": "SoS"
   },
   "source": [
    "Windows systems lack native support for some of the tools that SoS uses and it is generally more difficult to set up Jupyter kernels for different languages. We therefore do not recommend the use of SoS and SoS Notebook under windows for novice users.\n",
    "\n",
    "The best way to use SoS under windows is to use a Linux subsystem. You could enable [Linux subsystem for windows](https://msdn.microsoft.com/en-us/commandline/wsl/about) if you have a Windows 10 system with Developer Mode enabled, or use one of the Linux subsystems such as [Cygwin](https://www.cygwin.com/), [MinGW](http://www.mingw.org/), or [MSYS2](http://www.msys2.org/). We generally recommend the use of MSYS2 because of its pacman package manage system.\n",
    "\n",
    "To install MSYS2,\n",
    "\n",
    "* Install MSYS2 from [MSYS2 homepage](http://www.msys2.org/)\n",
    "* Start MSYS2, run\n",
    "  ```\n",
    "  $ pacman -S openssh rsync git\n",
    "  ```\n",
    "* Add `c:\\msys64\\usr\\bin` (adapt to your installation) to environment variable `$PATH` so that commands `rsync`, `rcp`, `ssh`, and `git` are available to sos.\n",
    "\n",
    "Note that\n",
    "* This configuration allows executing tasks generated from a windows localhost on remote Linux and Mac OSX hosts (task queues). **Remote execution on a windows host is not yet supported**. \n",
    "* Installation of `git` is optional especially if you already have [git for windows](https://git-scm.com/downloads) installed (which is also based on msys2).\n",
    "* You might want to install [ConEmu](https://conemu.github.io/) as a (much better) replacement for Windows command console.\n",
    "* You will need to set up `$HOME` properly to use ssh and public key authentication with other machines. [This page](https://github.com/valtron/llvm-stuff/wiki/Set-up-Windows-dev-environment-with-MSYS2) provides a nice summary of the steps.\n"
   ]
  }
 ],
 "metadata": {
  "anaconda-cloud": {},
  "kernelspec": {
   "display_name": "SoS",
   "language": "sos",
   "name": "sos"
  },
  "language_info": {
   "codemirror_mode": "sos",
   "file_extension": ".sos",
   "mimetype": "text/x-sos",
   "name": "sos",
   "nbconvert_exporter": "sos_notebook.converter.SoS_Exporter",
   "pygments_lexer": "sos"
  },
  "sos": {
   "celltoolbar": true,
   "default_kernel": "SoS",
   "kernels": [
    [
     "Bash",
     "bash",
     "Bash",
     "#E6EEFF"
    ],
    [
     "Julia",
     "julia-0.6",
     "Julia",
     "#ebd8eb"
    ],
    [
     "Python2",
     "python2",
     "Python2",
     "#FFE771"
    ],
    [
     "Python3",
     "python3",
     "Python3",
     "#FFE771"
    ],
    [
     "R",
     "ir",
     "R",
     "#DCDCDA"
    ],
    [
     "SoS",
     "sos",
     "",
     ""
    ],
    [
     "octave",
     "octave",
     "",
     ""
    ],
    [
     "sas",
     "sas",
     "",
     ""
    ],
    [
     "sqlite3",
     "sqlite3",
     "",
     ""
    ]
   ],
   "panel": {
    "displayed": true,
    "height": 0,
    "style": "side"
   },
   "version": "0.9.15.9"
  },
  "toc": {
   "colors": {
    "hover_highlight": "#DAA520",
    "running_highlight": "#FF0000",
    "selected_highlight": "#FFD700"
   },
   "moveMenuLeft": true,
   "nav_menu": {
    "height": "128px",
    "width": "254px"
   },
   "navigate_menu": true,
   "number_sections": true,
   "sideBar": true,
   "threshold": 4,
   "toc_cell": false,
   "toc_section_display": "block",
   "toc_window_display": false
  }
 },
 "nbformat": 4,
 "nbformat_minor": 2
}
