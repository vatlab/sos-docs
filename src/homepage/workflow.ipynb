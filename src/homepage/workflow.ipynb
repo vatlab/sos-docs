{
 "cells": [
  {
   "cell_type": "markdown",
   "metadata": {
    "kernel": "SoS"
   },
   "source": [
    "# <a id=\"notebook_intro_videos\"></a>Introductory Videos"
   ]
  },
  {
   "cell_type": "markdown",
   "metadata": {
    "kernel": "SoS"
   },
   "source": [
    "<div class=\"container\">\n",
    "    <div class=\"row\">\n",
    "        <div class=\"col-sm-3\">\n",
    "              <div class=\"embed-responsive embed-responsive-16by9\">\n",
    "                   <iframe width=\"560\" height=\"315\" src=\"https://www.youtube.com/embed/E5Eh7BVbbTM?wmode=opaque\" frameborder=\"0\" allowfullscreen></iframe>\n",
    "                   <div class=\"overlay-duration\">14:08</div>\n",
    "              </div>\n",
    "            <p>Basics of SoS workflow system</p>\n",
    "        </div>\n",
    "        <div class=\"col-sm-3\">\n",
    "              <div class=\"embed-responsive embed-responsive-16by9\">\n",
    "                   <iframe width=\"560\" height=\"315\" src=\"https://www.youtube.com/embed/roTDvSXSPgU?wmode=opaque\" frameborder=\"0\" allowfullscreen></iframe>\n",
    "                   <div class=\"overlay-duration\">16:52</div>\n",
    "              </div>\n",
    "            <p>More on SoS workflow system</p>\n",
    "        </div>\n",
    "         <div class=\"col-sm-3\">\n",
    "              <div class=\"embed-responsive embed-responsive-16by9\">\n",
    "                   <iframe width=\"560\" height=\"315\" src=\"https://www.youtube.com/embed/_LSQr3DHBpU?wmode=opaque\" frameborder=\"0\" allowfullscreen></iframe>\n",
    "                   <div class=\"overlay-duration\">16:16</div>\n",
    "              </div>\n",
    "             <p>Use SoS in SoS Notebook</p>\n",
    "        </div>\n",
    "    </div>    \n",
    "</div>"
   ]
  },
  {
   "cell_type": "markdown",
   "metadata": {
    "kernel": "SoS"
   },
   "source": [
    "# Documentation"
   ]
  },
  {
   "cell_type": "markdown",
   "metadata": {
    "kernel": "SoS"
   },
   "source": [
    "The following tutorials are under development and we indicate the readiness of guides with <i class='fa fa-check-circle' style='color:lightgray;'></i> (not ready), <i class='fa fa-check-circle' style='color:orange;'></i> (in progress), and <i class='fa fa-check-circle' style='color:green;'></i> (ready). There are a lot to cover and there will be typos and errors here and there. If you spot an error or feel like contributing to the document, please \n",
    "\n",
    "1. Click the &nbsp; <i class=\"fa fa-edit fa-2x\"></i> &nbsp; button to the top right corner of each tutorial\n",
    "2. Execute the notebook and edit it on our live server\n",
    "3. Enter `!create-pr <Shift-Enter>` in the console panel to send us a PR"
   ]
  },
  {
   "cell_type": "markdown",
   "metadata": {
    "kernel": "SoS"
   },
   "source": [
    "## The essentials \n",
    "\n",
    " * <i class='fa-li fa fa-check-circle' style='color:green;'></i> [Getting started](doc/user_guide/sos_in_notebook.html)\n",
    " * <i class='fa-li fa fa-check-circle' style='color:green;'></i> [Inclusion of scripts](doc/user_guide/scripts_in_sos.html)\n",
    " * <i class='fa-li fa fa-check-circle' style='color:green;'></i> [Using variables and parameters](doc/user_guide/parameters.html)\n",
    " * <i class='fa-li fa fa-check-circle' style='color:green;'></i> [Step input, output, and substeps](doc/user_guide/input_substeps.html)\n",
    " * <i class='fa-li fa fa-check-circle' style='color:green;'></i> [Basic SoS workflows](doc/user_guide/forward_workflow.html)\n",
    " * <i class='fa-li fa fa-check-circle' style='color:green;'></i> [Using SoS Notebook for daily data analysis](doc/user_guide/organize_scripts.html)"
   ]
  },
  {
   "cell_type": "markdown",
   "metadata": {
    "kernel": "SoS"
   },
   "source": [
    "## SoS Actions \n",
    " * <i class='fa-li fa fa-check-circle' style='color:lightgray;'></i> [Executing shell scripts](doc/user_guide/shell_actions.html)\n",
    " * <i class='fa-li fa fa-check-circle' style='color:orange;'></i> [Executing scripts in Python, R, and others](doc/user_guide/script_actions.html)\n",
    " * <i class='fa-li fa fa-check-circle' style='color:lightgray;'></i> [Passing additional parameters to interpreters](doc/user_guide/action_param.html)\n",
    " * <i class='fa-li fa fa-check-circle' style='color:orange;'></i> [Generating plain-text reports](doc/user_guide/report_action.html)\n",
    " * <i class='fa-li fa fa-check-circle' style='color:lightgray;'></i> [Generate HTML reports](doc/user_guide/html_report_actions.html)\n",
    " * <i class='fa-li fa fa-check-circle' style='color:orange;'></i> [Downloading files](doc/user_guide/download_actions.html)\n",
    " * <i class='fa-li fa fa-check-circle' style='color:lightgray;'></i> [Control structure in substeps](doc/user_guide/control_actions.html)\n",
    " * <i class='fa-li fa fa-check-circle' style='color:lightgray;'></i> [Running scripts in docker](doc/user_guide/docker.html)\n",
    " * <i class='fa-li fa fa-check-circle' style='color:lightgray;'></i> [Building docker images](doc/user_guide/docker_build_action.html)\n",
    " * <i class='fa-li fa fa-check-circle' style='color:lightgray;'></i> [Running scripts in singularity](doc/user_guide/singularity.html)"
   ]
  },
  {
   "cell_type": "markdown",
   "metadata": {
    "kernel": "SoS"
   },
   "source": [
    "## SoS Steps\n",
    "\n",
    " * <i class='fa-li fa fa-check-circle' style='color:green;'></i> [Defining step inputs](doc/user_guide/input_statement.html)\n",
    " * <i class='fa-li fa fa-check-circle' style='color:green;'></i> [Defining step output](doc/user_guide/output_statement.html)\n",
    " * <i class='fa-li fa fa-check-circle' style='color:green;'></i> [Defining step dependencies](doc/user_guide/depends_statement.html) \n",
    " * <i class='fa-li fa fa-check-circle' style='color:orange;'></i> [Formatting paths](doc/user_guide/path_formatting.html) \n",
    " * <i class='fa-li fa fa-check-circle' style='color:green;'></i> [Scope of variables](doc/user_guide/step_variables.html)\n",
    " * <i class='fa-li fa fa-check-circle' style='color:lightgray;'></i> [SoS \"targets\"](doc/user_guide/targets.html) \n",
    " * <i class='fa-li fa fa-check-circle' style='color:green;'></i> [Named input and output](doc/user_guide/target_label.html)\n",
    " * <i class='fa-li fa fa-check-circle' style='color:orange;'></i> [Grouping input files](doc/user_guide/group_by.html)\n",
    " * <i class='fa-li fa fa-check-circle' style='color:orange;'></i> [Repeating substeps with different variables](doc/user_guide/for_each.html)\n",
    " * <i class='fa-li fa fa-check-circle' style='color:lightgray;'></i> [Attaching variables to targets](doc/user_guide/paired_group_with.html) \n",
    " * <i class='fa-li fa fa-check-circle' style='color:lightgray;'></i> [Extracting variables from filenames](doc/user_guide/input_pattern.html) \n",
    " * <i class='fa-li fa fa-check-circle' style='color:lightgray;'></i> [Dynamic input and output files](doc/user_guide/dynamic.html) \n",
    " * <i class='fa-li fa fa-check-circle' style='color:lightgray;'></i> [Removing intermediate files](doc/user_guide/zap.html) \n",
    " * <i class='fa-li fa fa-check-circle' style='color:lightgray;'></i> [Changing `$PATH`](doc/user_guide/action_env.html) \n",
    " * <i class='fa-li fa fa-check-circle' style='color:lightgray;'></i> [Redirecting input and output](doc/user_guide/action_input_output.html) \n",
    " * <i class='fa-li fa fa-check-circle' style='color:green;'></i> [Running substeps sequentially](doc/user_guide/concurrent_substep.html)\n",
    " * <i class='fa-li fa fa-check-circle' style='color:lightgray;'></i> [Attaching variables with step output](doc/user_guide/output_groups_vars.html) \n"
   ]
  },
  {
   "cell_type": "markdown",
   "metadata": {
    "kernel": "SoS"
   },
   "source": [
    "## Defining workflows\n",
    "How to define process-oriented and outcome-oriented workflows\n",
    "\n",
    " * <i class='fa-li fa fa-check-circle' style='color:green;'></i> [Creating dependencies](doc/user_guide/step_dependencies.html)\n",
    " * <i class='fa-li fa fa-check-circle' style='color:lightgray;'></i> [Defining workflows](doc/user_guide/multi_workflow.html) \n",
    " * <i class='fa-li fa fa-check-circle' style='color:orange;'></i> [Adding help messages](doc/user_guide/comment_help.html) \n",
    " * <i class='fa-li fa fa-check-circle' style='color:lightgray;'></i> [Nested workflow](doc/user_guide/nested_workflow.html)\n",
    " * <i class='fa-li fa fa-check-circle' style='color:green;'></i> [Data-flow style workflows](doc/user_guide/data_flow.html)\n",
    " * <i class='fa-li fa fa-check-circle' style='color:green;'></i> [Using `named_output()`](doc/user_guide/named_output.html) \n",
    " * <i class='fa-li fa fa-check-circle' style='color:lightgray;'></i> [Makefile-style pattern-matching rules](doc/user_guide/auxiliary_steps.html)\n",
    " * <i class='fa-li fa fa-check-circle' style='color:lightgray;'></i> [Sharing variables across steps](doc/user_guide/shared_variables.html) \n",
    " * <i class='fa-li fa fa-check-circle' style='color:green;'></i> [Using `output_from()`](doc/user_guide/output_from.html) \n",
    " * <i class='fa-li fa fa-check-circle' style='color:green;'></i> [Target `sos_step`](doc/user_guide/target_sos_step.html) \n",
    " * <i class='fa-li fa fa-check-circle' style='color:lightgray;'></i> [Defining steps in separate files](doc/user_guide/external_scripts.html) \n"
   ]
  },
  {
   "cell_type": "markdown",
   "metadata": {
    "kernel": "SoS"
   },
   "source": [
    "## Executing workflows\n",
    " * <i class='fa-li fa fa-check-circle' style='color:green;'></i> [Controlling verbosity of output and number of workers](doc/user_guide/verbosity_and_jobs.html)\n",
    " * <i class='fa-li fa fa-check-circle' style='color:lightgray;'></i> [Creating workflows from targets](doc/user_guide/target_oriented.html)\n",
    " * <i class='fa-li fa fa-check-circle' style='color:lightgray;'></i> [Using runtime signature](doc/user_guide/signature.html)\n",
    " * <i class='fa-li fa fa-check-circle' style='color:green;'></i> [Tracing dependencies of existing targets](doc/user_guide/trace_dependency.html)\n",
    " * <i class='fa-li fa fa-check-circle' style='color:lightgray;'></i> [Running workflows in `dryrun` mode](doc/user_guide/dryrun.html)\n",
    " * <i class='fa-li fa fa-check-circle' style='color:green;'></i> [Running workflows on cluster systems](doc/user_guide/cluster.html) \n",
    " * <i class='fa-li fa fa-check-circle' style='color:orange;'></i> [Workflow reports](doc/user_guide/workflow_summary.html)\n",
    " * <i class='fa-li fa fa-check-circle' style='color:lightgray;'></i> [Remote execution](doc/user_guide/remote_execution.html) \n"
   ]
  },
  {
   "cell_type": "markdown",
   "metadata": {
    "kernel": "SoS"
   },
   "source": [
    "## External tasks\n",
    "   \n",
    " * <i class='fa-li fa fa-check-circle' style='color:orange;'></i> [Running external tasks](doc/user_guide/tasks.html)\n",
    " * <i class='fa-li fa fa-check-circle' style='color:green;'></i> [Grouping tasks](doc/user_guide/trunk_size.html)\n",
    " * <i class='fa-li fa fa-check-circle' style='color:lightgray;'></i> [Task tags](doc/user_guide/task_tags.html)\n",
    " * <i class='fa-li fa fa-check-circle' style='color:lightgray;'></i> [Remote execution of tasks](doc/user_guide/remote_tasks.html)\n",
    " * <i class='fa-li fa fa-check-circle' style='color:lightgray;'></i> [Remote host configuration](doc/user_guide/host_setup.html) \n",
    " * <i class='fa-li fa fa-check-circle' style='color:orange;'></i> [Specifying resources](doc/user_guide/resources.html) \n",
    " * <i class='fa-li fa fa-check-circle' style='color:lightgray;'></i> [Using multiple task queues](doc/user_guide/multi_queues.html) \n",
    " * <i class='fa-li fa fa-check-circle' style='color:lightgray;'></i> [Using remote filesystems](doc/user_guide/remote_filesystem.html) \n",
    " * <i class='fa-li fa fa-check-circle' style='color:lightgray;'></i> [Syncing files across filesystems](doc/user_guide/file_synchronization.html) \n",
    " * <i class='fa-li fa fa-check-circle' style='color:lightgray;'></i> [Working with PBS/Torque](doc/user_guide/pbs.html) \n",
    " * <i class='fa-li fa fa-check-circle' style='color:lightgray;'></i> [Working with IBM/LSF](doc/user_guide/lsf.html) \n",
    " * <i class='fa-li fa fa-check-circle' style='color:lightgray;'></i> [Working with Slurm](doc/user_guide/slurm.html) \n",
    " * <i class='fa-li fa fa-check-circle' style='color:lightgray;'></i> [Working with RQ](doc/user_guide/rq.html) \n",
    " * <i class='fa-li fa fa-check-circle' style='color:lightgray;'></i> [Working with a non-conventional PBS system](doc/user_guide/other_pbs.html) \n",
    " * <i class='fa-li fa fa-check-circle' style='color:lightgray;'></i> [Monitoring task status](doc/user_guide/task_status.html)\n",
    " * <i class='fa-li fa fa-check-circle' style='color:lightgray;'></i> [Killing and removing tasks](doc/user_guide/kill_purge.html)\n",
    " * <i class='fa-li fa fa-check-circle' style='color:lightgray;'></i> [Debugging failed tasks](doc/user_guide/task_error.html)\n"
   ]
  },
  {
   "cell_type": "markdown",
   "metadata": {
    "kernel": "SoS"
   },
   "source": [
    "## The technical details\n",
    "\n",
    " * <i class='fa-li fa fa-check-circle' style='color:lightgray;'></i> [Glossary and file format specification](doc/user_guide/terms_and_format.html)\n",
    " * <i class='fa-li fa fa-check-circle' style='color:green;'></i> [Configuration files](doc/user_guide/config_files.html)\n",
    " * <i class='fa-li fa fa-check-circle' style='color:orange;'></i> [Command line interface](doc/user_guide/cli.html)\n",
    " * <i class='fa-li fa fa-check-circle' style='color:lightgray;'></i> [SoS Actions](doc/user_guide/sos_actions.html)\n",
    " * <i class='fa-li fa fa-check-circle' style='color:lightgray;'></i> [Parameter `group_by`](doc/user_guide/ref_group_by.html)\n",
    " * <i class='fa-li fa fa-check-circle' style='color:lightgray;'></i> [SoS Data Types](doc/user_guide/sos_datatypes.html)\n",
    " * <i class='fa-li fa fa-check-circle' style='color:lightgray;'></i> [SoS functions](doc/user_guide/sos_functions.html)\n",
    " * <i class='fa-li fa fa-check-circle' style='color:lightgray;'></i> [Remote queue configurations](doc/user_guide/queue_options.html)\n",
    " * <i class='fa-li fa fa-check-circle' style='color:lightgray;'></i> [Task options](doc/user_guide/task_options.html)\n",
    " * <i class='fa-li fa fa-check-circle' style='color:lightgray;'></i> [Extending SoS](doc/user_guide/extending_sos.html)\n"
   ]
  },
  {
   "cell_type": "markdown",
   "metadata": {
    "kernel": "SoS"
   },
   "source": [
    "## Miscellaneous topics\n",
    "\n",
    " * <i class='fa-li fa fa-check-circle' style='color:lightgray;'></i> [Syntax hilighting in vim](doc/user_guide/vim.html)\n",
    " * <i class='fa-li fa fa-check-circle' style='color:lightgray;'></i> [Converting between SoS notebook and SoS scripts](doc/user_guide/convert.html)\n",
    " * <i class='fa-li fa fa-check-circle' style='color:lightgray;'></i> [Exporting SoS Notebook](doc/user_guide/export.html)\n",
    " * <i class='fa-li fa fa-check-circle' style='color:lightgray;'></i> [HTML report of SoS script](doc/user_guide/show_script.html)\n"
   ]
  },
  {
   "cell_type": "markdown",
   "metadata": {
    "kernel": "SoS"
   },
   "source": [
    "#  Publication\n",
    "\n",
    "Please cite the following publication if you use SoS workflow engine for your work:\n",
    "\n",
    "[**Script of Scripts: a pragmatic workflow system for daily computational research**](https://doi.org/10.1371/journal.pcbi.1006843)\n",
    "<small>Gao Wang and Bo Peng (2019) <em> PLoS Computational Biology</em>. doi: 10.1371/journal.pcbi.1006843</small>\n",
    "\n",
    "Here are a list of examples from the publication:\n",
    "\n",
    "* <i class='fa-li fa fa-check-circle' style='color:gray;'></i> [Process_Oriented.sos](doc/examples/Process_Oriented.html) ([script](doc/examples/Process_Oriented.sos))<br>\n",
    "  <small>Demonstration of a process_oriented forward-style workflow that executes steps in pre-sepecified order.</small>\n",
    "* <i class='fa-li fa fa-check-circle' style='color:gray;'></i> [Process_Oriented_Modular.sos](doc/examples/Process_Oriented_Modular.html) ([script](doc/examples/Process_Oriented_Modular.sos))<br>\n",
    "  <small>Same example as above with codes for core computations stored as separate scripts.</small>\n",
    "* <i class='fa-li fa fa-check-circle' style='color:gray;'></i> [Outcome_Oriented.sos](doc/examples/Outcome_Oriented.html) ([script](doc/examples/Outcome_Oriented.sos))<br>\n",
    "  <small>Demonstration of a outcome-oriented Makefile-style workflow that executes steps that are needed to generate specified outcome.</small>\n",
    "* <i class='fa-li fa fa-check-circle' style='color:gray;'></i> [Outcome_Oriented_Step_Targets.sos](doc/examples/Outcome_Oriented_Step_Targets.html) ([script](doc/examples/Outcome_Oriented.sos))<br>\n",
    "  <small>Demonstration of a outcome-oriented Makefile-style workflow that determines and executes dependencies by step targets instead of files.</small>\n",
    "* <i class='fa-li fa fa-check-circle' style='color:gray;'></i> [Mixed_Style.sos](doc/examples/Mixed_Style.html) ([script](doc/examples/Mixed_Style.sos))<br>\n",
    "  <small>Demonstration of a mixed-style workflow that executes steps of a forward-step workflow with dependencies produced by auxiliary steps.</small>\n",
    "* <i class='fa-li fa fa-check-circle' style='color:gray;'></i> [Mixed_Style_Data_Flow.sos](doc/examples/Mixed_Style_Data_Flow.html) ([script](doc/examples/Mixed_Style_Data_Flow.sos))<br>\n",
    "  <small>Demonstration of a mixed-style workflow that executes steps of a forward-step workflow with dependencies specified by named outputs.</small>\n",
    "* <i class='fa-li fa fa-check-circle' style='color:gray;'></i> [Next-generation sequencing genotyping pipeline](doc/examples/WGS_Call.html) ([notebook](doc/examples/WGS_Call.ipynb))<br>\n",
    "  <small>This is the SoS version of the <a href=\"http://www.htslib.org/workflow/#mapping_to_variant\">samtools workflow: WGS/WES Mapping to Variant Calls - Version 1.0</a></small>\n",
    "* <i class='fa-li fa fa-check-circle' style='color:gray;'></i> [RNA Seq Differential Expression Analysis Workflow](doc/examples/RNASeqDE.html) ([notebook](doc/examples/RNASeqDE.ipynb) and [generated report](doc/examples/RNASeqDE_report.html))<br>\n",
    "  <small>This is the SoS version of the <a href=\"https://www.bioconductor.org/help/workflows/rnaseqGene/\">RNA-seq workflow: gene-level exploratory analysis and differential expression</a> from bioconductor.</small>\n",
    "* <i class='fa-li fa fa-check-circle' style='color:gray;'></i> [RNA Seq Normalization and Expression Residuals Analysis Workflow](doc/examples/RNASeqGTEx.html) ([notebook](doc/examples/RNASeqGTEx.ipynb) and [generated report](doc/examples/RNASeqGTEx_report.html))<br>\n",
    "  <small>This is the SoS version of the RNA-seq preprocessing step of <a href=\"https://github.com/broadinstitute/gtex-pipeline/tree/63b13b8ced25cf8ab8e7a26f40a495e523630a9b/qtl\">eQTL discovery pipeline</a> from the <a href=\"https://www.gtexportal.org/home/\"> GTEx Consortium </a>, updated July 31, 2017.</small>  \n",
    "\n",
    "Please [follow instructions here](doc/examples/Workflow_Manuscript_Examples.html) to reproduce all but the last (due to data accessibility restrictions) examples."
   ]
  },
  {
   "cell_type": "markdown",
   "metadata": {
    "kernel": "SoS"
   },
   "source": [
    "# Example Scripts and workflow notebooks\n",
    "\n",
    "SoS scripts for the maintenance of SoS\n",
    "\n",
    "* <i class='fa-li fa fa-check-circle' style='color:gray;'></i> [update_toc.sos](doc/examples/update_toc.html) ([script](doc/examples/update_toc.sos))<br>\n",
    "   <small>A sos script that was used by SoS to update TOC of the wiki pages</small>\n",
    "* <i class='fa-li fa fa-check-circle' style='color:gray;'></i> [release](doc/examples/release.html) ([script](doc/examples/release))<br>\n",
    "   <small>Script to manage SoS website and release SoS to pip, docker hub, etc</small>\n",
    "\n",
    "Pedagogical examples\n",
    "\n",
    "* <i class='fa-li fa fa-check-circle' style='color:gray;'></i> [DEG Annotation with external task](doc/examples/DEG_Annotation_remote.html) ([notebook](doc/examples/DEG_Annotation_remote.ipynb))<br>\n",
    "  <small>The same example but submit the R part of the workflow as an external task</small>\n",
    "* <i class='fa-li fa fa-check-circle' style='color:gray;'></i> [Simple External Tasks](doc/examples/LineCount.html) ([notebook](doc/examples/LineCount.ipynb))<br>\n",
    "  <small>An example to generate and execute a number of external tasks in Jupyter notebook. You can try to use option <code>trunk_size</code> to group the tasks. This example also demonstrates the use of option <code>shared</code> to collect results from tasks as variables</small>\n",
    "* <i class='fa-li fa fa-check-circle' style='color:gray;'></i> [Remote Target](doc/examples/Remote_Target.html) ([notebook](doc/examples/Remote_Target.ipynb))<br>\n",
    "  <small>An example on the analysis of targets that reside on remote servers using target <code>remote()</code> and step option <code>remote</code></small>\n",
    "  \n",
    "Real-world applications\n",
    "\n",
    "* <i class='fa-li fa fa-check-circle' style='color:gray;'></i>  [Data preprocessing for TADA-A R analysis](https://github.com/TADA-A/TADA-A/blob/master/external_tools/mutation_annotation_pipeline.ipynb), for Liu et al 2018, American Journal of Human Genetics.\n",
    "* <i class='fa-li fa fa-check-circle' style='color:gray;'></i>  [Data preprocessing for MASH R analysis](https://github.com/stephenslab/gtexresults/blob/master/workflows/fastqtl_to_mash.ipynb) and [Multivariate eQTL analysis pipeline](https://gaow.github.io/mnm-gtex-v8/analysis/mashr_flashr_workflow.html), for Urbut et al 2018, Nature Genetics."
   ]
  }
 ],
 "metadata": {
  "anaconda-cloud": {},
  "kernelspec": {
   "display_name": "SoS",
   "language": "sos",
   "name": "sos"
  },
  "language_info": {
   "codemirror_mode": "sos",
   "file_extension": ".sos",
   "mimetype": "text/x-sos",
   "name": "sos",
   "nbconvert_exporter": "sos_notebook.converter.SoS_Exporter",
   "pygments_lexer": "sos"
  },
  "sos": {
   "celltoolbar": true,
   "default_kernel": "SoS",
   "kernels": [],
   "panel": {
    "displayed": true,
    "height": 0,
    "style": "side"
   },
   "version": "0.19.14"
  },
  "toc": {
   "colors": {
    "hover_highlight": "#DAA520",
    "running_highlight": "#FF0000",
    "selected_highlight": "#FFD700"
   },
   "moveMenuLeft": true,
   "nav_menu": {
    "height": "45px",
    "width": "254px"
   },
   "navigate_menu": true,
   "number_sections": true,
   "sideBar": true,
   "threshold": 4,
   "toc_cell": false,
   "toc_section_display": "block",
   "toc_window_display": true
  }
 },
 "nbformat": 4,
 "nbformat_minor": 4
}
