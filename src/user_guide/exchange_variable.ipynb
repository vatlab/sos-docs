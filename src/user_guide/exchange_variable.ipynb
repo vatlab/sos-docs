{
 "cells": [
  {
   "cell_type": "markdown",
   "metadata": {
    "kernel": "SoS"
   },
   "source": [
    "# How to exchange variables among kernels"
   ]
  },
  {
   "cell_type": "markdown",
   "metadata": {
    "kernel": "SoS"
   },
   "source": [
    "* **Difficulty level**: easy\n",
    "* **Time need to lean**: 15 minutes or less\n",
    "* **Key points**:\n",
    "  * Passing data across kernels allows you to use the best tool of each language\n",
    "  * Magic `%get` get variable from another kernel\n",
    "  * Magic `%put` put variables to another kernel\n",
    "  * Variables with names starting with `sos` are automatically transferred\n",
    "  * Magic `%with` execute the cell in another kernel with input and output variables  "
   ]
  },
  {
   "cell_type": "markdown",
   "metadata": {
    "kernel": "SoS"
   },
   "source": [
    "A SoS notebook can have multiple live kernels with SoS serving as the master kernel to all other kernels (called subkernels). As described in [this tutorial](expand_capture_render.html), SoS can process input and output of subkernels without knowing what they actually do. However, if SoS knows what the kernels do via appropriate language modules, it provides much more powerful ways to communicate with the kernels, the most important of which is the exchange of variables among subkernels."
   ]
  },
  {
   "cell_type": "markdown",
   "metadata": {
    "kernel": "SoS"
   },
   "source": [
    "## Basic concepts"
   ]
  },
  {
   "cell_type": "markdown",
   "metadata": {
    "kernel": "SoS"
   },
   "source": [
    "Before we get to the actual magics on how to exchange variables between kernels, it is helpful to understand that, **SoS does not tranfer any variables among kernels, it creates independent homonymous variables of similar types that are native to the destination language**. For example, if you have the following two variables\n",
    "\n",
    "```R\n",
    "a = 1\n",
    "b = c(1, 2)\n",
    "```\n",
    "\n",
    "in R and executes a magic \n",
    "\n",
    "```Python\n",
    "%get a b --from R\n",
    "```\n",
    "in a SoS cell, SoS actually execute the following statements, in the background, to create variables `a` and `b` in Python\n",
    "\n",
    "```Python\n",
    "a = 1\n",
    "b = [1, 2]\n",
    "```\n",
    "\n",
    "As shown in the following figure, language modules try to choose the best method, sometimes in memory and sometimes via disk, to pass variables from one to another kernel, but all the complexity is hidden from you. Variables in different kernels are independent so that changing the value of variables `a` or `b` in one kernel will not affect the variable in another kernel. We also note that `a` and `b` are of different types in Python although they are of the same `numeric` type in `R` (`a` is technically speaking an array of size 1). That is to say, **SoS does not gurantee one to one correspondence between datatypes, and does not gurantee lossless data exchange**.\n",
    "\n",
    "\n",
    "![user_interface](../media/data_exchange.png)"
   ]
  },
  {
   "cell_type": "markdown",
   "metadata": {
    "kernel": "SoS"
   },
   "source": [
    "### Explicit data exchange with magic `%get`"
   ]
  },
  {
   "cell_type": "markdown",
   "metadata": {
    "kernel": "SoS"
   },
   "source": [
    "The eastest way to get variable from another kernel is to use magic `%get`. It accepts one or more variable names and an option `--from` if you are not getting from the master `SoS` kernel.\n",
    "\n",
    "For example, with a variable `data` defined in SoS,"
   ]
  },
  {
   "cell_type": "code",
   "execution_count": 17,
   "metadata": {
    "kernel": "SoS"
   },
   "outputs": [],
   "source": [
    "data = [-1, 0, 1, 2, 3]\n",
    "filename = 'test.txt'"
   ]
  },
  {
   "cell_type": "markdown",
   "metadata": {
    "kernel": "SoS"
   },
   "source": [
    "you can `%get` the variables in a R kernel as follows"
   ]
  },
  {
   "cell_type": "code",
   "execution_count": 18,
   "metadata": {
    "kernel": "R"
   },
   "outputs": [
    {
     "data": {
      "text/html": [
       "<ol class=list-inline>\n",
       "\t<li>-1</li>\n",
       "\t<li>0</li>\n",
       "\t<li>1</li>\n",
       "\t<li>2</li>\n",
       "\t<li>3</li>\n",
       "</ol>\n"
      ],
      "text/latex": [
       "\\begin{enumerate*}\n",
       "\\item -1\n",
       "\\item 0\n",
       "\\item 1\n",
       "\\item 2\n",
       "\\item 3\n",
       "\\end{enumerate*}\n"
      ],
      "text/markdown": [
       "1. -1\n",
       "2. 0\n",
       "3. 1\n",
       "4. 2\n",
       "5. 3\n",
       "\n",
       "\n"
      ],
      "text/plain": [
       "[1] -1  0  1  2  3"
      ]
     },
     "metadata": {},
     "output_type": "display_data"
    }
   ],
   "source": [
    "%get data filename\n",
    "data"
   ]
  },
  {
   "cell_type": "code",
   "execution_count": 19,
   "metadata": {
    "kernel": "R"
   },
   "outputs": [
    {
     "data": {
      "text/html": [
       "'test.txt'"
      ],
      "text/latex": [
       "'test.txt'"
      ],
      "text/markdown": [
       "'test.txt'"
      ],
      "text/plain": [
       "[1] \"test.txt\""
      ]
     },
     "metadata": {},
     "output_type": "display_data"
    }
   ],
   "source": [
    "filename"
   ]
  },
  {
   "cell_type": "markdown",
   "metadata": {
    "kernel": "SoS"
   },
   "source": [
    "The type of the data is `numeric` because `data` is a numeric list in Python"
   ]
  },
  {
   "cell_type": "code",
   "execution_count": 39,
   "metadata": {
    "kernel": "R"
   },
   "outputs": [
    {
     "data": {
      "text/html": [
       "'numeric'"
      ],
      "text/latex": [
       "'numeric'"
      ],
      "text/markdown": [
       "'numeric'"
      ],
      "text/plain": [
       "[1] \"numeric\""
      ]
     },
     "metadata": {},
     "output_type": "display_data"
    }
   ],
   "source": [
    "class(data)"
   ]
  },
  {
   "cell_type": "markdown",
   "metadata": {
    "kernel": "R"
   },
   "source": [
    "However, if the variable contains different types of data, for example integer and string,"
   ]
  },
  {
   "cell_type": "code",
   "execution_count": 1,
   "metadata": {
    "kernel": "SoS"
   },
   "outputs": [],
   "source": [
    "data_mixed = [1, 'abs']"
   ]
  },
  {
   "cell_type": "markdown",
   "metadata": {
    "kernel": "SoS"
   },
   "source": [
    "It will be translated to a list in R"
   ]
  },
  {
   "cell_type": "code",
   "execution_count": 2,
   "metadata": {
    "kernel": "R"
   },
   "outputs": [
    {
     "data": {
      "text/html": [
       "<ol>\n",
       "\t<li>1</li>\n",
       "\t<li>'abs'</li>\n",
       "</ol>\n"
      ],
      "text/latex": [
       "\\begin{enumerate}\n",
       "\\item 1\n",
       "\\item 'abs'\n",
       "\\end{enumerate}\n"
      ],
      "text/markdown": [
       "1. 1\n",
       "2. 'abs'\n",
       "\n",
       "\n"
      ],
      "text/plain": [
       "[[1]]\n",
       "[1] 1\n",
       "\n",
       "[[2]]\n",
       "[1] \"abs\"\n"
      ]
     },
     "metadata": {},
     "output_type": "display_data"
    }
   ],
   "source": [
    "%get data_mixed\n",
    "data_mixed"
   ]
  },
  {
   "cell_type": "code",
   "execution_count": 3,
   "metadata": {
    "kernel": "R"
   },
   "outputs": [
    {
     "data": {
      "text/html": [
       "'list'"
      ],
      "text/latex": [
       "'list'"
      ],
      "text/markdown": [
       "'list'"
      ],
      "text/plain": [
       "[1] \"list\""
      ]
     },
     "metadata": {},
     "output_type": "display_data"
    }
   ],
   "source": [
    "class(data_mixed)"
   ]
  },
  {
   "cell_type": "markdown",
   "metadata": {
    "kernel": "R"
   },
   "source": [
    "Similarly, you can get a `data.frame` `mtcars` from R in SoS, but an option `--from R` is needed to specify the source kernel"
   ]
  },
  {
   "cell_type": "code",
   "execution_count": 4,
   "metadata": {
    "kernel": "SoS"
   },
   "outputs": [
    {
     "data": {
      "text/html": [
       "<div>\n",
       "<style scoped>\n",
       "    .dataframe tbody tr th:only-of-type {\n",
       "        vertical-align: middle;\n",
       "    }\n",
       "\n",
       "    .dataframe tbody tr th {\n",
       "        vertical-align: top;\n",
       "    }\n",
       "\n",
       "    .dataframe thead th {\n",
       "        text-align: right;\n",
       "    }\n",
       "</style>\n",
       "<table border=\"1\" class=\"dataframe\">\n",
       "  <thead>\n",
       "    <tr style=\"text-align: right;\">\n",
       "      <th></th>\n",
       "      <th>mpg</th>\n",
       "      <th>cyl</th>\n",
       "      <th>disp</th>\n",
       "      <th>hp</th>\n",
       "      <th>drat</th>\n",
       "      <th>wt</th>\n",
       "      <th>qsec</th>\n",
       "      <th>vs</th>\n",
       "      <th>am</th>\n",
       "      <th>gear</th>\n",
       "      <th>carb</th>\n",
       "    </tr>\n",
       "  </thead>\n",
       "  <tbody>\n",
       "    <tr>\n",
       "      <th>Mazda RX4</th>\n",
       "      <td>21.0</td>\n",
       "      <td>6.0</td>\n",
       "      <td>160.0</td>\n",
       "      <td>110.0</td>\n",
       "      <td>3.90</td>\n",
       "      <td>2.620</td>\n",
       "      <td>16.46</td>\n",
       "      <td>0.0</td>\n",
       "      <td>1.0</td>\n",
       "      <td>4.0</td>\n",
       "      <td>4.0</td>\n",
       "    </tr>\n",
       "    <tr>\n",
       "      <th>Mazda RX4 Wag</th>\n",
       "      <td>21.0</td>\n",
       "      <td>6.0</td>\n",
       "      <td>160.0</td>\n",
       "      <td>110.0</td>\n",
       "      <td>3.90</td>\n",
       "      <td>2.875</td>\n",
       "      <td>17.02</td>\n",
       "      <td>0.0</td>\n",
       "      <td>1.0</td>\n",
       "      <td>4.0</td>\n",
       "      <td>4.0</td>\n",
       "    </tr>\n",
       "    <tr>\n",
       "      <th>Datsun 710</th>\n",
       "      <td>22.8</td>\n",
       "      <td>4.0</td>\n",
       "      <td>108.0</td>\n",
       "      <td>93.0</td>\n",
       "      <td>3.85</td>\n",
       "      <td>2.320</td>\n",
       "      <td>18.61</td>\n",
       "      <td>1.0</td>\n",
       "      <td>1.0</td>\n",
       "      <td>4.0</td>\n",
       "      <td>1.0</td>\n",
       "    </tr>\n",
       "    <tr>\n",
       "      <th>Hornet 4 Drive</th>\n",
       "      <td>21.4</td>\n",
       "      <td>6.0</td>\n",
       "      <td>258.0</td>\n",
       "      <td>110.0</td>\n",
       "      <td>3.08</td>\n",
       "      <td>3.215</td>\n",
       "      <td>19.44</td>\n",
       "      <td>1.0</td>\n",
       "      <td>0.0</td>\n",
       "      <td>3.0</td>\n",
       "      <td>1.0</td>\n",
       "    </tr>\n",
       "    <tr>\n",
       "      <th>Hornet Sportabout</th>\n",
       "      <td>18.7</td>\n",
       "      <td>8.0</td>\n",
       "      <td>360.0</td>\n",
       "      <td>175.0</td>\n",
       "      <td>3.15</td>\n",
       "      <td>3.440</td>\n",
       "      <td>17.02</td>\n",
       "      <td>0.0</td>\n",
       "      <td>0.0</td>\n",
       "      <td>3.0</td>\n",
       "      <td>2.0</td>\n",
       "    </tr>\n",
       "    <tr>\n",
       "      <th>Valiant</th>\n",
       "      <td>18.1</td>\n",
       "      <td>6.0</td>\n",
       "      <td>225.0</td>\n",
       "      <td>105.0</td>\n",
       "      <td>2.76</td>\n",
       "      <td>3.460</td>\n",
       "      <td>20.22</td>\n",
       "      <td>1.0</td>\n",
       "      <td>0.0</td>\n",
       "      <td>3.0</td>\n",
       "      <td>1.0</td>\n",
       "    </tr>\n",
       "    <tr>\n",
       "      <th>Duster 360</th>\n",
       "      <td>14.3</td>\n",
       "      <td>8.0</td>\n",
       "      <td>360.0</td>\n",
       "      <td>245.0</td>\n",
       "      <td>3.21</td>\n",
       "      <td>3.570</td>\n",
       "      <td>15.84</td>\n",
       "      <td>0.0</td>\n",
       "      <td>0.0</td>\n",
       "      <td>3.0</td>\n",
       "      <td>4.0</td>\n",
       "    </tr>\n",
       "    <tr>\n",
       "      <th>Merc 240D</th>\n",
       "      <td>24.4</td>\n",
       "      <td>4.0</td>\n",
       "      <td>146.7</td>\n",
       "      <td>62.0</td>\n",
       "      <td>3.69</td>\n",
       "      <td>3.190</td>\n",
       "      <td>20.00</td>\n",
       "      <td>1.0</td>\n",
       "      <td>0.0</td>\n",
       "      <td>4.0</td>\n",
       "      <td>2.0</td>\n",
       "    </tr>\n",
       "    <tr>\n",
       "      <th>Merc 230</th>\n",
       "      <td>22.8</td>\n",
       "      <td>4.0</td>\n",
       "      <td>140.8</td>\n",
       "      <td>95.0</td>\n",
       "      <td>3.92</td>\n",
       "      <td>3.150</td>\n",
       "      <td>22.90</td>\n",
       "      <td>1.0</td>\n",
       "      <td>0.0</td>\n",
       "      <td>4.0</td>\n",
       "      <td>2.0</td>\n",
       "    </tr>\n",
       "    <tr>\n",
       "      <th>Merc 280</th>\n",
       "      <td>19.2</td>\n",
       "      <td>6.0</td>\n",
       "      <td>167.6</td>\n",
       "      <td>123.0</td>\n",
       "      <td>3.92</td>\n",
       "      <td>3.440</td>\n",
       "      <td>18.30</td>\n",
       "      <td>1.0</td>\n",
       "      <td>0.0</td>\n",
       "      <td>4.0</td>\n",
       "      <td>4.0</td>\n",
       "    </tr>\n",
       "    <tr>\n",
       "      <th>Merc 280C</th>\n",
       "      <td>17.8</td>\n",
       "      <td>6.0</td>\n",
       "      <td>167.6</td>\n",
       "      <td>123.0</td>\n",
       "      <td>3.92</td>\n",
       "      <td>3.440</td>\n",
       "      <td>18.90</td>\n",
       "      <td>1.0</td>\n",
       "      <td>0.0</td>\n",
       "      <td>4.0</td>\n",
       "      <td>4.0</td>\n",
       "    </tr>\n",
       "    <tr>\n",
       "      <th>Merc 450SE</th>\n",
       "      <td>16.4</td>\n",
       "      <td>8.0</td>\n",
       "      <td>275.8</td>\n",
       "      <td>180.0</td>\n",
       "      <td>3.07</td>\n",
       "      <td>4.070</td>\n",
       "      <td>17.40</td>\n",
       "      <td>0.0</td>\n",
       "      <td>0.0</td>\n",
       "      <td>3.0</td>\n",
       "      <td>3.0</td>\n",
       "    </tr>\n",
       "    <tr>\n",
       "      <th>Merc 450SL</th>\n",
       "      <td>17.3</td>\n",
       "      <td>8.0</td>\n",
       "      <td>275.8</td>\n",
       "      <td>180.0</td>\n",
       "      <td>3.07</td>\n",
       "      <td>3.730</td>\n",
       "      <td>17.60</td>\n",
       "      <td>0.0</td>\n",
       "      <td>0.0</td>\n",
       "      <td>3.0</td>\n",
       "      <td>3.0</td>\n",
       "    </tr>\n",
       "    <tr>\n",
       "      <th>Merc 450SLC</th>\n",
       "      <td>15.2</td>\n",
       "      <td>8.0</td>\n",
       "      <td>275.8</td>\n",
       "      <td>180.0</td>\n",
       "      <td>3.07</td>\n",
       "      <td>3.780</td>\n",
       "      <td>18.00</td>\n",
       "      <td>0.0</td>\n",
       "      <td>0.0</td>\n",
       "      <td>3.0</td>\n",
       "      <td>3.0</td>\n",
       "    </tr>\n",
       "    <tr>\n",
       "      <th>Cadillac Fleetwood</th>\n",
       "      <td>10.4</td>\n",
       "      <td>8.0</td>\n",
       "      <td>472.0</td>\n",
       "      <td>205.0</td>\n",
       "      <td>2.93</td>\n",
       "      <td>5.250</td>\n",
       "      <td>17.98</td>\n",
       "      <td>0.0</td>\n",
       "      <td>0.0</td>\n",
       "      <td>3.0</td>\n",
       "      <td>4.0</td>\n",
       "    </tr>\n",
       "    <tr>\n",
       "      <th>Lincoln Continental</th>\n",
       "      <td>10.4</td>\n",
       "      <td>8.0</td>\n",
       "      <td>460.0</td>\n",
       "      <td>215.0</td>\n",
       "      <td>3.00</td>\n",
       "      <td>5.424</td>\n",
       "      <td>17.82</td>\n",
       "      <td>0.0</td>\n",
       "      <td>0.0</td>\n",
       "      <td>3.0</td>\n",
       "      <td>4.0</td>\n",
       "    </tr>\n",
       "    <tr>\n",
       "      <th>Chrysler Imperial</th>\n",
       "      <td>14.7</td>\n",
       "      <td>8.0</td>\n",
       "      <td>440.0</td>\n",
       "      <td>230.0</td>\n",
       "      <td>3.23</td>\n",
       "      <td>5.345</td>\n",
       "      <td>17.42</td>\n",
       "      <td>0.0</td>\n",
       "      <td>0.0</td>\n",
       "      <td>3.0</td>\n",
       "      <td>4.0</td>\n",
       "    </tr>\n",
       "    <tr>\n",
       "      <th>Fiat 128</th>\n",
       "      <td>32.4</td>\n",
       "      <td>4.0</td>\n",
       "      <td>78.7</td>\n",
       "      <td>66.0</td>\n",
       "      <td>4.08</td>\n",
       "      <td>2.200</td>\n",
       "      <td>19.47</td>\n",
       "      <td>1.0</td>\n",
       "      <td>1.0</td>\n",
       "      <td>4.0</td>\n",
       "      <td>1.0</td>\n",
       "    </tr>\n",
       "    <tr>\n",
       "      <th>Honda Civic</th>\n",
       "      <td>30.4</td>\n",
       "      <td>4.0</td>\n",
       "      <td>75.7</td>\n",
       "      <td>52.0</td>\n",
       "      <td>4.93</td>\n",
       "      <td>1.615</td>\n",
       "      <td>18.52</td>\n",
       "      <td>1.0</td>\n",
       "      <td>1.0</td>\n",
       "      <td>4.0</td>\n",
       "      <td>2.0</td>\n",
       "    </tr>\n",
       "    <tr>\n",
       "      <th>Toyota Corolla</th>\n",
       "      <td>33.9</td>\n",
       "      <td>4.0</td>\n",
       "      <td>71.1</td>\n",
       "      <td>65.0</td>\n",
       "      <td>4.22</td>\n",
       "      <td>1.835</td>\n",
       "      <td>19.90</td>\n",
       "      <td>1.0</td>\n",
       "      <td>1.0</td>\n",
       "      <td>4.0</td>\n",
       "      <td>1.0</td>\n",
       "    </tr>\n",
       "    <tr>\n",
       "      <th>Toyota Corona</th>\n",
       "      <td>21.5</td>\n",
       "      <td>4.0</td>\n",
       "      <td>120.1</td>\n",
       "      <td>97.0</td>\n",
       "      <td>3.70</td>\n",
       "      <td>2.465</td>\n",
       "      <td>20.01</td>\n",
       "      <td>1.0</td>\n",
       "      <td>0.0</td>\n",
       "      <td>3.0</td>\n",
       "      <td>1.0</td>\n",
       "    </tr>\n",
       "    <tr>\n",
       "      <th>Dodge Challenger</th>\n",
       "      <td>15.5</td>\n",
       "      <td>8.0</td>\n",
       "      <td>318.0</td>\n",
       "      <td>150.0</td>\n",
       "      <td>2.76</td>\n",
       "      <td>3.520</td>\n",
       "      <td>16.87</td>\n",
       "      <td>0.0</td>\n",
       "      <td>0.0</td>\n",
       "      <td>3.0</td>\n",
       "      <td>2.0</td>\n",
       "    </tr>\n",
       "    <tr>\n",
       "      <th>AMC Javelin</th>\n",
       "      <td>15.2</td>\n",
       "      <td>8.0</td>\n",
       "      <td>304.0</td>\n",
       "      <td>150.0</td>\n",
       "      <td>3.15</td>\n",
       "      <td>3.435</td>\n",
       "      <td>17.30</td>\n",
       "      <td>0.0</td>\n",
       "      <td>0.0</td>\n",
       "      <td>3.0</td>\n",
       "      <td>2.0</td>\n",
       "    </tr>\n",
       "    <tr>\n",
       "      <th>Camaro Z28</th>\n",
       "      <td>13.3</td>\n",
       "      <td>8.0</td>\n",
       "      <td>350.0</td>\n",
       "      <td>245.0</td>\n",
       "      <td>3.73</td>\n",
       "      <td>3.840</td>\n",
       "      <td>15.41</td>\n",
       "      <td>0.0</td>\n",
       "      <td>0.0</td>\n",
       "      <td>3.0</td>\n",
       "      <td>4.0</td>\n",
       "    </tr>\n",
       "    <tr>\n",
       "      <th>Pontiac Firebird</th>\n",
       "      <td>19.2</td>\n",
       "      <td>8.0</td>\n",
       "      <td>400.0</td>\n",
       "      <td>175.0</td>\n",
       "      <td>3.08</td>\n",
       "      <td>3.845</td>\n",
       "      <td>17.05</td>\n",
       "      <td>0.0</td>\n",
       "      <td>0.0</td>\n",
       "      <td>3.0</td>\n",
       "      <td>2.0</td>\n",
       "    </tr>\n",
       "    <tr>\n",
       "      <th>Fiat X1-9</th>\n",
       "      <td>27.3</td>\n",
       "      <td>4.0</td>\n",
       "      <td>79.0</td>\n",
       "      <td>66.0</td>\n",
       "      <td>4.08</td>\n",
       "      <td>1.935</td>\n",
       "      <td>18.90</td>\n",
       "      <td>1.0</td>\n",
       "      <td>1.0</td>\n",
       "      <td>4.0</td>\n",
       "      <td>1.0</td>\n",
       "    </tr>\n",
       "    <tr>\n",
       "      <th>Porsche 914-2</th>\n",
       "      <td>26.0</td>\n",
       "      <td>4.0</td>\n",
       "      <td>120.3</td>\n",
       "      <td>91.0</td>\n",
       "      <td>4.43</td>\n",
       "      <td>2.140</td>\n",
       "      <td>16.70</td>\n",
       "      <td>0.0</td>\n",
       "      <td>1.0</td>\n",
       "      <td>5.0</td>\n",
       "      <td>2.0</td>\n",
       "    </tr>\n",
       "    <tr>\n",
       "      <th>Lotus Europa</th>\n",
       "      <td>30.4</td>\n",
       "      <td>4.0</td>\n",
       "      <td>95.1</td>\n",
       "      <td>113.0</td>\n",
       "      <td>3.77</td>\n",
       "      <td>1.513</td>\n",
       "      <td>16.90</td>\n",
       "      <td>1.0</td>\n",
       "      <td>1.0</td>\n",
       "      <td>5.0</td>\n",
       "      <td>2.0</td>\n",
       "    </tr>\n",
       "    <tr>\n",
       "      <th>Ford Pantera L</th>\n",
       "      <td>15.8</td>\n",
       "      <td>8.0</td>\n",
       "      <td>351.0</td>\n",
       "      <td>264.0</td>\n",
       "      <td>4.22</td>\n",
       "      <td>3.170</td>\n",
       "      <td>14.50</td>\n",
       "      <td>0.0</td>\n",
       "      <td>1.0</td>\n",
       "      <td>5.0</td>\n",
       "      <td>4.0</td>\n",
       "    </tr>\n",
       "    <tr>\n",
       "      <th>Ferrari Dino</th>\n",
       "      <td>19.7</td>\n",
       "      <td>6.0</td>\n",
       "      <td>145.0</td>\n",
       "      <td>175.0</td>\n",
       "      <td>3.62</td>\n",
       "      <td>2.770</td>\n",
       "      <td>15.50</td>\n",
       "      <td>0.0</td>\n",
       "      <td>1.0</td>\n",
       "      <td>5.0</td>\n",
       "      <td>6.0</td>\n",
       "    </tr>\n",
       "    <tr>\n",
       "      <th>Maserati Bora</th>\n",
       "      <td>15.0</td>\n",
       "      <td>8.0</td>\n",
       "      <td>301.0</td>\n",
       "      <td>335.0</td>\n",
       "      <td>3.54</td>\n",
       "      <td>3.570</td>\n",
       "      <td>14.60</td>\n",
       "      <td>0.0</td>\n",
       "      <td>1.0</td>\n",
       "      <td>5.0</td>\n",
       "      <td>8.0</td>\n",
       "    </tr>\n",
       "    <tr>\n",
       "      <th>Volvo 142E</th>\n",
       "      <td>21.4</td>\n",
       "      <td>4.0</td>\n",
       "      <td>121.0</td>\n",
       "      <td>109.0</td>\n",
       "      <td>4.11</td>\n",
       "      <td>2.780</td>\n",
       "      <td>18.60</td>\n",
       "      <td>1.0</td>\n",
       "      <td>1.0</td>\n",
       "      <td>4.0</td>\n",
       "      <td>2.0</td>\n",
       "    </tr>\n",
       "  </tbody>\n",
       "</table>\n",
       "</div>"
      ],
      "text/plain": [
       "                      mpg  cyl   disp     hp  drat     wt   qsec   vs   am  gear  carb\n",
       "Mazda RX4            21.0  6.0  160.0  110.0  3.90  2.620  16.46  0.0  1.0   4.0   4.0\n",
       "Mazda RX4 Wag        21.0  6.0  160.0  110.0  3.90  2.875  17.02  0.0  1.0   4.0   4.0\n",
       "Datsun 710           22.8  4.0  108.0   93.0  3.85  2.320  18.61  1.0  1.0   4.0   1.0\n",
       "Hornet 4 Drive       21.4  6.0  258.0  110.0  3.08  3.215  19.44  1.0  0.0   3.0   1.0\n",
       "Hornet Sportabout    18.7  8.0  360.0  175.0  3.15  3.440  17.02  0.0  0.0   3.0   2.0\n",
       "Valiant              18.1  6.0  225.0  105.0  2.76  3.460  20.22  1.0  0.0   3.0   1.0\n",
       "Duster 360           14.3  8.0  360.0  245.0  3.21  3.570  15.84  0.0  0.0   3.0   4.0\n",
       "Merc 240D            24.4  4.0  146.7   62.0  3.69  3.190  20.00  1.0  0.0   4.0   2.0\n",
       "Merc 230             22.8  4.0  140.8   95.0  3.92  3.150  22.90  1.0  0.0   4.0   2.0\n",
       "Merc 280             19.2  6.0  167.6  123.0  3.92  3.440  18.30  1.0  0.0   4.0   4.0\n",
       "Merc 280C            17.8  6.0  167.6  123.0  3.92  3.440  18.90  1.0  0.0   4.0   4.0\n",
       "Merc 450SE           16.4  8.0  275.8  180.0  3.07  4.070  17.40  0.0  0.0   3.0   3.0\n",
       "Merc 450SL           17.3  8.0  275.8  180.0  3.07  3.730  17.60  0.0  0.0   3.0   3.0\n",
       "Merc 450SLC          15.2  8.0  275.8  180.0  3.07  3.780  18.00  0.0  0.0   3.0   3.0\n",
       "Cadillac Fleetwood   10.4  8.0  472.0  205.0  2.93  5.250  17.98  0.0  0.0   3.0   4.0\n",
       "Lincoln Continental  10.4  8.0  460.0  215.0  3.00  5.424  17.82  0.0  0.0   3.0   4.0\n",
       "Chrysler Imperial    14.7  8.0  440.0  230.0  3.23  5.345  17.42  0.0  0.0   3.0   4.0\n",
       "Fiat 128             32.4  4.0   78.7   66.0  4.08  2.200  19.47  1.0  1.0   4.0   1.0\n",
       "Honda Civic          30.4  4.0   75.7   52.0  4.93  1.615  18.52  1.0  1.0   4.0   2.0\n",
       "Toyota Corolla       33.9  4.0   71.1   65.0  4.22  1.835  19.90  1.0  1.0   4.0   1.0\n",
       "Toyota Corona        21.5  4.0  120.1   97.0  3.70  2.465  20.01  1.0  0.0   3.0   1.0\n",
       "Dodge Challenger     15.5  8.0  318.0  150.0  2.76  3.520  16.87  0.0  0.0   3.0   2.0\n",
       "AMC Javelin          15.2  8.0  304.0  150.0  3.15  3.435  17.30  0.0  0.0   3.0   2.0\n",
       "Camaro Z28           13.3  8.0  350.0  245.0  3.73  3.840  15.41  0.0  0.0   3.0   4.0\n",
       "Pontiac Firebird     19.2  8.0  400.0  175.0  3.08  3.845  17.05  0.0  0.0   3.0   2.0\n",
       "Fiat X1-9            27.3  4.0   79.0   66.0  4.08  1.935  18.90  1.0  1.0   4.0   1.0\n",
       "Porsche 914-2        26.0  4.0  120.3   91.0  4.43  2.140  16.70  0.0  1.0   5.0   2.0\n",
       "Lotus Europa         30.4  4.0   95.1  113.0  3.77  1.513  16.90  1.0  1.0   5.0   2.0\n",
       "Ford Pantera L       15.8  8.0  351.0  264.0  4.22  3.170  14.50  0.0  1.0   5.0   4.0\n",
       "Ferrari Dino         19.7  6.0  145.0  175.0  3.62  2.770  15.50  0.0  1.0   5.0   6.0\n",
       "Maserati Bora        15.0  8.0  301.0  335.0  3.54  3.570  14.60  0.0  1.0   5.0   8.0\n",
       "Volvo 142E           21.4  4.0  121.0  109.0  4.11  2.780  18.60  1.0  1.0   4.0   2.0"
      ]
     },
     "execution_count": 4,
     "metadata": {},
     "output_type": "execute_result"
    }
   ],
   "source": [
    "%get mtcars --from R\n",
    "mtcars"
   ]
  },
  {
   "cell_type": "markdown",
   "metadata": {
    "kernel": "SoS"
   },
   "source": [
    "The type of `mtcars` in SoS (Python) is, not surprisingly, a Pandas DataFrame"
   ]
  },
  {
   "cell_type": "code",
   "execution_count": 5,
   "metadata": {
    "kernel": "SoS"
   },
   "outputs": [
    {
     "data": {
      "text/plain": [
       "pandas.core.frame.DataFrame"
      ]
     },
     "execution_count": 5,
     "metadata": {},
     "output_type": "execute_result"
    }
   ],
   "source": [
    "type(mtcars)"
   ]
  },
  {
   "cell_type": "markdown",
   "metadata": {
    "kernel": "SoS"
   },
   "source": [
    "You can also `%get` variables from one subkernel in another subkernel. For example the following cell gets `mtcars` from a `Julia` kernel. As the warning message says, because Julia dataframe does not yet support row labels, `mtcars` in Julia will not have row label."
   ]
  },
  {
   "cell_type": "code",
   "execution_count": 7,
   "metadata": {
    "kernel": "Julia"
   },
   "outputs": [
    {
     "name": "stderr",
     "output_type": "stream",
     "text": [
      "Raw index is ignored because Julia DataFrame does not support raw index.\n"
     ]
    },
    {
     "data": {
      "text/html": [
       "<table class=\"data-frame\"><thead><tr><th></th><th>mpg</th><th>cyl</th><th>disp</th><th>hp</th><th>drat</th><th>wt</th><th>qsec</th><th>vs</th><th>am</th></tr><tr><th></th><th>Float64</th><th>Float64</th><th>Float64</th><th>Float64</th><th>Float64</th><th>Float64</th><th>Float64</th><th>Float64</th><th>Float64</th></tr></thead><tbody><p>32 rows × 11 columns (omitted printing of 2 columns)</p><tr><th>1</th><td>21.0</td><td>6.0</td><td>160.0</td><td>110.0</td><td>3.9</td><td>2.62</td><td>16.46</td><td>0.0</td><td>1.0</td></tr><tr><th>2</th><td>21.0</td><td>6.0</td><td>160.0</td><td>110.0</td><td>3.9</td><td>2.875</td><td>17.02</td><td>0.0</td><td>1.0</td></tr><tr><th>3</th><td>22.8</td><td>4.0</td><td>108.0</td><td>93.0</td><td>3.85</td><td>2.32</td><td>18.61</td><td>1.0</td><td>1.0</td></tr><tr><th>4</th><td>21.4</td><td>6.0</td><td>258.0</td><td>110.0</td><td>3.08</td><td>3.215</td><td>19.44</td><td>1.0</td><td>0.0</td></tr><tr><th>5</th><td>18.7</td><td>8.0</td><td>360.0</td><td>175.0</td><td>3.15</td><td>3.44</td><td>17.02</td><td>0.0</td><td>0.0</td></tr><tr><th>6</th><td>18.1</td><td>6.0</td><td>225.0</td><td>105.0</td><td>2.76</td><td>3.46</td><td>20.22</td><td>1.0</td><td>0.0</td></tr><tr><th>7</th><td>14.3</td><td>8.0</td><td>360.0</td><td>245.0</td><td>3.21</td><td>3.57</td><td>15.84</td><td>0.0</td><td>0.0</td></tr><tr><th>8</th><td>24.4</td><td>4.0</td><td>146.7</td><td>62.0</td><td>3.69</td><td>3.19</td><td>20.0</td><td>1.0</td><td>0.0</td></tr><tr><th>9</th><td>22.8</td><td>4.0</td><td>140.8</td><td>95.0</td><td>3.92</td><td>3.15</td><td>22.9</td><td>1.0</td><td>0.0</td></tr><tr><th>10</th><td>19.2</td><td>6.0</td><td>167.6</td><td>123.0</td><td>3.92</td><td>3.44</td><td>18.3</td><td>1.0</td><td>0.0</td></tr><tr><th>11</th><td>17.8</td><td>6.0</td><td>167.6</td><td>123.0</td><td>3.92</td><td>3.44</td><td>18.9</td><td>1.0</td><td>0.0</td></tr><tr><th>12</th><td>16.4</td><td>8.0</td><td>275.8</td><td>180.0</td><td>3.07</td><td>4.07</td><td>17.4</td><td>0.0</td><td>0.0</td></tr><tr><th>13</th><td>17.3</td><td>8.0</td><td>275.8</td><td>180.0</td><td>3.07</td><td>3.73</td><td>17.6</td><td>0.0</td><td>0.0</td></tr><tr><th>14</th><td>15.2</td><td>8.0</td><td>275.8</td><td>180.0</td><td>3.07</td><td>3.78</td><td>18.0</td><td>0.0</td><td>0.0</td></tr><tr><th>15</th><td>10.4</td><td>8.0</td><td>472.0</td><td>205.0</td><td>2.93</td><td>5.25</td><td>17.98</td><td>0.0</td><td>0.0</td></tr><tr><th>16</th><td>10.4</td><td>8.0</td><td>460.0</td><td>215.0</td><td>3.0</td><td>5.424</td><td>17.82</td><td>0.0</td><td>0.0</td></tr><tr><th>17</th><td>14.7</td><td>8.0</td><td>440.0</td><td>230.0</td><td>3.23</td><td>5.345</td><td>17.42</td><td>0.0</td><td>0.0</td></tr><tr><th>18</th><td>32.4</td><td>4.0</td><td>78.7</td><td>66.0</td><td>4.08</td><td>2.2</td><td>19.47</td><td>1.0</td><td>1.0</td></tr><tr><th>19</th><td>30.4</td><td>4.0</td><td>75.7</td><td>52.0</td><td>4.93</td><td>1.615</td><td>18.52</td><td>1.0</td><td>1.0</td></tr><tr><th>20</th><td>33.9</td><td>4.0</td><td>71.1</td><td>65.0</td><td>4.22</td><td>1.835</td><td>19.9</td><td>1.0</td><td>1.0</td></tr><tr><th>21</th><td>21.5</td><td>4.0</td><td>120.1</td><td>97.0</td><td>3.7</td><td>2.465</td><td>20.01</td><td>1.0</td><td>0.0</td></tr><tr><th>22</th><td>15.5</td><td>8.0</td><td>318.0</td><td>150.0</td><td>2.76</td><td>3.52</td><td>16.87</td><td>0.0</td><td>0.0</td></tr><tr><th>23</th><td>15.2</td><td>8.0</td><td>304.0</td><td>150.0</td><td>3.15</td><td>3.435</td><td>17.3</td><td>0.0</td><td>0.0</td></tr><tr><th>24</th><td>13.3</td><td>8.0</td><td>350.0</td><td>245.0</td><td>3.73</td><td>3.84</td><td>15.41</td><td>0.0</td><td>0.0</td></tr><tr><th>25</th><td>19.2</td><td>8.0</td><td>400.0</td><td>175.0</td><td>3.08</td><td>3.845</td><td>17.05</td><td>0.0</td><td>0.0</td></tr><tr><th>26</th><td>27.3</td><td>4.0</td><td>79.0</td><td>66.0</td><td>4.08</td><td>1.935</td><td>18.9</td><td>1.0</td><td>1.0</td></tr><tr><th>27</th><td>26.0</td><td>4.0</td><td>120.3</td><td>91.0</td><td>4.43</td><td>2.14</td><td>16.7</td><td>0.0</td><td>1.0</td></tr><tr><th>28</th><td>30.4</td><td>4.0</td><td>95.1</td><td>113.0</td><td>3.77</td><td>1.513</td><td>16.9</td><td>1.0</td><td>1.0</td></tr><tr><th>29</th><td>15.8</td><td>8.0</td><td>351.0</td><td>264.0</td><td>4.22</td><td>3.17</td><td>14.5</td><td>0.0</td><td>1.0</td></tr><tr><th>30</th><td>19.7</td><td>6.0</td><td>145.0</td><td>175.0</td><td>3.62</td><td>2.77</td><td>15.5</td><td>0.0</td><td>1.0</td></tr><tr><th>&vellip;</th><td>&vellip;</td><td>&vellip;</td><td>&vellip;</td><td>&vellip;</td><td>&vellip;</td><td>&vellip;</td><td>&vellip;</td><td>&vellip;</td><td>&vellip;</td></tr></tbody></table>"
      ],
      "text/latex": [
       "\\begin{tabular}{r|cccccccccc}\n",
       "\t& mpg & cyl & disp & hp & drat & wt & qsec & vs & am & \\\\\n",
       "\t\\hline\n",
       "\t& Float64 & Float64 & Float64 & Float64 & Float64 & Float64 & Float64 & Float64 & Float64 & \\\\\n",
       "\t\\hline\n",
       "\t1 & 21.0 & 6.0 & 160.0 & 110.0 & 3.9 & 2.62 & 16.46 & 0.0 & 1.0 & $\\dots$ \\\\\n",
       "\t2 & 21.0 & 6.0 & 160.0 & 110.0 & 3.9 & 2.875 & 17.02 & 0.0 & 1.0 & $\\dots$ \\\\\n",
       "\t3 & 22.8 & 4.0 & 108.0 & 93.0 & 3.85 & 2.32 & 18.61 & 1.0 & 1.0 & $\\dots$ \\\\\n",
       "\t4 & 21.4 & 6.0 & 258.0 & 110.0 & 3.08 & 3.215 & 19.44 & 1.0 & 0.0 & $\\dots$ \\\\\n",
       "\t5 & 18.7 & 8.0 & 360.0 & 175.0 & 3.15 & 3.44 & 17.02 & 0.0 & 0.0 & $\\dots$ \\\\\n",
       "\t6 & 18.1 & 6.0 & 225.0 & 105.0 & 2.76 & 3.46 & 20.22 & 1.0 & 0.0 & $\\dots$ \\\\\n",
       "\t7 & 14.3 & 8.0 & 360.0 & 245.0 & 3.21 & 3.57 & 15.84 & 0.0 & 0.0 & $\\dots$ \\\\\n",
       "\t8 & 24.4 & 4.0 & 146.7 & 62.0 & 3.69 & 3.19 & 20.0 & 1.0 & 0.0 & $\\dots$ \\\\\n",
       "\t9 & 22.8 & 4.0 & 140.8 & 95.0 & 3.92 & 3.15 & 22.9 & 1.0 & 0.0 & $\\dots$ \\\\\n",
       "\t10 & 19.2 & 6.0 & 167.6 & 123.0 & 3.92 & 3.44 & 18.3 & 1.0 & 0.0 & $\\dots$ \\\\\n",
       "\t11 & 17.8 & 6.0 & 167.6 & 123.0 & 3.92 & 3.44 & 18.9 & 1.0 & 0.0 & $\\dots$ \\\\\n",
       "\t12 & 16.4 & 8.0 & 275.8 & 180.0 & 3.07 & 4.07 & 17.4 & 0.0 & 0.0 & $\\dots$ \\\\\n",
       "\t13 & 17.3 & 8.0 & 275.8 & 180.0 & 3.07 & 3.73 & 17.6 & 0.0 & 0.0 & $\\dots$ \\\\\n",
       "\t14 & 15.2 & 8.0 & 275.8 & 180.0 & 3.07 & 3.78 & 18.0 & 0.0 & 0.0 & $\\dots$ \\\\\n",
       "\t15 & 10.4 & 8.0 & 472.0 & 205.0 & 2.93 & 5.25 & 17.98 & 0.0 & 0.0 & $\\dots$ \\\\\n",
       "\t16 & 10.4 & 8.0 & 460.0 & 215.0 & 3.0 & 5.424 & 17.82 & 0.0 & 0.0 & $\\dots$ \\\\\n",
       "\t17 & 14.7 & 8.0 & 440.0 & 230.0 & 3.23 & 5.345 & 17.42 & 0.0 & 0.0 & $\\dots$ \\\\\n",
       "\t18 & 32.4 & 4.0 & 78.7 & 66.0 & 4.08 & 2.2 & 19.47 & 1.0 & 1.0 & $\\dots$ \\\\\n",
       "\t19 & 30.4 & 4.0 & 75.7 & 52.0 & 4.93 & 1.615 & 18.52 & 1.0 & 1.0 & $\\dots$ \\\\\n",
       "\t20 & 33.9 & 4.0 & 71.1 & 65.0 & 4.22 & 1.835 & 19.9 & 1.0 & 1.0 & $\\dots$ \\\\\n",
       "\t21 & 21.5 & 4.0 & 120.1 & 97.0 & 3.7 & 2.465 & 20.01 & 1.0 & 0.0 & $\\dots$ \\\\\n",
       "\t22 & 15.5 & 8.0 & 318.0 & 150.0 & 2.76 & 3.52 & 16.87 & 0.0 & 0.0 & $\\dots$ \\\\\n",
       "\t23 & 15.2 & 8.0 & 304.0 & 150.0 & 3.15 & 3.435 & 17.3 & 0.0 & 0.0 & $\\dots$ \\\\\n",
       "\t24 & 13.3 & 8.0 & 350.0 & 245.0 & 3.73 & 3.84 & 15.41 & 0.0 & 0.0 & $\\dots$ \\\\\n",
       "\t25 & 19.2 & 8.0 & 400.0 & 175.0 & 3.08 & 3.845 & 17.05 & 0.0 & 0.0 & $\\dots$ \\\\\n",
       "\t26 & 27.3 & 4.0 & 79.0 & 66.0 & 4.08 & 1.935 & 18.9 & 1.0 & 1.0 & $\\dots$ \\\\\n",
       "\t27 & 26.0 & 4.0 & 120.3 & 91.0 & 4.43 & 2.14 & 16.7 & 0.0 & 1.0 & $\\dots$ \\\\\n",
       "\t28 & 30.4 & 4.0 & 95.1 & 113.0 & 3.77 & 1.513 & 16.9 & 1.0 & 1.0 & $\\dots$ \\\\\n",
       "\t29 & 15.8 & 8.0 & 351.0 & 264.0 & 4.22 & 3.17 & 14.5 & 0.0 & 1.0 & $\\dots$ \\\\\n",
       "\t30 & 19.7 & 6.0 & 145.0 & 175.0 & 3.62 & 2.77 & 15.5 & 0.0 & 1.0 & $\\dots$ \\\\\n",
       "\t$\\dots$ & $\\dots$ & $\\dots$ & $\\dots$ & $\\dots$ & $\\dots$ & $\\dots$ & $\\dots$ & $\\dots$ & $\\dots$ &  \\\\\n",
       "\\end{tabular}\n"
      ],
      "text/plain": [
       "32×11 DataFrames.DataFrame. Omitted printing of 4 columns\n",
       "│ Row │ mpg     │ cyl     │ disp    │ hp      │ drat    │ wt      │ qsec    │\n",
       "│     │ \u001b[90mFloat64\u001b[39m │ \u001b[90mFloat64\u001b[39m │ \u001b[90mFloat64\u001b[39m │ \u001b[90mFloat64\u001b[39m │ \u001b[90mFloat64\u001b[39m │ \u001b[90mFloat64\u001b[39m │ \u001b[90mFloat64\u001b[39m │\n",
       "├─────┼─────────┼─────────┼─────────┼─────────┼─────────┼─────────┼─────────┤\n",
       "│ 1   │ 21.0    │ 6.0     │ 160.0   │ 110.0   │ 3.9     │ 2.62    │ 16.46   │\n",
       "│ 2   │ 21.0    │ 6.0     │ 160.0   │ 110.0   │ 3.9     │ 2.875   │ 17.02   │\n",
       "│ 3   │ 22.8    │ 4.0     │ 108.0   │ 93.0    │ 3.85    │ 2.32    │ 18.61   │\n",
       "│ 4   │ 21.4    │ 6.0     │ 258.0   │ 110.0   │ 3.08    │ 3.215   │ 19.44   │\n",
       "│ 5   │ 18.7    │ 8.0     │ 360.0   │ 175.0   │ 3.15    │ 3.44    │ 17.02   │\n",
       "│ 6   │ 18.1    │ 6.0     │ 225.0   │ 105.0   │ 2.76    │ 3.46    │ 20.22   │\n",
       "│ 7   │ 14.3    │ 8.0     │ 360.0   │ 245.0   │ 3.21    │ 3.57    │ 15.84   │\n",
       "│ 8   │ 24.4    │ 4.0     │ 146.7   │ 62.0    │ 3.69    │ 3.19    │ 20.0    │\n",
       "│ 9   │ 22.8    │ 4.0     │ 140.8   │ 95.0    │ 3.92    │ 3.15    │ 22.9    │\n",
       "│ 10  │ 19.2    │ 6.0     │ 167.6   │ 123.0   │ 3.92    │ 3.44    │ 18.3    │\n",
       "⋮\n",
       "│ 22  │ 15.5    │ 8.0     │ 318.0   │ 150.0   │ 2.76    │ 3.52    │ 16.87   │\n",
       "│ 23  │ 15.2    │ 8.0     │ 304.0   │ 150.0   │ 3.15    │ 3.435   │ 17.3    │\n",
       "│ 24  │ 13.3    │ 8.0     │ 350.0   │ 245.0   │ 3.73    │ 3.84    │ 15.41   │\n",
       "│ 25  │ 19.2    │ 8.0     │ 400.0   │ 175.0   │ 3.08    │ 3.845   │ 17.05   │\n",
       "│ 26  │ 27.3    │ 4.0     │ 79.0    │ 66.0    │ 4.08    │ 1.935   │ 18.9    │\n",
       "│ 27  │ 26.0    │ 4.0     │ 120.3   │ 91.0    │ 4.43    │ 2.14    │ 16.7    │\n",
       "│ 28  │ 30.4    │ 4.0     │ 95.1    │ 113.0   │ 3.77    │ 1.513   │ 16.9    │\n",
       "│ 29  │ 15.8    │ 8.0     │ 351.0   │ 264.0   │ 4.22    │ 3.17    │ 14.5    │\n",
       "│ 30  │ 19.7    │ 6.0     │ 145.0   │ 175.0   │ 3.62    │ 2.77    │ 15.5    │\n",
       "│ 31  │ 15.0    │ 8.0     │ 301.0   │ 335.0   │ 3.54    │ 3.57    │ 14.6    │\n",
       "│ 32  │ 21.4    │ 4.0     │ 121.0   │ 109.0   │ 4.11    │ 2.78    │ 18.6    │"
      ]
     },
     "execution_count": 7,
     "metadata": {},
     "output_type": "execute_result"
    }
   ],
   "source": [
    "%get mtcars --from R\n",
    "mtcars"
   ]
  },
  {
   "cell_type": "markdown",
   "metadata": {
    "kernel": "Julia"
   },
   "source": [
    "If you really need such information for your analysis in Julia, you will have to transfer it separately,"
   ]
  },
  {
   "cell_type": "code",
   "execution_count": 8,
   "metadata": {
    "kernel": "R"
   },
   "outputs": [],
   "source": [
    "cars = row.names(mtcars)"
   ]
  },
  {
   "cell_type": "code",
   "execution_count": 9,
   "metadata": {
    "kernel": "Julia"
   },
   "outputs": [
    {
     "data": {
      "text/plain": [
       "32-element Array{String,1}:\n",
       " \"Mazda RX4\"        \n",
       " \"Mazda RX4 Wag\"    \n",
       " \"Datsun 710\"       \n",
       " \"Hornet 4 Drive\"   \n",
       " \"Hornet Sportabout\"\n",
       " \"Valiant\"          \n",
       " \"Duster 360\"       \n",
       " \"Merc 240D\"        \n",
       " \"Merc 230\"         \n",
       " \"Merc 280\"         \n",
       " \"Merc 280C\"        \n",
       " \"Merc 450SE\"       \n",
       " \"Merc 450SL\"       \n",
       " ⋮                  \n",
       " \"Toyota Corona\"    \n",
       " \"Dodge Challenger\" \n",
       " \"AMC Javelin\"      \n",
       " \"Camaro Z28\"       \n",
       " \"Pontiac Firebird\" \n",
       " \"Fiat X1-9\"        \n",
       " \"Porsche 914-2\"    \n",
       " \"Lotus Europa\"     \n",
       " \"Ford Pantera L\"   \n",
       " \"Ferrari Dino\"     \n",
       " \"Maserati Bora\"    \n",
       " \"Volvo 142E\"       "
      ]
     },
     "execution_count": 9,
     "metadata": {},
     "output_type": "execute_result"
    }
   ],
   "source": [
    "%get cars --from R\n",
    "cars"
   ]
  },
  {
   "cell_type": "markdown",
   "metadata": {
    "kernel": "R"
   },
   "source": [
    "## Putting variable to another kernel using magic `%put`"
   ]
  },
  {
   "cell_type": "markdown",
   "metadata": {
    "kernel": "SoS"
   },
   "source": [
    "Magic `%put` is similar to `%get` but it puts variable from the current kernel to another. It by default put variables to SoS but can put to another subkernel with option `--to`.\n",
    "\n",
    "For example, the following cell puts variable `ncars` to SoS:"
   ]
  },
  {
   "cell_type": "code",
   "execution_count": 12,
   "metadata": {
    "kernel": "R"
   },
   "outputs": [],
   "source": [
    "%put ncars\n",
    "ncars = length(cars)"
   ]
  },
  {
   "cell_type": "markdown",
   "metadata": {
    "kernel": "R"
   },
   "source": [
    "It is important to note here, that although the `%put` magic is specified at the beginning of the cell (as required by SoS), it is actually executed after the cell is executed."
   ]
  },
  {
   "cell_type": "markdown",
   "metadata": {
    "kernel": "R"
   },
   "source": [
    "`ncars` is available in SoS after the `%put` magic"
   ]
  },
  {
   "cell_type": "code",
   "execution_count": 13,
   "metadata": {
    "kernel": "SoS",
    "workflow_cell": false
   },
   "outputs": [
    {
     "data": {
      "text/plain": [
       "32"
      ]
     },
     "execution_count": 13,
     "metadata": {},
     "output_type": "execute_result"
    }
   ],
   "source": [
    "ncars"
   ]
  },
  {
   "cell_type": "code",
   "execution_count": null,
   "metadata": {
    "kernel": "SoS"
   },
   "outputs": [],
   "source": [
    "Similarly, you can put variables to another kernel using the `--to` option:"
   ]
  },
  {
   "cell_type": "code",
   "execution_count": 14,
   "metadata": {
    "kernel": "Python3"
   },
   "outputs": [],
   "source": [
    "%put df --to R\n",
    "\n",
    "import pandas as pd\n",
    "\n",
    "df = pd.DataFrame({'num_legs': [2, 4, 8, 0],\n",
    "                   'num_wings': [2, 0, 0, 0],\n",
    "                   'num_specimen_seen': [10, 2, 1, 8]},\n",
    "             index=['falcon', 'dog', 'spider', 'fish'])"
   ]
  },
  {
   "cell_type": "markdown",
   "metadata": {
    "kernel": "Python3"
   },
   "source": [
    "and the variable `df` will be available in R"
   ]
  },
  {
   "cell_type": "code",
   "execution_count": 15,
   "metadata": {
    "kernel": "R"
   },
   "outputs": [
    {
     "data": {
      "text/html": [
       "<table>\n",
       "<thead><tr><th></th><th scope=col>num_legs</th><th scope=col>num_wings</th><th scope=col>num_specimen_seen</th></tr></thead>\n",
       "<tbody>\n",
       "\t<tr><th scope=row>falcon</th><td>2 </td><td>2 </td><td>10</td></tr>\n",
       "\t<tr><th scope=row>dog</th><td>4 </td><td>0 </td><td> 2</td></tr>\n",
       "\t<tr><th scope=row>spider</th><td>8 </td><td>0 </td><td> 1</td></tr>\n",
       "\t<tr><th scope=row>fish</th><td>0 </td><td>0 </td><td> 8</td></tr>\n",
       "</tbody>\n",
       "</table>\n"
      ],
      "text/latex": [
       "\\begin{tabular}{r|lll}\n",
       "  & num\\_legs & num\\_wings & num\\_specimen\\_seen\\\\\n",
       "\\hline\n",
       "\tfalcon & 2  & 2  & 10\\\\\n",
       "\tdog & 4  & 0  &  2\\\\\n",
       "\tspider & 8  & 0  &  1\\\\\n",
       "\tfish & 0  & 0  &  8\\\\\n",
       "\\end{tabular}\n"
      ],
      "text/markdown": [
       "\n",
       "| <!--/--> | num_legs | num_wings | num_specimen_seen | \n",
       "|---|---|---|---|\n",
       "| falcon | 2  | 2  | 10 | \n",
       "| dog | 4  | 0  |  2 | \n",
       "| spider | 8  | 0  |  1 | \n",
       "| fish | 0  | 0  |  8 | \n",
       "\n",
       "\n"
      ],
      "text/plain": [
       "       num_legs num_wings num_specimen_seen\n",
       "falcon 2        2         10               \n",
       "dog    4        0          2               \n",
       "spider 8        0          1               \n",
       "fish   0        0          8               "
      ]
     },
     "metadata": {},
     "output_type": "display_data"
    }
   ],
   "source": [
    "df"
   ]
  },
  {
   "cell_type": "markdown",
   "metadata": {
    "kernel": "R"
   },
   "source": [
    "## Evaluating statements in another kernel with input and output variables using `%with` magic"
   ]
  },
  {
   "cell_type": "markdown",
   "metadata": {
    "kernel": "R"
   },
   "source": [
    "Say during a Python-based data analysis procedure you are in need of a bunch of random numbers, and either you do not have Scipy installed or are more familiar with how R, you can call R as follows"
   ]
  },
  {
   "cell_type": "code",
   "execution_count": 1,
   "metadata": {
    "kernel": "SoS"
   },
   "outputs": [],
   "source": [
    "n = 5"
   ]
  },
  {
   "cell_type": "code",
   "execution_count": 2,
   "metadata": {
    "kernel": "SoS"
   },
   "outputs": [],
   "source": [
    "%with R --in n --out rn\n",
    "rn = rnorm(n)"
   ]
  },
  {
   "cell_type": "code",
   "execution_count": 3,
   "metadata": {
    "kernel": "SoS"
   },
   "outputs": [
    {
     "data": {
      "text/plain": [
       "[0.68311250202401,\n",
       " 0.0299101911493427,\n",
       " 0.72708897434066,\n",
       " -0.611054536349475,\n",
       " -1.49315432697787]"
      ]
     },
     "execution_count": 3,
     "metadata": {},
     "output_type": "execute_result"
    }
   ],
   "source": [
    "rn"
   ]
  },
  {
   "cell_type": "markdown",
   "metadata": {
    "kernel": "SoS"
   },
   "source": [
    "Here the `%with` magic is just a shortcut to"
   ]
  },
  {
   "cell_type": "code",
   "execution_count": 4,
   "metadata": {
    "kernel": "R"
   },
   "outputs": [],
   "source": [
    "%get n\n",
    "%put rn\n",
    "rn = rnorm(n)"
   ]
  },
  {
   "cell_type": "markdown",
   "metadata": {
    "kernel": "R"
   },
   "source": [
    "but `%with R` magic will appear to be function-call like procedure without changing the cell kernel."
   ]
  },
  {
   "cell_type": "markdown",
   "metadata": {
    "kernel": "R"
   },
   "source": [
    "The `%with` magic can also be used from a subkernel and calling statements in SoS or another subkernel. For example, the following cell calls the `head` function of `DataFrame` to get the first few rows of `mtcars`, and return as `data.frame` in R."
   ]
  },
  {
   "cell_type": "code",
   "execution_count": 8,
   "metadata": {
    "kernel": "R"
   },
   "outputs": [],
   "source": [
    "%with SoS -i mtcars -o head\n",
    "head = mtcars.head()"
   ]
  },
  {
   "cell_type": "code",
   "execution_count": 9,
   "metadata": {
    "kernel": "R"
   },
   "outputs": [
    {
     "data": {
      "text/html": [
       "<table>\n",
       "<thead><tr><th></th><th scope=col>mpg</th><th scope=col>cyl</th><th scope=col>disp</th><th scope=col>hp</th><th scope=col>drat</th><th scope=col>wt</th><th scope=col>qsec</th><th scope=col>vs</th><th scope=col>am</th><th scope=col>gear</th><th scope=col>carb</th></tr></thead>\n",
       "<tbody>\n",
       "\t<tr><th scope=row>Mazda RX4</th><td>21.0 </td><td>6    </td><td>160  </td><td>110  </td><td>3.90 </td><td>2.620</td><td>16.46</td><td>0    </td><td>1    </td><td>4    </td><td>4    </td></tr>\n",
       "\t<tr><th scope=row>Mazda RX4 Wag</th><td>21.0 </td><td>6    </td><td>160  </td><td>110  </td><td>3.90 </td><td>2.875</td><td>17.02</td><td>0    </td><td>1    </td><td>4    </td><td>4    </td></tr>\n",
       "\t<tr><th scope=row>Datsun 710</th><td>22.8 </td><td>4    </td><td>108  </td><td> 93  </td><td>3.85 </td><td>2.320</td><td>18.61</td><td>1    </td><td>1    </td><td>4    </td><td>1    </td></tr>\n",
       "\t<tr><th scope=row>Hornet 4 Drive</th><td>21.4 </td><td>6    </td><td>258  </td><td>110  </td><td>3.08 </td><td>3.215</td><td>19.44</td><td>1    </td><td>0    </td><td>3    </td><td>1    </td></tr>\n",
       "\t<tr><th scope=row>Hornet Sportabout</th><td>18.7 </td><td>8    </td><td>360  </td><td>175  </td><td>3.15 </td><td>3.440</td><td>17.02</td><td>0    </td><td>0    </td><td>3    </td><td>2    </td></tr>\n",
       "</tbody>\n",
       "</table>\n"
      ],
      "text/latex": [
       "\\begin{tabular}{r|lllllllllll}\n",
       "  & mpg & cyl & disp & hp & drat & wt & qsec & vs & am & gear & carb\\\\\n",
       "\\hline\n",
       "\tMazda RX4 & 21.0  & 6     & 160   & 110   & 3.90  & 2.620 & 16.46 & 0     & 1     & 4     & 4    \\\\\n",
       "\tMazda RX4 Wag & 21.0  & 6     & 160   & 110   & 3.90  & 2.875 & 17.02 & 0     & 1     & 4     & 4    \\\\\n",
       "\tDatsun 710 & 22.8  & 4     & 108   &  93   & 3.85  & 2.320 & 18.61 & 1     & 1     & 4     & 1    \\\\\n",
       "\tHornet 4 Drive & 21.4  & 6     & 258   & 110   & 3.08  & 3.215 & 19.44 & 1     & 0     & 3     & 1    \\\\\n",
       "\tHornet Sportabout & 18.7  & 8     & 360   & 175   & 3.15  & 3.440 & 17.02 & 0     & 0     & 3     & 2    \\\\\n",
       "\\end{tabular}\n"
      ],
      "text/markdown": [
       "\n",
       "| <!--/--> | mpg | cyl | disp | hp | drat | wt | qsec | vs | am | gear | carb | \n",
       "|---|---|---|---|---|\n",
       "| Mazda RX4 | 21.0  | 6     | 160   | 110   | 3.90  | 2.620 | 16.46 | 0     | 1     | 4     | 4     | \n",
       "| Mazda RX4 Wag | 21.0  | 6     | 160   | 110   | 3.90  | 2.875 | 17.02 | 0     | 1     | 4     | 4     | \n",
       "| Datsun 710 | 22.8  | 4     | 108   |  93   | 3.85  | 2.320 | 18.61 | 1     | 1     | 4     | 1     | \n",
       "| Hornet 4 Drive | 21.4  | 6     | 258   | 110   | 3.08  | 3.215 | 19.44 | 1     | 0     | 3     | 1     | \n",
       "| Hornet Sportabout | 18.7  | 8     | 360   | 175   | 3.15  | 3.440 | 17.02 | 0     | 0     | 3     | 2     | \n",
       "\n",
       "\n"
      ],
      "text/plain": [
       "                  mpg  cyl disp hp  drat wt    qsec  vs am gear carb\n",
       "Mazda RX4         21.0 6   160  110 3.90 2.620 16.46 0  1  4    4   \n",
       "Mazda RX4 Wag     21.0 6   160  110 3.90 2.875 17.02 0  1  4    4   \n",
       "Datsun 710        22.8 4   108   93 3.85 2.320 18.61 1  1  4    1   \n",
       "Hornet 4 Drive    21.4 6   258  110 3.08 3.215 19.44 1  0  3    1   \n",
       "Hornet Sportabout 18.7 8   360  175 3.15 3.440 17.02 0  0  3    2   "
      ]
     },
     "metadata": {},
     "output_type": "display_data"
    }
   ],
   "source": [
    "head"
   ]
  },
  {
   "cell_type": "markdown",
   "metadata": {
    "kernel": "R"
   },
   "source": [
    "Compare to all other multi-language approaches such as Python's [`rpy2`](https://rpy2.readthedocs.io/en/version_2.8.x/), Julia's [`PyCall`](https://github.com/JuliaPy/PyCall.jl), or MATLAB's python engine, it is important to note that **all statements and datatypes in a SoS environment are native** and therefore easier to work with, **with the disadvantage that your analyses can only be executed in SoS notebook** (not as a standalone script)."
   ]
  },
  {
   "cell_type": "markdown",
   "metadata": {
    "kernel": "SoS"
   },
   "source": [
    "## <span style=\"color:red\">DEPRECATED</span> - Implicit exchange of `sos*` variables <a id=\"Implicit_data_exchange\"></a>"
   ]
  },
  {
   "cell_type": "markdown",
   "metadata": {
    "kernel": "R"
   },
   "source": [
    "<div class=\"bs-callout bs-callout-warning\" role=\"alert\">\n",
    "  <h4>Deprecated feature on implicit exchange of variables</h4>\n",
    "  <p>This feature has been deprecated to avoid inherit performance and other problems with this feature, and to encourage explicit variable exchange.</p>  \n",
    "</div>"
   ]
  },
  {
   "cell_type": "markdown",
   "metadata": {
    "kernel": "SoS"
   },
   "source": [
    "In addition to the use of magics `%put` and `%get` and parameters `--in` and `--out` of magics `%with` to explicitly exchange variables between SoS and subkernels, SoS automatically shares variables with names starting with `sos` among all subkernels.\n",
    "\n",
    "For example, if you have `sos_var` defined in `R` (or any other kernel)"
   ]
  },
  {
   "cell_type": "code",
   "execution_count": 10,
   "metadata": {
    "kernel": "R"
   },
   "outputs": [],
   "source": [
    "sos_var = 100"
   ]
  },
  {
   "cell_type": "markdown",
   "metadata": {
    "kernel": "R"
   },
   "source": [
    "You can use it directly in `Python3`"
   ]
  },
  {
   "cell_type": "code",
   "execution_count": 11,
   "metadata": {
    "kernel": "Python3"
   },
   "outputs": [
    {
     "name": "stdout",
     "output_type": "stream",
     "text": [
      "sos_var is changed to 200\n"
     ]
    }
   ],
   "source": [
    "sos_var += 100\n",
    "print(\"sos_var is changed to {}\".format(sos_var))"
   ]
  },
  {
   "cell_type": "markdown",
   "metadata": {
    "kernel": "Python3"
   },
   "source": [
    "And back in R the value of `sos_var` has been changed"
   ]
  },
  {
   "cell_type": "code",
   "execution_count": 12,
   "metadata": {
    "kernel": "R"
   },
   "outputs": [
    {
     "data": {
      "text/html": [
       "200"
      ],
      "text/latex": [
       "200"
      ],
      "text/markdown": [
       "200"
      ],
      "text/plain": [
       "[1] 200"
      ]
     },
     "metadata": {},
     "output_type": "display_data"
    }
   ],
   "source": [
    "# I am still in R\n",
    "sos_var"
   ]
  },
  {
   "cell_type": "markdown",
   "metadata": {
    "kernel": "R"
   },
   "source": [
    "And the same variable is available in SoS and holds the latest value"
   ]
  },
  {
   "cell_type": "code",
   "execution_count": 13,
   "metadata": {
    "kernel": "SoS",
    "workflow_cell": false
   },
   "outputs": [
    {
     "data": {
      "text/plain": [
       "200"
      ]
     },
     "execution_count": 13,
     "metadata": {},
     "output_type": "execute_result"
    }
   ],
   "source": [
    "sos_var"
   ]
  },
  {
   "cell_type": "markdown",
   "metadata": {
    "kernel": "SoS"
   },
   "source": [
    "Under the hood SoS puts all `sos*` variable from the source kernel to destination kernel with every kernel switch, so it is recommended that you avoid using `sos*` variables for large variables."
   ]
  },
  {
   "cell_type": "markdown",
   "metadata": {
    "kernel": "SoS"
   },
   "source": [
    "## Further reading\n",
    "\n",
    "* [How to write a language module](language_module.html) if you would like to write a language module for the kernel you rely on"
   ]
  }
 ],
 "metadata": {
  "kernelspec": {
   "display_name": "SoS",
   "language": "sos",
   "name": "sos"
  },
  "language_info": {
   "codemirror_mode": "sos",
   "file_extension": ".sos",
   "mimetype": "text/x-sos",
   "name": "sos",
   "nbconvert_exporter": "sos_notebook.converter.SoS_Exporter",
   "pygments_lexer": "sos"
  },
  "sos": {
   "kernels": [
    [
     "Julia",
     "julia-1.1",
     "Julia",
     "#ebd8eb",
     ""
    ],
    [
     "Python3",
     "python3",
     "Python3",
     "#FFD91A",
     {
      "name": "ipython",
      "version": 3
     }
    ],
    [
     "R",
     "ir",
     "R",
     "#DCDCDA",
     "r"
    ],
    [
     "SoS",
     "sos",
     "",
     "",
     "sos"
    ]
   ],
   "panel": {
    "displayed": true,
    "height": 0
   },
   "version": "0.20.6"
  }
 },
 "nbformat": 4,
 "nbformat_minor": 4
}
