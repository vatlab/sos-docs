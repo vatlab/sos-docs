{
 "cells": [
  {
   "cell_type": "markdown",
   "metadata": {
    "kernel": "SoS"
   },
   "source": [
    "# Add a new language to SoS"
   ]
  },
  {
   "cell_type": "markdown",
   "metadata": {
    "kernel": "SoS"
   },
   "source": [
    "* **Difficulty level**: difficult\n",
    "* **Time need to lean**: 30 minutes or more\n",
    "* **Key points**:\n",
    "  * It is relatively easy to write a language module with basic functions\n",
    "  * Data exchange for different data types are handled independently so you can start from most common types and add more types gradually\n",
    "  "
   ]
  },
  {
   "cell_type": "markdown",
   "metadata": {
    "kernel": "SoS"
   },
   "source": [
    "## Role of a language modual"
   ]
  },
  {
   "cell_type": "markdown",
   "metadata": {
    "kernel": "SoS"
   },
   "source": [
    "SoS can interact with any Jupyter kernel. As shown in [the SoS notebook tutorial](multi_kernel_notebook.html), SoS can\n",
    "\n",
    "* List the kernel in the language dropdown box and use it to execute associated cells\n",
    "* Use `%expand` magic to prepare input before sending to the kernel\n",
    "* Use `%capture` magic to capture the output from the kernel\n",
    "* Use `%render` magic to render output from the kernel\n",
    "\n",
    "without knowing what the kernel does."
   ]
  },
  {
   "cell_type": "markdown",
   "metadata": {
    "kernel": "SoS"
   },
   "source": [
    "However, if the kernel supports the concept of variable (not all kernel does), a language module for the kernel would allow SoS to work more efficiently with the kernel. More specifically, SoS can\n",
    "\n",
    "* Mark the prompt areas of each cell to differentiate cells that belong to different kernels\n",
    "* Preview variables when an assignment is executed during line-by-line execution\n",
    "* Change current directory of all subkernels with `%cd` magic\n",
    "* Exchange variables between subkernels using magics `%put`, `%get` and `%with`\n",
    "* Preview the content of variables using magic `%preview`\n",
    "* Show the version information of kernels using magic `%sessioninfo`"
   ]
  },
  {
   "cell_type": "markdown",
   "metadata": {
    "kernel": "SoS"
   },
   "source": [
    "Whereas data exchange among subkernels is really powerful, it is important to understand that, **SoS does not tranfer any variables among kernels, it creates independent homonymous variables of similar types that are native to the destination language**. For example, if you have the following two variables\n",
    "\n",
    "```R\n",
    "a = 1\n",
    "b = c(1, 2)\n",
    "```\n",
    "\n",
    "in R and executes a magic \n",
    "\n",
    "```Python\n",
    "%get a b --from R\n",
    "```\n",
    "in a SoS cell, SoS actually execute the following statements, in the background, to create variables `a` and `b` in Python\n",
    "\n",
    "```Python\n",
    "a = 1\n",
    "b = [1, 2]\n",
    "```\n",
    "These variables are independent so that changing the value of variables `a` or `b` in one kernel will not affect another. We also note that `a` and `b` are of different types in Python although they are of the same `numeric` type in `R` (`a` is technically speaking an array of size 1)."
   ]
  },
  {
   "cell_type": "markdown",
   "metadata": {
    "kernel": "SoS"
   },
   "source": [
    "## Define a new language Module"
   ]
  },
  {
   "cell_type": "markdown",
   "metadata": {
    "kernel": "SoS"
   },
   "source": [
    "The best way to start a new language module is to read the source code of an existing language module and adapt it to your language. Our [github oraganization](https://github.com/vatlab) has a number of language modules. Module [`sos-r`](https://github.com/vatlab/sos-r) is a good choice and you should try to match the corresponding items with code in [`kernel.py`](https://github.com/vatlab/sos-r/blob/master/src/sos_r/kernel.py) when going through this tutorial."
   ]
  },
  {
   "cell_type": "markdown",
   "metadata": {
    "kernel": "SoS"
   },
   "source": [
    "### Class attributes"
   ]
  },
  {
   "cell_type": "markdown",
   "metadata": {
    "kernel": "SoS"
   },
   "source": [
    "To support a new language, you will need to write a Python package that defines a class, say `mylanguage`, that provides the following class attributes:"
   ]
  },
  {
   "cell_type": "markdown",
   "metadata": {
    "kernel": "SoS"
   },
   "source": [
    "#### `supported_kernels`\n",
    "\n",
    "`supported_kernels` should be a dictionary of language and names of the kernels that the language supports. For example, `ir` is the name of kernel for language `R` so this attribute should be defined as:\n",
    "\n",
    "```python\n",
    "supported_kernels =  {'R': ['ir']}\n",
    "```\n",
    "\n",
    "If multiple kernels are supported, SoS will look for a kernel with matched name in the order that is specified. This is the case for `JavaScript` where multiple kernels are available:\n",
    "\n",
    "```python\n",
    "supported_kernels =  {'JavaScript': ['ijavascript', 'inodejs']}\n",
    "```\n",
    "\n",
    "Multiple languages can be specified if a language module supports multiple languages. For example, `MATLAB` and `Octave` share the same language module\n",
    "\n",
    "```python\n",
    "supported_kernels = {'MATLAB': ['imatlab', 'matlab'], 'Octave': ['octave']}\n",
    "```\n",
    "\n",
    "Finally, wildcard characters are allowd in kernel names, which are useful for kernels that contain version numbers:\n",
    "\n",
    "```python\n",
    "supported_kernels = {'Julia': ['julia-?.?']}\n",
    "```\n"
   ]
  },
  {
   "cell_type": "markdown",
   "metadata": {
    "kernel": "SoS"
   },
   "source": [
    "#### `background_color`\n",
    "\n",
    "`background_color` should be a name or `#XXXXXX` value for a color that will be used in the prompt area of cells that are executed by the subkernel. An empty string can be used for using default notebook color. If the language module defines multiple languages, a dictionary `{language: color}` can be used to specify different colors for supported languages. For example,\n",
    "\n",
    "```python\n",
    "background_color = {'MATLAB': '#8ee7f1', 'Octave': '#dff8fb'}\n",
    "```\n",
    "\n",
    "is used for `MATLAB` and `Octave`."
   ]
  },
  {
   "cell_type": "markdown",
   "metadata": {
    "kernel": "SoS"
   },
   "source": [
    "#### `cd_command` \n",
    "\n",
    "`cd_command` is a command to change current working directory, specified with `{dir}` intepolated with option of magic `%cd`. For example, the command for R is \n",
    "\n",
    "```python\n",
    "cd_command = 'setwd({dir!r})'\n",
    "```\n",
    "where `!r` quotes the provided `dir`. Note that `{ }` are used as a Python f-string but no `f` prefix should be used."
   ]
  },
  {
   "cell_type": "markdown",
   "metadata": {
    "kernel": "SoS"
   },
   "source": [
    "#### `options`\n",
    "\n",
    "A Python dictionary with options that will be passed to the frontend. Currently two options `variable_pattern` and `assignment_pattern` are supported. Both options should be regular expressions in JS style. \n",
    "\n",
    "* Option `variable_pattern` is used to identify if a statement is a simple variable (nothing else). If this option is defined and the input text (if executed at the side panel) matches the pattern, SoS will prepend `%preview` to the code. This option is useful only when `%preview var` displays more information than `var`.\n",
    "\n",
    "* Option `assignment_pattern` is used to identify if a statement is an assignment operation. If this option is defined and the input text matches the pattern, SoS will prepend `%preview var` to the code where `var` should be the first matched portion of the pattern (use `( )`). This mechanism allows SoS to automatically display result of an assignment when you step through the code.\n",
    "\n",
    "Both `options` are optional."
   ]
  },
  {
   "cell_type": "markdown",
   "metadata": {
    "kernel": "SoS"
   },
   "source": [
    "#### `__version__`\n",
    "\n",
    "This attribute, if provided, will be included in the debug message when the language module is loaded. This helps you, for example, to check if the correct version of the language module has been loaded if you have multiple instances of python, sos, and/or language module available."
   ]
  },
  {
   "cell_type": "markdown",
   "metadata": {
    "kernel": "SoS"
   },
   "source": [
    "### Instance attributes"
   ]
  },
  {
   "cell_type": "markdown",
   "metadata": {
    "kernel": "SoS"
   },
   "source": [
    "An instance of the class would be initialized with the sos kernel and the name of the subkernel, which does not have to be one of the `supported_kernels` (could be self-defined) and should provide the following attributes and functions. Because these attributes are instantiated with kernel name, they can vary (slightly) from kernel to kernel."
   ]
  },
  {
   "cell_type": "markdown",
   "metadata": {
    "kernel": "SoS"
   },
   "source": [
    "#### String `init_statement`\n",
    "\n",
    "`init_statements` is a statement that will be executed by the sub-kernel when the kernel starts. This statement usually defines a number of utility functions.\n"
   ]
  },
  {
   "cell_type": "markdown",
   "metadata": {
    "kernel": "SoS"
   },
   "source": [
    "#### Function `get_vars(self, names)`\n",
    "\n",
    "should be a Python function that transfer specified Python variables to the subkernel. We will discussion this in detail in the next section."
   ]
  },
  {
   "cell_type": "markdown",
   "metadata": {
    "kernel": "SoS"
   },
   "source": [
    "#### Function `put_vars(self, items, to_kernel=None)` \n",
    "\n",
    "Function `put_vars` should be a Python function that put one or more variables in the subkernel to SoS or another subkernel.  We will discussion this in detail in the next section."
   ]
  },
  {
   "cell_type": "markdown",
   "metadata": {
    "kernel": "SoS"
   },
   "source": [
    "#### Function `preview(self, item)`\n",
    "\n",
    "Function `preview` accepts a name, which should be the name of a variable in the subkernel. This function should return a tuple of two items `(desc, preview)` where\n",
    "\n",
    "* `desc` should be a text (can be empty) that describes the type, size, dimension, or other general information of the variable, which will be displayed after variable name.\n",
    "* `preview` can be\n",
    "  * A single `str` that are printed as `stdout`\n",
    "  * A dictionary, which should contain keys such as `text/plain`, `text/html`, `image/png` and corresponding data. The data will be sent directly as `display_data` and allows you to return different types of preview result, even images.\n",
    "  * A list or tuple of two dictionaries, with the first being the `data` dictionary, and the second being the `metadata` directionary for a `display_data` message.\n",
    "  "
   ]
  },
  {
   "cell_type": "markdown",
   "metadata": {
    "kernel": "SoS"
   },
   "source": [
    "#### Function `sessioninfo(self)`\n",
    "\n",
    "Function `sessioninfo` should a Python function that returns information of the running kernel, usually including version of the language, the kernel, and currently used packages and their versions. For `R`, this means a call to `sessionInfo()` function. The return value of this function can be \n",
    "\n",
    "* A string\n",
    "* A list of strings or `(key, value)` pairs, or\n",
    "* A dictinary.\n",
    "\n",
    "The function will be called by the `%sessioninfo` magic of SoS."
   ]
  },
  {
   "cell_type": "markdown",
   "metadata": {
    "kernel": "SoS"
   },
   "source": [
    "### Obtain variable from SoS\n",
    "\n",
    "The `get_vars` function should be defined as\n",
    "\n",
    "```python\n",
    "def get_vars(self, var_names)\n",
    "```\n",
    "where \n",
    "\n",
    "* `self` is the language instance with access to the SoS kernel, and\n",
    "* `var_names` are names in the sos dictionary.\n",
    "\n",
    "This function is responsible for probing the type of Python variable and create a similar object in the subkernel."
   ]
  },
  {
   "cell_type": "markdown",
   "metadata": {
    "kernel": "SoS"
   },
   "source": [
    "For example, to create a Python object `b = [1, 2]` in `R` (magic `%get`), this function could\n",
    "\n",
    "1. Obtain a R expression to create this variable (e.g. `b <- c(1, 2)`)\n",
    "2. Execute the expression in the subkernel to create variable `b` in it.\n",
    "\n",
    "Note that the function `get_vars` can change the variable name because a valid variable name in Python might not be a valid variable name in another language. The function should give a warning (call `self.sos_kernel.warn()`) if this happens."
   ]
  },
  {
   "cell_type": "markdown",
   "metadata": {
    "kernel": "SoS"
   },
   "source": [
    "### Send variables to other kernels\n",
    "\n",
    "The `put_vars` function should be defined as\n",
    "\n",
    "```python\n",
    "def put_vars(self, var_names, to_kernel=None)\n",
    "```\n",
    "where\n",
    "\n",
    "1. `self` is the language instance with access to the SoS kernel\n",
    "2. `var_name` is a list of variables that should exist in the subkernel. \n",
    "3. `to_kernel` is the destination kernel to which the variables should be passed.\n",
    "\n",
    "Depending on destination kernel, this function can:\n",
    "\n",
    "* If direct variable transfer is not supported by the language, the function can return a Python dictionary, in which case the language transfers the variables to SoS and let SoS pass along to the destination kernel.\n",
    "* If direct variable transfer is supported, the function should return a string. SoS will evaluate the string in the destination kernel to pass variables directly to the destination kernel.\n",
    "  \n",
    "So basically, a language can start with an implementation of `put_vars(to_kernel='sos')` and let SoS handle the rest. If needs arise, it can\n",
    "\n",
    "* Implement variable exchanges between instances of the same language. This can be useful because there are usually lossness and more efficient methods in this case.\n",
    "* Put variable to another languages where direct varable transfer is much more efficient than transferring through SoS.\n",
    "\n",
    "**NOTE**: SoS Notebook before version 0.20.5 supports a feature called automatic variable transfer, which automatically transfers variables with names starting with `sos` between kernels. This feature has been deprecated. ([#253](https://github.com/vatlab/sos-notebook/issues/253))."
   ]
  },
  {
   "cell_type": "markdown",
   "metadata": {
    "kernel": "SoS"
   },
   "source": [
    "For example, to send a `R` object `b <- c(1, 2)` from subkernel `R` to `SoS` (magic `%put`), this function can\n",
    "\n",
    "1. Execute an statement in the subkernel to get the value(s) of variable(s) in some format, for example, a string `\"{'b': [1, 2]}\"`.\n",
    "2. Post-process these varibles to return a dictionary to SoS.\n",
    "\n",
    "The [`R` sos extension](https://github.com/vatlab/SOS/blob/master/src/sos/R/kernel.py) provides a good example to get you started."
   ]
  },
  {
   "cell_type": "markdown",
   "metadata": {
    "kernel": "SoS"
   },
   "source": [
    "**NOTE**: Unlike other language extension mechanisms in which the python module can get hold of the \"engine\" of the interpreter (e.g. `saspy` and matlab's Python extension start the interpreter for direct communication) or have access to lower level API of the language (e.g. `rpy2`), SoS only have access to the interface of the language and perform all conversions by executing commands in the subkernels and intercepting their response. Consequently,\n",
    "\n",
    "1. Data exchange can be slower than other methods.\n",
    "2. Data exchange is less dependent on version of the interpreter.\n",
    "2. Data exchange can happen between a local and a remote kernel.\n",
    "\n",
    "Also, although it can be more efficient to save large datasets to disk files and load in another kernel, this method does not work for kernels that do not share the same filesystem. We currently ignore this issue and assume all kernels have access to the same file system."
   ]
  },
  {
   "cell_type": "markdown",
   "metadata": {
    "kernel": "SoS"
   },
   "source": [
    "### Functions of `sos_kernel`"
   ]
  },
  {
   "cell_type": "markdown",
   "metadata": {
    "kernel": "SoS"
   },
   "source": [
    "With access to an instance of SoS kernel, you can call various functions of this kernel. However, the SoS kernel does not provide a stable API yet so you are advised to use only the following functions:"
   ]
  },
  {
   "cell_type": "markdown",
   "metadata": {
    "kernel": "SoS"
   },
   "source": [
    "#### `sos_kernel.warn(msg)`\n",
    "\n",
    "This function produces a warning message."
   ]
  },
  {
   "cell_type": "markdown",
   "metadata": {
    "kernel": "SoS"
   },
   "source": [
    "#### `sos_kernel.run_cell(statement, True, False, on_error='msg')`\n",
    "\n",
    "Execute a `statement` in the current subkernel, with `True`, `False` indicating that the execution should be done in the background and no output should be displayed. A message `on_error` will be displayed if the `statement` fails to execute."
   ]
  },
  {
   "cell_type": "markdown",
   "metadata": {
    "kernel": "SoS"
   },
   "source": [
    "#### `sos_kernel.get_response(statement, msg_type, name)`"
   ]
  },
  {
   "cell_type": "markdown",
   "metadata": {
    "kernel": "SoS"
   },
   "source": [
    "This function executes the statement and collects messages send back from the subkernel. Only messages in specified `msg_type` are kept (e.g. `stream`, `display_data`), and `name` can be one or both of `stdout` and `stderr` when `stream` is specified.\n",
    "\n",
    "The returned value is a list of \n",
    "\n",
    "```\n",
    "msg_type, msg_data\n",
    "msg_type, msg_data\n",
    "...\n",
    "```\n",
    "\n",
    "so \n",
    "\n",
    "```python\n",
    "self.sos_kernel.get_response('ls()', ('stream', ), \n",
    "                name=('stdout', ))[0][1]\n",
    "```\n",
    "runs a function `ls()` in the subkernel, collects `stdout`, and get the content of the first message."
   ]
  },
  {
   "cell_type": "markdown",
   "metadata": {
    "kernel": "SoS"
   },
   "source": [
    "### Debugging\n",
    "\n",
    "If you are having trouble in figuring out what messages have been returned (e.g. `display_data` and `stream` can look alike) from subkernels, you can use the [`%capture` magic](expand_capture_render.html) to show them in the console panel.\n",
    "\n",
    "You can also define environment variable `SOS_DEBUG=MESSAGE` (or `MESSAGE,KERNEL` etc) before starting the notebook server. This will cause SoS to, among other things, log messages processed by the `get_response` function to `~/.sos/sos_debug.log`."
   ]
  },
  {
   "cell_type": "markdown",
   "metadata": {
    "kernel": "SoS"
   },
   "source": [
    "### Logging\n",
    "\n",
    "If you would like to add your own debug messages to the log file, you can\n",
    "\n",
    "```python\n",
    "from sos.utils import env\n",
    "\n",
    "env.log_to_file('VARIABLE', f'Processing {var} of type {var.__class__.__name__}.')\n",
    "```\n",
    "\n",
    "If the log message can be expensive to format, you can check if `SOS_DEBUG` is defined before logging to the log file:\n",
    "\n",
    "```python\n",
    "if 'VARIABLE' in env.config['SOS_DEBUG'] or 'ALL' in env.config['SOS_DEBUG']:\n",
    "    env.log_to_file('VARIABLE', f'Processing {var} of type {var.__class__.__name__}.')\n",
    "```"
   ]
  },
  {
   "cell_type": "markdown",
   "metadata": {
    "kernel": "SoS"
   },
   "source": [
    "### Testing"
   ]
  },
  {
   "cell_type": "markdown",
   "metadata": {
    "kernel": "SoS"
   },
   "source": [
    "Although you can test your language module in many ways, it is highly recommended that you adopt a standard set of selenium-based tests that are executed by `pytest`. To create and run these tests, you should\n",
    "\n",
    "* Install [`selenium`](https://selenium-python.readthedocs.io/installation.html) and [`pytest`](https://docs.pytest.org/en/latest/)\n",
    "* Install Google Chrome and [chrome driver](http://chromedriver.chromium.org/)\n",
    "* Set environment variable `JUPYTER_TEST_BROWSER` to `live` if you would like to the test running. Otherwise the tests will be run in a virtual chrome browser without display.\n",
    "* Copy three test files from [tests for `sos-r`](https://github.com/vatlab/sos-r/tree/master/test) and adapt them for your language.\n",
    "\n",
    "#### Test files\n",
    "\n",
    "The test suite contains three files:\n",
    "\n",
    "* `conftest.py`\n",
    "\n",
    "  This is the configuration file for `pytest` that defines how to start a Jupyter server with the notebook with the right kernel. You can simply copy this file for your purpose.\n",
    "\n",
    "* `test_interface.py`\n",
    "\n",
    "  This file contains tests on the interface of the language module, including\n",
    "\n",
    "  * Test for prompt color\n",
    "  * Test for magic `%cd`\n",
    "  * Test for change of variable names for magics `%put` and `%get`\n",
    "  * Test for the automatic exchange of `sos` variables (variables with names starting with `sos`\n",
    "  * Test for the `%preview` magic\n",
    "  * Test for the `%sessioninfo` magic\n",
    "  \n",
    "\n",
    "* `test_data_exchange.py`\n",
    "\n",
    "  This file should contain tests for data exchange between SoS (Python) and the language, and optionally between subkernels. It should separate by data types and direction of data transfer.\n",
    "  \n",
    "All tests should be derived from `NotebookTest` derived from `sos_notebook.test_utils`, and use a [pytest fixture](https://docs.pytest.org/en/latest/fixture.html) `notebook` as follows:\n",
    "\n",
    "```python\n",
    "from sos_notebook.test_utils import NotebookTest\n",
    "\n",
    "class TestDataExchange(NotebookTest):\n",
    "    def test_something(self, notebook):\n",
    "        pass\n",
    "```    "
   ]
  },
  {
   "cell_type": "markdown",
   "metadata": {
    "kernel": "SoS"
   },
   "source": [
    "#### The `notebook` fixture\n",
    "\n",
    "The `notebook` fixture that is passed to each test function contains a notebook instance that you can operate on. Although there are a large number of functions, you most likely only need to learn two of them for your tests:\n",
    "\n",
    "1. `notebook.call(statement, kernel, expect_error=False)`\n",
    "\n",
    "  This function append a new cell to the end of notebook, insert the specified `statement` as its content, change the kernel of the cell to `kernel`, and executes the cell. It automatically dedent `statement` so you can indent multiple statements and cal\n",
    "  \n",
    "  ```python\n",
    "        notebook.call('''\\\n",
    "            %put df --to R\n",
    "            import pandas as pd\n",
    "            import numpy as np\n",
    "            arr = np.random.randn(1000)\n",
    "            arr[::10] = np.nan\n",
    "            df = pd.DataFrame({'column_{0}'.format(i): arr for i in range(10)})\n",
    "            ''', kernel='SoS')\n",
    "  ```\n",
    "  \n",
    "  This function returns the index of the cell so that you can call `notebook.get_cell_output(idx)` if needed. If you are supposed to see some warning messages, use `expect_error=True`. Otherwise the function will raise an exception that fails the test.\n",
    "  \n",
    "2. `notebook.check_output(statement, kernel, expect_error=False, selector=None, attribute=None)`\n",
    "\n",
    "  This function calls the `notebook.call(statement, kernel)` and then `notebook.get_cell_output(idx, selector, attribute)` to get the output. The output contains all the `text` of the output, and additional text from non-text elements. For example, `selector='img', attribute='src'` would return text in `<img src=\"blah\">` output. Using this function, most of your unittests can look like the following\n",
    "  \n",
    "  ```python\n",
    "  def test_sessioninfo(self, notebook):\n",
    "      assert 'R version' in notebook.check_output(\n",
    "          '%sessioninfo', kernel=\"SoS\")\n",
    "  ```                                         "
   ]
  },
  {
   "cell_type": "markdown",
   "metadata": {
    "kernel": "SoS"
   },
   "source": [
    "## Registering the new language module"
   ]
  },
  {
   "cell_type": "markdown",
   "metadata": {
    "kernel": "SoS"
   },
   "source": [
    "To register a language module with SoS, you will need to add your module to an entry point under section `sos-language`. This can be done by adding the something like the following to your `setup.py`:\n",
    "\n",
    "\n",
    "```python\n",
    "entry_points='''\n",
    "[sos_language]\n",
    "Perl = sos_perl.kernel:sos_Perl\n",
    "'''\n",
    "```\n",
    "\n",
    "With the installation of this package, `sos` would be able to import a class `sos_Perl` from module `sos_perl.kernel`, and use it to work with the `Perl` language."
   ]
  },
  {
   "cell_type": "markdown",
   "metadata": {
    "kernel": "SoS"
   },
   "source": [
    "## Further reading\n",
    "\n",
    "* [`%capture` magic](expand_capture_render.html) for dumping messages from subkernels"
   ]
  }
 ],
 "metadata": {
  "anaconda-cloud": {},
  "kernelspec": {
   "display_name": "SoS",
   "language": "sos",
   "name": "sos"
  },
  "language_info": {
   "codemirror_mode": "sos",
   "file_extension": ".sos",
   "mimetype": "text/x-sos",
   "name": "sos",
   "nbconvert_exporter": "sos_notebook.converter.SoS_Exporter",
   "pygments_lexer": "sos"
  },
  "sos": {
   "default_kernel": "SoS",
   "kernels": [
    [
     "SoS",
     "sos",
     "",
     "",
     "sos"
    ],
    [
     "sparql",
     "sparql",
     "sparql",
     "",
     {
      "name": "sparql"
     }
    ]
   ],
   "panel": {
    "displayed": true,
    "height": 0,
    "style": "side"
   },
   "version": "0.20.6"
  },
  "toc": {
   "colors": {
    "hover_highlight": "#DAA520",
    "running_highlight": "#FF0000",
    "selected_highlight": "#FFD700"
   },
   "moveMenuLeft": true,
   "nav_menu": {
    "height": "141px",
    "width": "252px"
   },
   "navigate_menu": true,
   "number_sections": true,
   "sideBar": true,
   "threshold": 4,
   "toc_cell": false,
   "toc_section_display": "block",
   "toc_window_display": true
  }
 },
 "nbformat": 4,
 "nbformat_minor": 4
}
