{
 "cells": [
  {
   "cell_type": "markdown",
   "metadata": {
    "kernel": "SoS",
    "papermill": {
     "duration": 0.031558,
     "end_time": "2019-12-23T17:05:48.398706",
     "exception": false,
     "start_time": "2019-12-23T17:05:48.367148",
     "status": "completed"
    },
    "tags": []
   },
   "source": [
    "# Running scripts in singularity"
   ]
  },
  {
   "cell_type": "markdown",
   "metadata": {
    "kernel": "SoS",
    "papermill": {
     "duration": 0.030769,
     "end_time": "2019-12-23T17:05:48.457830",
     "exception": false,
     "start_time": "2019-12-23T17:05:48.427061",
     "status": "completed"
    },
    "tags": []
   },
   "source": [
    "* **Difficulty level**: intermediate\n",
    "* **Time need to lean**: 30 minutes or less\n",
    "* **Key points**:\n",
    "  * Using `container='library:xxx'` etc will enable `engine='singularity'`\n",
    "  * `engine='singularity'` is explicitly needed for docker images.  "
   ]
  },
  {
   "cell_type": "markdown",
   "metadata": {
    "kernel": "SoS",
    "papermill": {
     "duration": 0.024136,
     "end_time": "2019-12-23T17:05:48.504909",
     "exception": false,
     "start_time": "2019-12-23T17:05:48.480773",
     "status": "completed"
    },
    "tags": []
   },
   "source": [
    "Before you run any script using singularity, please check if `singularity` is installed by checking the availability of command `singularity`. Also, it would be helpful for you to read the [sigularity user's guide](https://sylabs.io/guides/3.3/user-guide/index.html) or some online tutorial to understand how singularity works before you try to use singularity in SoS.\n",
    "\n",
    "Although running singularity images does not need root privilege, building singularity images often requires `sudo` access. SoS provides an option `sudo=True` to the `singularity_build` action (an equivalence to command `singularity build`) to execute the command in sudo mode, but it does not accept interactive input of password. So before running any `singularity_build` action with option `sudo=True`, please run `sudo -i` to enter sudo mode, or add your username as a sudo user without password (google \"sudo without password\" for instructions). The latter is not safe but can be very convenient for you to prepare singularity images on a personal linux workstation."
   ]
  },
  {
   "cell_type": "markdown",
   "metadata": {
    "kernel": "SoS",
    "papermill": {
     "duration": 0.022784,
     "end_time": "2019-12-23T17:05:48.548846",
     "exception": false,
     "start_time": "2019-12-23T17:05:48.526062",
     "status": "completed"
    },
    "tags": []
   },
   "source": [
    "## Running a script using singularity"
   ]
  },
  {
   "cell_type": "markdown",
   "metadata": {
    "kernel": "SoS"
   },
   "source": [
    "### Options `container` and `engine`"
   ]
  },
  {
   "cell_type": "markdown",
   "metadata": {
    "kernel": "SoS",
    "papermill": {
     "duration": 0.021881,
     "end_time": "2019-12-23T17:05:48.595372",
     "exception": false,
     "start_time": "2019-12-23T17:05:48.573491",
     "status": "completed"
    },
    "tags": []
   },
   "source": [
    "SoS executes scripts with a singularity container by calling command `singularity exec` with appropriate parameters. For example, if you specify a container with a `library:` schema, sos will first pull the image, save it as a local image, and use `singularity exec` to run it:"
   ]
  },
  {
   "cell_type": "code",
   "execution_count": 1,
   "metadata": {
    "kernel": "SoS",
    "papermill": {
     "duration": 9.619689,
     "end_time": "2019-12-23T17:05:58.243671",
     "exception": false,
     "start_time": "2019-12-23T17:05:48.623982",
     "status": "completed"
    },
    "scrolled": true,
    "tags": []
   },
   "outputs": [
    {
     "name": "stdout",
     "output_type": "stream",
     "text": [
      "HINT: Pulling image library://alpine:latest to ~/.sos/singularity/library/alpine-latest.sif\n",
      "NAME=\"Alpine Linux\"\n",
      "ID=alpine\n",
      "VERSION_ID=3.9.2\n",
      "PRETTY_NAME=\"Alpine Linux v3.9\"\n",
      "HOME_URL=\"https://alpinelinux.org/\"\n",
      "BUG_REPORT_URL=\"https://bugs.alpinelinux.org/\"\n"
     ]
    }
   ],
   "source": [
    "%run -v1\n",
    "sh: container='library://alpine:latest'\n",
    "  cat /etc/os-release"
   ]
  },
  {
   "cell_type": "markdown",
   "metadata": {
    "kernel": "SoS",
    "papermill": {
     "duration": 0.024683,
     "end_time": "2019-12-23T17:05:58.293739",
     "exception": false,
     "start_time": "2019-12-23T17:05:58.269056",
     "status": "completed"
    },
    "tags": []
   },
   "source": [
    "The actual `singularity exec` command executed by SoS can be shown when you execute the script in dryrun mode (with `-n` option). In this mode, SoS would print the interpolated script (if option `expand=True` is set) and the docker command to execute it:"
   ]
  },
  {
   "cell_type": "code",
   "execution_count": 2,
   "metadata": {
    "kernel": "SoS",
    "papermill": {
     "duration": 0.042461,
     "end_time": "2019-12-23T17:05:58.359771",
     "exception": true,
     "start_time": "2019-12-23T17:05:58.317310",
     "status": "failed"
    },
    "tags": []
   },
   "outputs": [
    {
     "name": "stdout",
     "output_type": "stream",
     "text": [
      "HINT: singularity exec  /home/bpeng1/.sos/singularity/library/alpine-latest.sif /bin/sh /home/bpeng1/sos/sos-docs/src/user_guide/tmpurin91a5/singularity_run_32484.sh\n",
      "cat /etc/os-release\n",
      "\n"
     ]
    }
   ],
   "source": [
    "%run -v1 -n\n",
    "sh: container='library://alpine:latest'\n",
    "  cat /etc/os-release"
   ]
  },
  {
   "cell_type": "markdown",
   "metadata": {
    "kernel": "SoS",
    "papermill": {
     "duration": null,
     "end_time": null,
     "exception": null,
     "start_time": null,
     "status": "pending"
    },
    "tags": []
   },
   "source": [
    "As you can see, the docker command looks similar to\n",
    "\n",
    "```\n",
    "singularity exec alpine-latest.sif /bin/sh /path/to/a/temp/script\n",
    "```\n",
    "\n",
    "Basically, SoS pulls the image and runs command `singularity exec` to execte the script with `/bin/sh` with the singularity image."
   ]
  },
  {
   "cell_type": "markdown",
   "metadata": {
    "kernel": "SoS",
    "papermill": {
     "duration": null,
     "end_time": null,
     "exception": null,
     "start_time": null,
     "status": "pending"
    },
    "tags": []
   },
   "source": [
    "You can also use a docker image with singularity. However, because `docker://` images are by default executed by docker, you will need to specify the use of singularity using parameter `engine='singularity'`:"
   ]
  },
  {
   "cell_type": "code",
   "execution_count": 3,
   "metadata": {
    "kernel": "SoS",
    "papermill": {
     "duration": null,
     "end_time": null,
     "exception": null,
     "start_time": null,
     "status": "pending"
    },
    "tags": []
   },
   "outputs": [
    {
     "name": "stdout",
     "output_type": "stream",
     "text": [
      "HINT: Pulling image docker://ubuntu to ~/.sos/singularity/library/ubuntu.sif\n",
      "NAME=\"Ubuntu\"\n",
      "VERSION=\"18.04.3 LTS (Bionic Beaver)\"\n",
      "ID=ubuntu\n",
      "ID_LIKE=debian\n",
      "PRETTY_NAME=\"Ubuntu 18.04.3 LTS\"\n",
      "VERSION_ID=\"18.04\"\n",
      "HOME_URL=\"https://www.ubuntu.com/\"\n",
      "SUPPORT_URL=\"https://help.ubuntu.com/\"\n",
      "BUG_REPORT_URL=\"https://bugs.launchpad.net/ubuntu/\"\n",
      "PRIVACY_POLICY_URL=\"https://www.ubuntu.com/legal/terms-and-policies/privacy-policy\"\n",
      "VERSION_CODENAME=bionic\n",
      "UBUNTU_CODENAME=bionic\n"
     ]
    }
   ],
   "source": [
    "%run -v1\n",
    "sh: container='docker://ubuntu', engine='singularity'\n",
    "  cat /etc/os-release"
   ]
  },
  {
   "cell_type": "markdown",
   "metadata": {
    "kernel": "SoS",
    "papermill": {
     "duration": null,
     "end_time": null,
     "exception": null,
     "start_time": null,
     "status": "pending"
    },
    "tags": []
   },
   "source": [
    "In summary, as listed [here](https://vatlab.github.io/sos-docs/doc/user_guide/sos_actions.html), you can invoke `singularity` with the following combinations of parameters `container` and `engine`:\n",
    "\n",
    "| `container` | `engine` | execute by | example | comment | \n",
    "| -- | -- | -- | -- | -- |\n",
    "| `filename.simg` | ` ` | singularity | `container='ubuntu.simg'` | |\n",
    "| `shub://tag` | ` ` | singularity | `container='shub://GodloveD/lolcow'` | Image will be pulled to a local image |\n",
    "| `library://tag` | ` ` | singularity | `container='library://GodloveD/lolcow'` | Image will be pulled to a local image |\n",
    "| `name` | `singularity` | singularity | `container='a_dir', engine='singularity'` | treat `name` as singularity image file or directory |\n",
    "| `docker://tag` | `singularity` | singularity |  `container='docker://godlovdc/lolcow', engine='singularity'`  |  |\n",
    "| `file://filename` | ` ` | singularity | `container='file://ubuntu.simg'` | |\n",
    "\n",
    "Simply put, singularity will be used by default with container `shub://`, `file://`, and `filename.simg`, but you will have to specify `engine='singularity'` if you would like to use a docker image or a directory."
   ]
  },
  {
   "cell_type": "markdown",
   "metadata": {
    "kernel": "SoS",
    "papermill": {
     "duration": null,
     "end_time": null,
     "exception": null,
     "start_time": null,
     "status": "pending"
    },
    "tags": []
   },
   "source": [
    "### Running script with singularity image"
   ]
  },
  {
   "cell_type": "markdown",
   "metadata": {
    "kernel": "SoS",
    "papermill": {
     "duration": null,
     "end_time": null,
     "exception": null,
     "start_time": null,
     "status": "pending"
    },
    "tags": []
   },
   "source": [
    "Although singularity accepts `docker://`, `shub://`, and 'library://' container types, SoS always pull the image and build a local `.sif` file before executing it. If the container is used again, the local `.sif` file will be used directly.\n",
    "\n",
    "For example, because an image has already been downloaded from the above example, SoS will not pull `docker://ubuntu` when using the container again"
   ]
  },
  {
   "cell_type": "code",
   "execution_count": 4,
   "metadata": {
    "kernel": "SoS",
    "papermill": {
     "duration": null,
     "end_time": null,
     "exception": null,
     "start_time": null,
     "status": "pending"
    },
    "tags": []
   },
   "outputs": [
    {
     "name": "stdout",
     "output_type": "stream",
     "text": [
      "ls /\n",
      "bin   dev\t   etc\t lib\tmedia  opt   root  sbin\t\tsrv  tmp  var\n",
      "boot  environment  home  lib64\tmnt    proc  run   singularity\tsys  usr\n"
     ]
    }
   ],
   "source": [
    "run: container='docker://ubuntu', engine='singularity'\n",
    "  ls /"
   ]
  },
  {
   "cell_type": "markdown",
   "metadata": {
    "kernel": "SoS",
    "papermill": {
     "duration": null,
     "end_time": null,
     "exception": null,
     "start_time": null,
     "status": "pending"
    },
    "tags": []
   },
   "source": [
    "You can use the name of the image directly (e.g. `container='ubuntu.sif'`) if you know the image has been downloaded:"
   ]
  },
  {
   "cell_type": "code",
   "execution_count": 5,
   "metadata": {
    "kernel": "SoS",
    "papermill": {
     "duration": null,
     "end_time": null,
     "exception": null,
     "start_time": null,
     "status": "pending"
    },
    "tags": []
   },
   "outputs": [
    {
     "name": "stdout",
     "output_type": "stream",
     "text": [
      "ls /\n",
      "bin   dev\t   etc\t lib\tmedia  opt   root  sbin\t\tsrv  tmp  var\n",
      "boot  environment  home  lib64\tmnt    proc  run   singularity\tsys  usr\n"
     ]
    }
   ],
   "source": [
    "run: container='ubuntu.sif'\n",
    "  ls /"
   ]
  },
  {
   "cell_type": "markdown",
   "metadata": {
    "kernel": "SoS"
   },
   "source": [
    "### Customize singularity image path\n",
    "\n",
    "By default, downloaded singularity images are saved to the SoS Singularity Library located at `~/.sos/singularity/library`. Environment variable `SOS_SINGULARITY_LIBRARY` can be used to set customized directory, e.g.,\n",
    "\n",
    "```bash\n",
    "export SOS_SINGULARITY_LIBRARY=/path/to/sif_folder\n",
    "```\n",
    "\n",
    "SoS will use `*.sif` files in `$SOS_SINGULARITY_LIBRARY` if they exist. As a result you can manually place existing image files to `$SOS_SINGULARITY_LIBRARY` to avoid pull images online attempts. This is useful when for example a workflow runs on a compute node without internet access."
   ]
  },
  {
   "cell_type": "markdown",
   "metadata": {
    "kernel": "SoS",
    "papermill": {
     "duration": null,
     "end_time": null,
     "exception": null,
     "start_time": null,
     "status": "pending"
    },
    "tags": []
   },
   "source": [
    "### Binding directories (option `bind`)"
   ]
  },
  {
   "cell_type": "markdown",
   "metadata": {
    "kernel": "SoS",
    "papermill": {
     "duration": null,
     "end_time": null,
     "exception": null,
     "start_time": null,
     "status": "pending"
    },
    "tags": []
   },
   "source": [
    "A very useful feature about singularity is that you can use the container almost as a local command with access to local file system,"
   ]
  },
  {
   "cell_type": "code",
   "execution_count": 6,
   "metadata": {
    "kernel": "SoS",
    "papermill": {
     "duration": null,
     "end_time": null,
     "exception": null,
     "start_time": null,
     "status": "pending"
    },
    "tags": []
   },
   "outputs": [
    {
     "name": "stdout",
     "output_type": "stream",
     "text": [
      "wc -l ~/.bashrc\n",
      "136 /home/bpeng1/.bashrc\n"
     ]
    }
   ],
   "source": [
    "run: container='ubuntu.sif'\n",
    "  wc -l ~/.bashrc"
   ]
  },
  {
   "cell_type": "markdown",
   "metadata": {
    "kernel": "SoS",
    "papermill": {
     "duration": null,
     "end_time": null,
     "exception": null,
     "start_time": null,
     "status": "pending"
    },
    "tags": []
   },
   "source": [
    "However, singularity only binds current working directory, `/tmp`, and your home directory. Other directories would be from within the image, or appear to be missing even if they exist on the host file system. For example, the following command lists `/usr/local` inside the image:"
   ]
  },
  {
   "cell_type": "code",
   "execution_count": 7,
   "metadata": {
    "kernel": "SoS",
    "papermill": {
     "duration": null,
     "end_time": null,
     "exception": null,
     "start_time": null,
     "status": "pending"
    },
    "tags": []
   },
   "outputs": [
    {
     "name": "stdout",
     "output_type": "stream",
     "text": [
      "ls /usr/local\n",
      "bin  etc  games  include  lib  man  sbin  share  src\n"
     ]
    }
   ],
   "source": [
    "run: container='ubuntu.sif'\n",
    "  ls /usr/local"
   ]
  },
  {
   "cell_type": "markdown",
   "metadata": {
    "kernel": "SoS",
    "papermill": {
     "duration": null,
     "end_time": null,
     "exception": null,
     "start_time": null,
     "status": "pending"
    },
    "tags": []
   },
   "source": [
    "and `/usr/local/var` would appear to be missing"
   ]
  },
  {
   "cell_type": "code",
   "execution_count": 8,
   "metadata": {
    "kernel": "SoS",
    "papermill": {
     "duration": null,
     "end_time": null,
     "exception": null,
     "start_time": null,
     "status": "pending"
    },
    "tags": []
   },
   "outputs": [
    {
     "name": "stdout",
     "output_type": "stream",
     "text": [
      "ls /usr/local/var\n",
      "ls: cannot access '/usr/local/var': No such file or directory\n"
     ]
    },
    {
     "name": "stderr",
     "output_type": "stream",
     "text": [
      "ExecuteError: [0]: Executing script in Singularity returns an error (exitcode=2).\n",
      "The script has been saved to /home/bpeng1/sos/sos-docs/src/user_guide/.sos/singularity_run_32376.sh. To reproduce the error please run:\n",
      "``singularity exec  /home/bpeng1/.sos/singularity/library/ubuntu.sif /bin/bash -ev /home/bpeng1/sos/sos-docs/src/user_guide/.sos/singularity_run_32376.sh``"
     ]
    }
   ],
   "source": [
    "%env --expect-error\n",
    "run: container='ubuntu.sif'\n",
    "  ls /usr/local/var"
   ]
  },
  {
   "cell_type": "markdown",
   "metadata": {
    "kernel": "SoS",
    "papermill": {
     "duration": null,
     "end_time": null,
     "exception": null,
     "start_time": null,
     "status": "pending"
    },
    "tags": []
   },
   "source": [
    "To allow singularity to see more directories, you can add one or more parameters to the `bind` parameter. For example, with `bind='/usr/local'`, the `singularity exec` command lists directory `/usr/local` from the host filesystem:"
   ]
  },
  {
   "cell_type": "code",
   "execution_count": 9,
   "metadata": {
    "kernel": "SoS",
    "papermill": {
     "duration": null,
     "end_time": null,
     "exception": null,
     "start_time": null,
     "status": "pending"
    },
    "tags": []
   },
   "outputs": [
    {
     "name": "stdout",
     "output_type": "stream",
     "text": [
      "ls /usr/local\n",
      "bin  etc  games  go  include  lib  libexec  man  sbin  share  src  var\n"
     ]
    }
   ],
   "source": [
    "run: container='ubuntu.sif', bind='/usr/local'\n",
    "  ls /usr/local"
   ]
  },
  {
   "cell_type": "markdown",
   "metadata": {
    "kernel": "SoS",
    "papermill": {
     "duration": null,
     "end_time": null,
     "exception": null,
     "start_time": null,
     "status": "pending"
    },
    "tags": []
   },
   "source": [
    "and we can see `/usr/local/var` actually exists"
   ]
  },
  {
   "cell_type": "code",
   "execution_count": 10,
   "metadata": {
    "kernel": "SoS",
    "papermill": {
     "duration": null,
     "end_time": null,
     "exception": null,
     "start_time": null,
     "status": "pending"
    },
    "tags": []
   },
   "outputs": [
    {
     "name": "stdout",
     "output_type": "stream",
     "text": [
      "ls /usr/local/var\n",
      "singularity\n"
     ]
    }
   ],
   "source": [
    "run: container='ubuntu.sif', bind='/usr/local'\n",
    "  ls /usr/local/var"
   ]
  },
  {
   "cell_type": "markdown",
   "metadata": {
    "kernel": "SoS",
    "papermill": {
     "duration": null,
     "end_time": null,
     "exception": null,
     "start_time": null,
     "status": "pending"
    },
    "tags": []
   },
   "source": [
    "Parameter `bind` accepts `host_dir:img_dir` pairs to mount `host_dir` from host as `img_dir` seen by the image"
   ]
  },
  {
   "cell_type": "code",
   "execution_count": 11,
   "metadata": {
    "kernel": "SoS",
    "papermill": {
     "duration": null,
     "end_time": null,
     "exception": null,
     "start_time": null,
     "status": "pending"
    },
    "tags": []
   },
   "outputs": [
    {
     "name": "stdout",
     "output_type": "stream",
     "text": [
      "ls /myvar\n",
      "singularity\n"
     ]
    }
   ],
   "source": [
    "%run -v1\n",
    "run: container='ubuntu.sif', bind='/usr/local/var:/myvar'\n",
    "  ls /myvar"
   ]
  },
  {
   "cell_type": "markdown",
   "metadata": {
    "kernel": "SoS"
   },
   "source": [
    "### Other `singularity exec` options"
   ]
  },
  {
   "cell_type": "markdown",
   "metadata": {
    "kernel": "SoS"
   },
   "source": [
    "You can use parameter entrypoint to change the environment in which the interpreter will be executed. An entrypoint is usually the name of a shell script that defines a number of environment variables and run the command given by the command line parameters in such a way that the current process is replaced by it,\n",
    "\n",
    "```SoS\n",
    "#!/bin/bash\n",
    "\n",
    "set -o errexit\n",
    "set -o pipefail\n",
    "set -o nounset\n",
    "\n",
    "export MY_ENV=MY_VALUE\n",
    "\n",
    "exec \"$@\"\n",
    "```\n",
    "but it can also be other commands such as `micromamba run -n ENVIRONMENT`.\n",
    "\n",
    "For example, the following statement will execute `interpreter` Rscript"
   ]
  },
  {
   "cell_type": "code",
   "execution_count": null,
   "metadata": {
    "kernel": "SoS"
   },
   "outputs": [
    {
     "name": "stdout",
     "output_type": "stream",
     "text": [
      "\u001b[34mINFO:   \u001b[0m Running default:\n",
      "\u001b[34mINFO:   \u001b[0m default is completed.\n",
      "\u001b[34mINFO:   \u001b[0m Workflow default is executed successfully with 1 completed step.\n"
     ]
    },
    {
     "data": {},
     "execution_count": null,
     "metadata": {},
     "output_type": "execute_result"
    }
   ],
   "source": [
    "R: entrypoint = 'micromamba run -n ENVIRONMENT'"
   ]
  },
  {
   "cell_type": "markdown",
   "metadata": {
    "kernel": "SoS"
   },
   "source": [
    "It's equivalent to the following statement"
   ]
  },
  {
   "cell_type": "code",
   "execution_count": null,
   "metadata": {
    "kernel": "SoS"
   },
   "outputs": [],
   "source": [
    "script: interpreter = Rscript, entrypoint = 'micromamba run -n ENVIRONMENT'"
   ]
  },
  {
   "cell_type": "markdown",
   "metadata": {
    "kernel": "SoS",
    "papermill": {
     "duration": null,
     "end_time": null,
     "exception": null,
     "start_time": null,
     "status": "pending"
    },
    "tags": []
   },
   "source": [
    "## Building singularity images"
   ]
  },
  {
   "cell_type": "markdown",
   "metadata": {
    "kernel": "SoS"
   },
   "source": [
    "If you need to pass other options to command `singularity exec`, you can specify them as additional keyword arguments for the `run` (or other) actions. For example,"
   ]
  },
  {
   "cell_type": "code",
   "execution_count": null,
   "metadata": {
    "kernel": "SoS"
   },
   "outputs": [],
   "source": [
    "run: container='docker://ubuntu', engine='singularity', disable_cache=True\n",
    "  echo 'Echo'"
   ]
  },
  {
   "cell_type": "markdown",
   "metadata": {
    "kernel": "SoS"
   },
   "source": [
    "Note that you need to use format `OPT=True` to specify flag options such as `--nv`, and need to use underscore to specify options with `-` in their names."
   ]
  },
  {
   "cell_type": "markdown",
   "metadata": {
    "kernel": "SoS",
    "papermill": {
     "duration": null,
     "end_time": null,
     "exception": null,
     "start_time": null,
     "status": "pending"
    },
    "tags": []
   },
   "source": [
    "### Action `singularity_build` <a id=\"singularity_build\"></a>"
   ]
  },
  {
   "cell_type": "markdown",
   "metadata": {
    "kernel": "SoS",
    "papermill": {
     "duration": null,
     "end_time": null,
     "exception": null,
     "start_time": null,
     "status": "pending"
    },
    "tags": []
   },
   "source": [
    "Action `singularity_build` calls command `singularity build` with appropriate command line options. The SoS equivalence of the example in the singularity user's guide\n",
    "\n",
    "```\n",
    "singularity build lolcow.sif library://sylabsed/examples/lolcow\n",
    "```\n",
    "is the `singularity_build` action with options `src` and `dest`:"
   ]
  },
  {
   "cell_type": "code",
   "execution_count": 12,
   "metadata": {
    "kernel": "SoS",
    "papermill": {
     "duration": null,
     "end_time": null,
     "exception": null,
     "start_time": null,
     "status": "pending"
    },
    "tags": []
   },
   "outputs": [
    {
     "name": "stdout",
     "output_type": "stream",
     "text": [
      "\u001b[34mINFO:   \u001b[0m Starting build...\n",
      "\u001b[34mINFO:   \u001b[0m Creating SIF file...\n",
      "\u001b[34mINFO:   \u001b[0m Build complete: lolcow.sif\n"
     ]
    },
    {
     "data": {
      "text/plain": [
       "0"
      ]
     },
     "execution_count": 12,
     "metadata": {},
     "output_type": "execute_result"
    }
   ],
   "source": [
    "singularity_build(src='library://sylabsed/examples/lolcow', dest='lolcow.sif', force=True)"
   ]
  },
  {
   "cell_type": "markdown",
   "metadata": {
    "kernel": "SoS",
    "papermill": {
     "duration": null,
     "end_time": null,
     "exception": null,
     "start_time": null,
     "status": "pending"
    },
    "tags": []
   },
   "source": [
    "You can also use action `singularity_build` to build an image from a singularity definition file. Using an example from the user's guide:"
   ]
  },
  {
   "cell_type": "code",
   "execution_count": 13,
   "metadata": {
    "kernel": "SoS",
    "papermill": {
     "duration": null,
     "end_time": null,
     "exception": null,
     "start_time": null,
     "status": "pending"
    },
    "tags": []
   },
   "outputs": [
    {
     "name": "stdout",
     "output_type": "stream",
     "text": [
      "\u001b[34mINFO:   \u001b[0m Starting build...\n",
      "Getting image source signatures\n",
      "Copying blob 3386e6af03b0 [--------------------------------------] 0b / 0b\n",
      "Copying blob 49ac0bbe6c8e [--------------------------------------] 0b / 0b\n",
      "Copying blob d1983a67e104 [--------------------------------------] 0b / 0b\n",
      "Copying blob 1a0f3a523f04 [--------------------------------------] 0b / 0b\n",
      "Copying blob 3386e6af03b0 skipped: already exists\n",
      "Copying blob 49ac0bbe6c8e skipped: already exists\n",
      "Copying blob d1983a67e104 skipped: already exists\n",
      "Copying blob 1a0f3a523f04 skipped: already exists\n",
      "Copying config ea9ba824b3 [====================================] 2.4KiB / 2.4KiB\n",
      "Copying config ea9ba824b3 done\n",
      "Writing manifest to image destination\n",
      "Storing signatures\n",
      "2019/12/30 11:38:13  info unpack layer: sha256:3386e6af03b043219225367632569465e5ecd47391d1f99a6d265e51bd463a83\n",
      "2019/12/30 11:38:14  info unpack layer: sha256:49ac0bbe6c8eeb959337b336ceaa5c3bbbae81e316025f9b94ede453540f2377\n",
      "2019/12/30 11:38:14  info unpack layer: sha256:d1983a67e104e801fceb1850a375a71fe6b62636ba7a8403d9644f308a6a43f9\n",
      "2019/12/30 11:38:14  info unpack layer: sha256:1a0f3a523f04f61db942018321ae122f90d8e3303e243b005e8de9817daf7028\n",
      "\u001b[34mINFO:   \u001b[0m Running post scriptlet\n",
      "+ apt-get -y update\n",
      "Get:1 http://security.ubuntu.com/ubuntu xenial-security InRelease [109 kB]\n",
      "Get:2 http://archive.ubuntu.com/ubuntu xenial InRelease [247 kB]\n",
      "Get:3 http://security.ubuntu.com/ubuntu xenial-security/main amd64 Packages [1019 kB]\n",
      "Get:4 http://archive.ubuntu.com/ubuntu xenial-updates InRelease [109 kB]       \n",
      "Get:5 http://archive.ubuntu.com/ubuntu xenial-backports InRelease [107 kB]     \n",
      "Get:6 http://archive.ubuntu.com/ubuntu xenial/main amd64 Packages [1558 kB]    \n",
      "Get:7 http://security.ubuntu.com/ubuntu xenial-security/restricted amd64 Packages [12.7 kB]\n",
      "Get:8 http://security.ubuntu.com/ubuntu xenial-security/universe amd64 Packages [593 kB]\n",
      "Get:9 http://security.ubuntu.com/ubuntu xenial-security/multiverse amd64 Packages [6280 B]\n",
      "Get:10 http://archive.ubuntu.com/ubuntu xenial/restricted amd64 Packages [14.1 kB]\n",
      "Get:11 http://archive.ubuntu.com/ubuntu xenial/universe amd64 Packages [9827 kB]\n",
      "Get:12 http://archive.ubuntu.com/ubuntu xenial/multiverse amd64 Packages [176 kB]\n",
      "Get:13 http://archive.ubuntu.com/ubuntu xenial-updates/main amd64 Packages [1396 kB]\n",
      "Get:14 http://archive.ubuntu.com/ubuntu xenial-updates/restricted amd64 Packages [13.1 kB]\n",
      "Get:15 http://archive.ubuntu.com/ubuntu xenial-updates/universe amd64 Packages [996 kB]\n",
      "Get:16 http://archive.ubuntu.com/ubuntu xenial-updates/multiverse amd64 Packages [19.3 kB]\n",
      "Get:17 http://archive.ubuntu.com/ubuntu xenial-backports/main amd64 Packages [7942 B]\n",
      "Get:18 http://archive.ubuntu.com/ubuntu xenial-backports/universe amd64 Packages [8807 B]\n",
      "Fetched 16.2 MB in 3s (4260 kB/s)                          \n",
      "Reading package lists... Done\n",
      "+ apt-get -y install fortune cowsay lolcat\n",
      "Reading package lists... Done\n",
      "Building dependency tree       \n",
      "Reading state information... Done\n",
      "Note, selecting 'fortune-mod' instead of 'fortune'\n",
      "The following additional packages will be installed:\n",
      "  ca-certificates cowsay-off fonts-lato fortunes-min ifupdown iproute2\n",
      "  isc-dhcp-client isc-dhcp-common javascript-common libatm1 libdns-export162\n",
      "  libffi6 libgdbm3 libgmp10 libisc-export160 libjs-jquery libmnl0 libperl5.22\n",
      "  librecode0 libruby2.3 libssl1.0.0 libtext-charwidth-perl libxtables11\n",
      "  libyaml-0-2 netbase openssl perl perl-modules-5.22 rake rename ruby\n",
      "  ruby-did-you-mean ruby-minitest ruby-net-telnet ruby-paint ruby-power-assert\n",
      "  ruby-test-unit ruby-trollop ruby2.3 rubygems-integration unzip zip\n",
      "Suggested packages:\n",
      "  filters fortunes x11-utils bsdmainutils ppp rdnssd iproute2-doc resolvconf\n",
      "  avahi-autoipd isc-dhcp-client-ddns apparmor apache2 | lighttpd | httpd\n",
      "  perl-doc libterm-readline-gnu-perl | libterm-readline-perl-perl make ri\n",
      "  ruby-dev bundler\n",
      "The following NEW packages will be installed:\n",
      "  ca-certificates cowsay cowsay-off fonts-lato fortune-mod fortunes-min\n",
      "  ifupdown iproute2 isc-dhcp-client isc-dhcp-common javascript-common libatm1\n",
      "  libdns-export162 libffi6 libgdbm3 libgmp10 libisc-export160 libjs-jquery\n",
      "  libmnl0 libperl5.22 librecode0 libruby2.3 libssl1.0.0 libtext-charwidth-perl\n",
      "  libxtables11 libyaml-0-2 lolcat netbase openssl perl perl-modules-5.22 rake\n",
      "  rename ruby ruby-did-you-mean ruby-minitest ruby-net-telnet ruby-paint\n",
      "  ruby-power-assert ruby-test-unit ruby-trollop ruby2.3 rubygems-integration\n",
      "  unzip zip\n",
      "0 upgraded, 45 newly installed, 0 to remove and 0 not upgraded.\n",
      "Need to get 17.2 MB of archives.\n",
      "After this operation, 81.5 MB of additional disk space will be used.\n",
      "Get:1 http://archive.ubuntu.com/ubuntu xenial/main amd64 libatm1 amd64 1:2.5.1-1.5 [24.2 kB]\n",
      "Get:2 http://archive.ubuntu.com/ubuntu xenial/main amd64 libmnl0 amd64 1.0.3-5 [12.0 kB]\n",
      "Get:3 http://archive.ubuntu.com/ubuntu xenial/main amd64 libgdbm3 amd64 1.8.3-13.1 [16.9 kB]\n",
      "Get:4 http://archive.ubuntu.com/ubuntu xenial/main amd64 fonts-lato all 2.0-1 [2693 kB]\n",
      "Get:5 http://archive.ubuntu.com/ubuntu xenial/main amd64 libyaml-0-2 amd64 0.1.6-3 [47.6 kB]\n",
      "Get:6 http://archive.ubuntu.com/ubuntu xenial-updates/main amd64 perl-modules-5.22 all 5.22.1-9ubuntu0.6 [2629 kB]\n",
      "Get:7 http://archive.ubuntu.com/ubuntu xenial-updates/main amd64 libperl5.22 amd64 5.22.1-9ubuntu0.6 [3405 kB]\n",
      "Get:8 http://archive.ubuntu.com/ubuntu xenial-updates/main amd64 perl amd64 5.22.1-9ubuntu0.6 [237 kB]\n",
      "Get:9 http://archive.ubuntu.com/ubuntu xenial-updates/main amd64 iproute2 amd64 4.3.0-1ubuntu3.16.04.5 [523 kB]\n",
      "Get:10 http://archive.ubuntu.com/ubuntu xenial-updates/main amd64 ifupdown amd64 0.8.10ubuntu1.4 [54.9 kB]\n",
      "Get:11 http://archive.ubuntu.com/ubuntu xenial-updates/main amd64 libisc-export160 amd64 1:9.10.3.dfsg.P4-8ubuntu1.15 [153 kB]\n",
      "Get:12 http://archive.ubuntu.com/ubuntu xenial-updates/main amd64 libdns-export162 amd64 1:9.10.3.dfsg.P4-8ubuntu1.15 [665 kB]\n",
      "Get:13 http://archive.ubuntu.com/ubuntu xenial-updates/main amd64 isc-dhcp-client amd64 4.3.3-5ubuntu12.10 [224 kB]\n",
      "Get:14 http://archive.ubuntu.com/ubuntu xenial-updates/main amd64 isc-dhcp-common amd64 4.3.3-5ubuntu12.10 [105 kB]\n",
      "Get:15 http://archive.ubuntu.com/ubuntu xenial/main amd64 libffi6 amd64 3.2.1-4 [17.8 kB]\n",
      "Get:16 http://archive.ubuntu.com/ubuntu xenial/main amd64 libgmp10 amd64 2:6.1.0+dfsg-2 [240 kB]\n",
      "Get:17 http://archive.ubuntu.com/ubuntu xenial-updates/main amd64 libssl1.0.0 amd64 1.0.2g-1ubuntu4.15 [1084 kB]\n",
      "Get:18 http://archive.ubuntu.com/ubuntu xenial/main amd64 libtext-charwidth-perl amd64 0.04-7build5 [9248 B]\n",
      "Get:19 http://archive.ubuntu.com/ubuntu xenial/main amd64 libxtables11 amd64 1.6.0-2ubuntu3 [27.2 kB]\n",
      "Get:20 http://archive.ubuntu.com/ubuntu xenial/main amd64 netbase all 5.3 [12.9 kB]\n",
      "Get:21 http://archive.ubuntu.com/ubuntu xenial-updates/main amd64 openssl amd64 1.0.2g-1ubuntu4.15 [492 kB]\n",
      "Get:22 http://archive.ubuntu.com/ubuntu xenial-updates/main amd64 ca-certificates all 20170717~16.04.2 [167 kB]\n",
      "Get:23 http://archive.ubuntu.com/ubuntu xenial/universe amd64 cowsay all 3.03+dfsg1-15 [18.0 kB]\n",
      "Get:24 http://archive.ubuntu.com/ubuntu xenial/universe amd64 cowsay-off all 3.03+dfsg1-15 [3640 B]\n",
      "Get:25 http://archive.ubuntu.com/ubuntu xenial/main amd64 librecode0 amd64 3.6-22 [523 kB]\n",
      "Get:26 http://archive.ubuntu.com/ubuntu xenial/universe amd64 fortune-mod amd64 1:1.99.1-7 [39.5 kB]\n",
      "Get:27 http://archive.ubuntu.com/ubuntu xenial/universe amd64 fortunes-min all 1:1.99.1-7 [61.8 kB]\n",
      "Get:28 http://archive.ubuntu.com/ubuntu xenial/main amd64 javascript-common all 11 [6066 B]\n",
      "Get:29 http://archive.ubuntu.com/ubuntu xenial/main amd64 libjs-jquery all 1.11.3+dfsg-4 [161 kB]\n",
      "Get:30 http://archive.ubuntu.com/ubuntu xenial/main amd64 rubygems-integration all 1.10 [4966 B]\n",
      "Get:31 http://archive.ubuntu.com/ubuntu xenial/main amd64 ruby-did-you-mean all 1.0.0-2 [8390 B]\n",
      "Get:32 http://archive.ubuntu.com/ubuntu xenial/main amd64 ruby-minitest all 5.8.4-2 [36.6 kB]\n",
      "Get:33 http://archive.ubuntu.com/ubuntu xenial/main amd64 ruby-net-telnet all 0.1.1-2 [12.6 kB]\n",
      "Get:34 http://archive.ubuntu.com/ubuntu xenial/main amd64 ruby-power-assert all 0.2.7-1 [7668 B]\n",
      "Get:35 http://archive.ubuntu.com/ubuntu xenial/main amd64 ruby-test-unit all 3.1.7-2 [60.3 kB]\n",
      "Get:36 http://archive.ubuntu.com/ubuntu xenial-updates/main amd64 libruby2.3 amd64 2.3.1-2~ubuntu16.04.14 [2958 kB]\n",
      "Get:37 http://archive.ubuntu.com/ubuntu xenial-updates/main amd64 ruby2.3 amd64 2.3.1-2~ubuntu16.04.14 [40.8 kB]\n",
      "Get:38 http://archive.ubuntu.com/ubuntu xenial/main amd64 ruby all 1:2.3.0+1 [5530 B]\n",
      "Get:39 http://archive.ubuntu.com/ubuntu xenial/main amd64 rake all 10.5.0-2 [48.2 kB]\n",
      "Get:40 http://archive.ubuntu.com/ubuntu xenial/main amd64 rename all 0.20-4 [12.0 kB]\n",
      "Get:41 http://archive.ubuntu.com/ubuntu xenial/main amd64 unzip amd64 6.0-20ubuntu1 [158 kB]\n",
      "Get:42 http://archive.ubuntu.com/ubuntu xenial/main amd64 zip amd64 3.0-11 [158 kB]\n",
      "Get:43 http://archive.ubuntu.com/ubuntu xenial/universe amd64 ruby-trollop all 2.0-2 [14.8 kB]\n",
      "Get:44 http://archive.ubuntu.com/ubuntu xenial/universe amd64 ruby-paint all 0.8.6-1build1 [15.3 kB]\n",
      "Get:45 http://archive.ubuntu.com/ubuntu xenial/universe amd64 lolcat all 42.0.99-1 [5514 B]\n",
      "Fetched 17.2 MB in 4s (3617 kB/s) \n",
      "debconf: delaying package configuration, since apt-utils is not installed\n",
      "Selecting previously unselected package libatm1:amd64.\n",
      "(Reading database ... 4781 files and directories currently installed.)\n",
      "Preparing to unpack .../libatm1_1%3a2.5.1-1.5_amd64.deb ...\n",
      "Unpacking libatm1:amd64 (1:2.5.1-1.5) ...\n",
      "Selecting previously unselected package libmnl0:amd64.\n",
      "Preparing to unpack .../libmnl0_1.0.3-5_amd64.deb ...\n",
      "Unpacking libmnl0:amd64 (1.0.3-5) ...\n",
      "Selecting previously unselected package libgdbm3:amd64.\n",
      "Preparing to unpack .../libgdbm3_1.8.3-13.1_amd64.deb ...\n",
      "Unpacking libgdbm3:amd64 (1.8.3-13.1) ...\n",
      "Selecting previously unselected package fonts-lato.\n",
      "Preparing to unpack .../fonts-lato_2.0-1_all.deb ...\n",
      "Unpacking fonts-lato (2.0-1) ...\n",
      "Selecting previously unselected package libyaml-0-2:amd64.\n",
      "Preparing to unpack .../libyaml-0-2_0.1.6-3_amd64.deb ...\n",
      "Unpacking libyaml-0-2:amd64 (0.1.6-3) ...\n",
      "Selecting previously unselected package perl-modules-5.22.\n",
      "Preparing to unpack .../perl-modules-5.22_5.22.1-9ubuntu0.6_all.deb ...\n",
      "Unpacking perl-modules-5.22 (5.22.1-9ubuntu0.6) ...\n",
      "Selecting previously unselected package libperl5.22:amd64.\n",
      "Preparing to unpack .../libperl5.22_5.22.1-9ubuntu0.6_amd64.deb ...\n",
      "Unpacking libperl5.22:amd64 (5.22.1-9ubuntu0.6) ...\n",
      "Selecting previously unselected package perl.\n",
      "Preparing to unpack .../perl_5.22.1-9ubuntu0.6_amd64.deb ...\n",
      "Unpacking perl (5.22.1-9ubuntu0.6) ...\n",
      "Selecting previously unselected package iproute2.\n",
      "Preparing to unpack .../iproute2_4.3.0-1ubuntu3.16.04.5_amd64.deb ...\n",
      "Unpacking iproute2 (4.3.0-1ubuntu3.16.04.5) ...\n",
      "Selecting previously unselected package ifupdown.\n",
      "Preparing to unpack .../ifupdown_0.8.10ubuntu1.4_amd64.deb ...\n",
      "Unpacking ifupdown (0.8.10ubuntu1.4) ...\n",
      "Selecting previously unselected package libisc-export160.\n",
      "Preparing to unpack .../libisc-export160_1%3a9.10.3.dfsg.P4-8ubuntu1.15_amd64.deb ...\n",
      "Unpacking libisc-export160 (1:9.10.3.dfsg.P4-8ubuntu1.15) ...\n",
      "Selecting previously unselected package libdns-export162.\n",
      "Preparing to unpack .../libdns-export162_1%3a9.10.3.dfsg.P4-8ubuntu1.15_amd64.deb ...\n",
      "Unpacking libdns-export162 (1:9.10.3.dfsg.P4-8ubuntu1.15) ...\n",
      "Selecting previously unselected package isc-dhcp-client.\n",
      "Preparing to unpack .../isc-dhcp-client_4.3.3-5ubuntu12.10_amd64.deb ...\n",
      "Unpacking isc-dhcp-client (4.3.3-5ubuntu12.10) ...\n",
      "Selecting previously unselected package isc-dhcp-common.\n",
      "Preparing to unpack .../isc-dhcp-common_4.3.3-5ubuntu12.10_amd64.deb ...\n",
      "Unpacking isc-dhcp-common (4.3.3-5ubuntu12.10) ...\n",
      "Selecting previously unselected package libffi6:amd64.\n",
      "Preparing to unpack .../libffi6_3.2.1-4_amd64.deb ...\n",
      "Unpacking libffi6:amd64 (3.2.1-4) ...\n",
      "Selecting previously unselected package libgmp10:amd64.\n",
      "Preparing to unpack .../libgmp10_2%3a6.1.0+dfsg-2_amd64.deb ...\n",
      "Unpacking libgmp10:amd64 (2:6.1.0+dfsg-2) ...\n",
      "Selecting previously unselected package libssl1.0.0:amd64.\n",
      "Preparing to unpack .../libssl1.0.0_1.0.2g-1ubuntu4.15_amd64.deb ...\n",
      "Unpacking libssl1.0.0:amd64 (1.0.2g-1ubuntu4.15) ...\n",
      "Selecting previously unselected package libtext-charwidth-perl.\n",
      "Preparing to unpack .../libtext-charwidth-perl_0.04-7build5_amd64.deb ...\n",
      "Unpacking libtext-charwidth-perl (0.04-7build5) ...\n",
      "Selecting previously unselected package libxtables11:amd64.\n",
      "Preparing to unpack .../libxtables11_1.6.0-2ubuntu3_amd64.deb ...\n",
      "Unpacking libxtables11:amd64 (1.6.0-2ubuntu3) ...\n",
      "Selecting previously unselected package netbase.\n",
      "Preparing to unpack .../archives/netbase_5.3_all.deb ...\n",
      "Unpacking netbase (5.3) ...\n",
      "Selecting previously unselected package openssl.\n",
      "Preparing to unpack .../openssl_1.0.2g-1ubuntu4.15_amd64.deb ...\n",
      "Unpacking openssl (1.0.2g-1ubuntu4.15) ...\n",
      "Selecting previously unselected package ca-certificates.\n",
      "Preparing to unpack .../ca-certificates_20170717~16.04.2_all.deb ...\n",
      "Unpacking ca-certificates (20170717~16.04.2) ...\n",
      "Selecting previously unselected package cowsay.\n",
      "Preparing to unpack .../cowsay_3.03+dfsg1-15_all.deb ...\n",
      "Unpacking cowsay (3.03+dfsg1-15) ...\n",
      "Selecting previously unselected package cowsay-off.\n",
      "Preparing to unpack .../cowsay-off_3.03+dfsg1-15_all.deb ...\n",
      "Unpacking cowsay-off (3.03+dfsg1-15) ...\n",
      "Selecting previously unselected package librecode0:amd64.\n",
      "Preparing to unpack .../librecode0_3.6-22_amd64.deb ...\n",
      "Unpacking librecode0:amd64 (3.6-22) ...\n",
      "Selecting previously unselected package fortune-mod.\n",
      "Preparing to unpack .../fortune-mod_1%3a1.99.1-7_amd64.deb ...\n",
      "Unpacking fortune-mod (1:1.99.1-7) ...\n",
      "Selecting previously unselected package fortunes-min.\n",
      "Preparing to unpack .../fortunes-min_1%3a1.99.1-7_all.deb ...\n",
      "Unpacking fortunes-min (1:1.99.1-7) ...\n",
      "Selecting previously unselected package javascript-common.\n",
      "Preparing to unpack .../javascript-common_11_all.deb ...\n",
      "Unpacking javascript-common (11) ...\n",
      "Selecting previously unselected package libjs-jquery.\n",
      "Preparing to unpack .../libjs-jquery_1.11.3+dfsg-4_all.deb ...\n",
      "Unpacking libjs-jquery (1.11.3+dfsg-4) ...\n",
      "Selecting previously unselected package rubygems-integration.\n",
      "Preparing to unpack .../rubygems-integration_1.10_all.deb ...\n",
      "Unpacking rubygems-integration (1.10) ...\n",
      "Selecting previously unselected package ruby-did-you-mean.\n",
      "Preparing to unpack .../ruby-did-you-mean_1.0.0-2_all.deb ...\n",
      "Unpacking ruby-did-you-mean (1.0.0-2) ...\n",
      "Selecting previously unselected package ruby-minitest.\n",
      "Preparing to unpack .../ruby-minitest_5.8.4-2_all.deb ...\n",
      "Unpacking ruby-minitest (5.8.4-2) ...\n",
      "Selecting previously unselected package ruby-net-telnet.\n",
      "Preparing to unpack .../ruby-net-telnet_0.1.1-2_all.deb ...\n",
      "Unpacking ruby-net-telnet (0.1.1-2) ...\n",
      "Selecting previously unselected package ruby-power-assert.\n",
      "Preparing to unpack .../ruby-power-assert_0.2.7-1_all.deb ...\n",
      "Unpacking ruby-power-assert (0.2.7-1) ...\n",
      "Selecting previously unselected package ruby-test-unit.\n",
      "Preparing to unpack .../ruby-test-unit_3.1.7-2_all.deb ...\n",
      "Unpacking ruby-test-unit (3.1.7-2) ...\n",
      "Selecting previously unselected package libruby2.3:amd64.\n",
      "Preparing to unpack .../libruby2.3_2.3.1-2~ubuntu16.04.14_amd64.deb ...\n",
      "Unpacking libruby2.3:amd64 (2.3.1-2~ubuntu16.04.14) ...\n",
      "Selecting previously unselected package ruby2.3.\n",
      "Preparing to unpack .../ruby2.3_2.3.1-2~ubuntu16.04.14_amd64.deb ...\n",
      "Unpacking ruby2.3 (2.3.1-2~ubuntu16.04.14) ...\n",
      "Selecting previously unselected package ruby.\n",
      "Preparing to unpack .../ruby_1%3a2.3.0+1_all.deb ...\n",
      "Unpacking ruby (1:2.3.0+1) ...\n",
      "Selecting previously unselected package rake.\n",
      "Preparing to unpack .../archives/rake_10.5.0-2_all.deb ...\n",
      "Unpacking rake (10.5.0-2) ...\n",
      "Selecting previously unselected package rename.\n",
      "Preparing to unpack .../archives/rename_0.20-4_all.deb ...\n",
      "Unpacking rename (0.20-4) ...\n",
      "Selecting previously unselected package unzip.\n",
      "Preparing to unpack .../unzip_6.0-20ubuntu1_amd64.deb ...\n",
      "Unpacking unzip (6.0-20ubuntu1) ...\n",
      "Selecting previously unselected package zip.\n",
      "Preparing to unpack .../archives/zip_3.0-11_amd64.deb ...\n",
      "Unpacking zip (3.0-11) ...\n",
      "Selecting previously unselected package ruby-trollop.\n",
      "Preparing to unpack .../ruby-trollop_2.0-2_all.deb ...\n",
      "Unpacking ruby-trollop (2.0-2) ...\n",
      "Selecting previously unselected package ruby-paint.\n",
      "Preparing to unpack .../ruby-paint_0.8.6-1build1_all.deb ...\n",
      "Unpacking ruby-paint (0.8.6-1build1) ...\n",
      "Selecting previously unselected package lolcat.\n",
      "Preparing to unpack .../lolcat_42.0.99-1_all.deb ...\n",
      "Unpacking lolcat (42.0.99-1) ...\n",
      "Processing triggers for systemd (229-4ubuntu21.23) ...\n",
      "Processing triggers for libc-bin (2.23-0ubuntu11) ...\n",
      "Setting up libatm1:amd64 (1:2.5.1-1.5) ...\n",
      "Setting up libmnl0:amd64 (1.0.3-5) ...\n",
      "Setting up libgdbm3:amd64 (1.8.3-13.1) ...\n",
      "Setting up fonts-lato (2.0-1) ...\n",
      "Setting up libyaml-0-2:amd64 (0.1.6-3) ...\n",
      "Setting up perl-modules-5.22 (5.22.1-9ubuntu0.6) ...\n",
      "Setting up libperl5.22:amd64 (5.22.1-9ubuntu0.6) ...\n",
      "Setting up perl (5.22.1-9ubuntu0.6) ...\n",
      "update-alternatives: using /usr/bin/prename to provide /usr/bin/rename (rename) in auto mode\n",
      "Setting up iproute2 (4.3.0-1ubuntu3.16.04.5) ...\n",
      "Setting up ifupdown (0.8.10ubuntu1.4) ...\n",
      "Creating /etc/network/interfaces.\n",
      "Setting up libisc-export160 (1:9.10.3.dfsg.P4-8ubuntu1.15) ...\n",
      "Setting up libdns-export162 (1:9.10.3.dfsg.P4-8ubuntu1.15) ...\n",
      "Setting up isc-dhcp-client (4.3.3-5ubuntu12.10) ...\n",
      "Setting up isc-dhcp-common (4.3.3-5ubuntu12.10) ...\n",
      "Setting up libffi6:amd64 (3.2.1-4) ...\n",
      "Setting up libgmp10:amd64 (2:6.1.0+dfsg-2) ...\n",
      "Setting up libssl1.0.0:amd64 (1.0.2g-1ubuntu4.15) ...\n",
      "debconf: unable to initialize frontend: Dialog\n",
      "debconf: (No usable dialog-like program is installed, so the dialog based frontend cannot be used. at /usr/share/perl5/Debconf/FrontEnd/Dialog.pm line 76.)\n",
      "debconf: falling back to frontend: Readline\n",
      "Setting up libtext-charwidth-perl (0.04-7build5) ...\n",
      "Setting up libxtables11:amd64 (1.6.0-2ubuntu3) ...\n",
      "Setting up netbase (5.3) ...\n",
      "Setting up openssl (1.0.2g-1ubuntu4.15) ...\n",
      "Setting up ca-certificates (20170717~16.04.2) ...\n",
      "debconf: unable to initialize frontend: Dialog\n",
      "debconf: (No usable dialog-like program is installed, so the dialog based frontend cannot be used. at /usr/share/perl5/Debconf/FrontEnd/Dialog.pm line 76.)\n",
      "debconf: falling back to frontend: Readline\n",
      "Setting up cowsay (3.03+dfsg1-15) ...\n",
      "Setting up cowsay-off (3.03+dfsg1-15) ...\n",
      "Setting up librecode0:amd64 (3.6-22) ...\n",
      "Setting up fortune-mod (1:1.99.1-7) ...\n",
      "Setting up fortunes-min (1:1.99.1-7) ...\n",
      "Setting up javascript-common (11) ...\n",
      "Setting up libjs-jquery (1.11.3+dfsg-4) ...\n",
      "Setting up rubygems-integration (1.10) ...\n",
      "Setting up ruby-did-you-mean (1.0.0-2) ...\n",
      "Setting up ruby-minitest (5.8.4-2) ...\n",
      "Setting up ruby-net-telnet (0.1.1-2) ...\n",
      "Setting up ruby-power-assert (0.2.7-1) ...\n",
      "Setting up ruby-test-unit (3.1.7-2) ...\n",
      "Setting up rename (0.20-4) ...\n",
      "update-alternatives: using /usr/bin/file-rename to provide /usr/bin/rename (rename) in auto mode\n",
      "Setting up unzip (6.0-20ubuntu1) ...\n",
      "Setting up zip (3.0-11) ...\n",
      "Setting up rake (10.5.0-2) ...\n",
      "Setting up libruby2.3:amd64 (2.3.1-2~ubuntu16.04.14) ...\n",
      "Setting up ruby2.3 (2.3.1-2~ubuntu16.04.14) ...\n",
      "Setting up ruby (1:2.3.0+1) ...\n",
      "Setting up ruby-trollop (2.0-2) ...\n",
      "Setting up ruby-paint (0.8.6-1build1) ...\n",
      "Setting up lolcat (42.0.99-1) ...\n",
      "Processing triggers for libc-bin (2.23-0ubuntu11) ...\n",
      "Processing triggers for systemd (229-4ubuntu21.23) ...\n",
      "Processing triggers for ca-certificates (20170717~16.04.2) ...\n",
      "Updating certificates in /etc/ssl/certs...\n",
      "148 added, 0 removed; done.\n",
      "Running hooks in /etc/ca-certificates/update.d...\n",
      "done.\n",
      "\u001b[34mINFO:   \u001b[0m Adding environment to container\n",
      "\u001b[34mINFO:   \u001b[0m Adding runscript\n",
      "\u001b[34mINFO:   \u001b[0m Creating SIF file...\n",
      "\u001b[34mINFO:   \u001b[0m Build complete: lolcow.sif\n"
     ]
    },
    {
     "data": {
      "text/plain": [
       "0"
      ]
     },
     "execution_count": 13,
     "metadata": {},
     "output_type": "execute_result"
    }
   ],
   "source": [
    "singularity_build: dest='lolcow.sif', sudo=True, force=True\n",
    "    Bootstrap: docker\n",
    "    From: ubuntu:16.04\n",
    "    %post\n",
    "        apt-get -y update\n",
    "        apt-get -y install fortune cowsay lolcat\n",
    "    %environment\n",
    "        export LC_ALL=C\n",
    "        export PATH=/usr/games:$PATH\n",
    "    %runscript\n",
    "        fortune | cowsay | lolcat "
   ]
  },
  {
   "cell_type": "markdown",
   "metadata": {
    "kernel": "SoS",
    "papermill": {
     "duration": null,
     "end_time": null,
     "exception": null,
     "start_time": null,
     "status": "pending"
    },
    "tags": []
   },
   "source": [
    "Options such as `notest=True` could be add to the action. Note that the content of the definition file is indented for  clarify, but you can include the file as it is (no indentation)."
   ]
  }
 ],
 "metadata": {
  "anaconda-cloud": {},
  "kernelspec": {
   "display_name": "SoS",
   "language": "sos",
   "name": "sos"
  },
  "language_info": {
   "codemirror_mode": "sos",
   "file_extension": ".sos",
   "mimetype": "text/x-sos",
   "name": "sos",
   "nbconvert_exporter": "sos_notebook.converter.SoS_Exporter",
   "pygments_lexer": "sos"
  },
  "papermill": {
   "duration": 18.47675,
   "end_time": "2019-12-23T17:06:03.572458",
   "environment_variables": {},
   "exception": true,
   "input_path": "/Users/bpeng1/sos/sos-docs/src/user_guide/singularity.ipynb",
   "output_path": "singularity.ipynb_rerun.ipynb",
   "parameters": {},
   "start_time": "2019-12-23T17:05:45.095708",
   "version": "1.1.0"
  },
  "sos": {
   "default_kernel": "SoS",
   "kernels": [
    [
     "SoS",
     "sos",
     "",
     ""
    ]
   ],
   "panel": {
    "displayed": true,
    "height": 0,
    "style": "side"
   },
   "version": "0.24.1"
  }
 },
 "nbformat": 4,
 "nbformat_minor": 4
}
