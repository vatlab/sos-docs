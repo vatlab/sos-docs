{
 "cells": [
  {
   "cell_type": "markdown",
   "metadata": {
    "kernel": "SoS",
    "tags": []
   },
   "source": [
    "# SoS targets"
   ]
  },
  {
   "cell_type": "markdown",
   "metadata": {
    "kernel": "SoS",
    "tags": []
   },
   "source": [
    "* **Difficulty level**: easy\n",
    "* **Time need to lean**: 10 minutes or less\n",
    "* **Key points**:\n",
    "  * Targets are objects that can be created and detected. They are passed to and from SoS steps as variables `_input`, `_output`, `step_input` and `step_ouptut`.\n",
    "  * `file_target` represent disk files and are the most common targets used in SoS.  "
   ]
  },
  {
   "cell_type": "markdown",
   "metadata": {
    "kernel": "SoS",
    "tags": []
   },
   "source": [
    "Targets are objects that a SoS step can input, output, or dependent on. They are usually files that are presented by filenames, but can also be other targets."
   ]
  },
  {
   "cell_type": "markdown",
   "metadata": {
    "kernel": "SoS",
    "tags": []
   },
   "source": [
    "## Target `file_target`"
   ]
  },
  {
   "cell_type": "markdown",
   "metadata": {
    "kernel": "SoS",
    "tags": []
   },
   "source": [
    "Targets of type `file_target` represents files on a file system. The type `file_target` are usually not used explicitly because SoS treats string type targets as `file_target`. `file_target` \n",
    "\n",
    "* is derived from Python [pathlib.Path](https://docs.python.org/3/library/pathlib.html)\n",
    "* automatically expands user from path starting with `~`\n",
    "* allows you to extend `path` with a `+` operation\n",
    "* has a special `zap` operation to replace (large) files with their signatures\n",
    "* accepts a list of format options to easily format path in different formats"
   ]
  },
  {
   "cell_type": "markdown",
   "metadata": {
    "kernel": "SoS",
    "tags": []
   },
   "source": [
    "### Attributes and functions"
   ]
  },
  {
   "cell_type": "markdown",
   "metadata": {
    "kernel": "SoS",
    "tags": []
   },
   "source": [
    "`file_target` is derived from `pathlib.Path` but has a few additional features. It first automatically expands `~` if it is the first character of the path."
   ]
  },
  {
   "cell_type": "code",
   "execution_count": 1,
   "metadata": {
    "kernel": "SoS",
    "tags": []
   },
   "outputs": [],
   "source": [
    "p = file_target('~/sos/sos-docs/src/user_guide/targets.ipynb')"
   ]
  },
  {
   "cell_type": "raw",
   "metadata": {
    "kernel": "SoS",
    "tags": []
   },
   "source": [
    "p"
   ]
  },
  {
   "cell_type": "code",
   "execution_count": 2,
   "metadata": {
    "kernel": "SoS",
    "tags": []
   },
   "outputs": [
    {
     "data": {
      "text/plain": [
       "'targets.ipynb'"
      ]
     },
     "execution_count": 2,
     "metadata": {},
     "output_type": "execute_result"
    }
   ],
   "source": [
    "p.name"
   ]
  },
  {
   "cell_type": "code",
   "execution_count": 3,
   "metadata": {
    "kernel": "SoS",
    "tags": []
   },
   "outputs": [
    {
     "data": {
      "text/plain": [
       "file_target('/Users/bpeng1/sos/sos-docs/src/user_guide')"
      ]
     },
     "execution_count": 3,
     "metadata": {},
     "output_type": "execute_result"
    }
   ],
   "source": [
    "p.parent"
   ]
  },
  {
   "cell_type": "code",
   "execution_count": 4,
   "metadata": {
    "kernel": "SoS",
    "tags": []
   },
   "outputs": [
    {
     "data": {
      "text/plain": [
       "file_target('/Users/bpeng1/sos/sos-docs/src/user_guide/something.txt')"
      ]
     },
     "execution_count": 4,
     "metadata": {},
     "output_type": "execute_result"
    }
   ],
   "source": [
    "p.parent / 'something.txt'"
   ]
  },
  {
   "cell_type": "code",
   "execution_count": 5,
   "metadata": {
    "kernel": "SoS",
    "tags": []
   },
   "outputs": [
    {
     "data": {
      "text/plain": [
       "'.ipynb'"
      ]
     },
     "execution_count": 5,
     "metadata": {},
     "output_type": "execute_result"
    }
   ],
   "source": [
    "p.suffix"
   ]
  },
  {
   "cell_type": "code",
   "execution_count": 6,
   "metadata": {
    "kernel": "SoS",
    "tags": []
   },
   "outputs": [
    {
     "data": {
      "text/plain": [
       "('/',\n",
       " 'Users',\n",
       " 'bpeng1',\n",
       " 'sos',\n",
       " 'sos-docs',\n",
       " 'src',\n",
       " 'user_guide',\n",
       " 'targets.ipynb')"
      ]
     },
     "execution_count": 6,
     "metadata": {},
     "output_type": "execute_result"
    }
   ],
   "source": [
    "p.parts"
   ]
  },
  {
   "cell_type": "code",
   "execution_count": 7,
   "metadata": {
    "kernel": "SoS",
    "tags": []
   },
   "outputs": [
    {
     "data": {
      "text/plain": [
       "True"
      ]
     },
     "execution_count": 7,
     "metadata": {},
     "output_type": "execute_result"
    }
   ],
   "source": [
    "p.exists()"
   ]
  },
  {
   "cell_type": "code",
   "execution_count": 8,
   "metadata": {
    "kernel": "SoS",
    "tags": []
   },
   "outputs": [
    {
     "data": {
      "text/plain": [
       "False"
      ]
     },
     "execution_count": 8,
     "metadata": {},
     "output_type": "execute_result"
    }
   ],
   "source": [
    "p.is_dir()"
   ]
  },
  {
   "cell_type": "code",
   "execution_count": 9,
   "metadata": {
    "kernel": "SoS",
    "tags": []
   },
   "outputs": [
    {
     "data": {
      "text/plain": [
       "file_target('/Users/bpeng1/sos/sos-docs/src/user_guide/sos_datatypes.html')"
      ]
     },
     "execution_count": 9,
     "metadata": {},
     "output_type": "execute_result"
    }
   ],
   "source": [
    "p.with_name('sos_datatypes.html')"
   ]
  },
  {
   "cell_type": "code",
   "execution_count": 10,
   "metadata": {
    "kernel": "SoS",
    "tags": []
   },
   "outputs": [
    {
     "data": {
      "text/plain": [
       "file_target('/Users/bpeng1/sos/sos-docs/src/user_guide/targets.html')"
      ]
     },
     "execution_count": 10,
     "metadata": {},
     "output_type": "execute_result"
    }
   ],
   "source": [
    "p.with_suffix('.html')"
   ]
  },
  {
   "cell_type": "markdown",
   "metadata": {
    "kernel": "SoS",
    "tags": []
   },
   "source": [
    "and you can evaluate `file_target` in format strings as"
   ]
  },
  {
   "cell_type": "code",
   "execution_count": 11,
   "metadata": {
    "kernel": "SoS",
    "tags": []
   },
   "outputs": [
    {
     "data": {
      "text/plain": [
       "'Hello My name is targets.ipynb'"
      ]
     },
     "execution_count": 11,
     "metadata": {},
     "output_type": "execute_result"
    }
   ],
   "source": [
    "f\"Hello My name is {p.name}\""
   ]
  },
  {
   "cell_type": "markdown",
   "metadata": {
    "kernel": "SoS",
    "tags": []
   },
   "source": [
    "Note that `file_target` offers a [`os.PathLike`](https://docs.python.org/3/library/os.html#os.PathLike) interface and can be used directly with `os.path` functions such as"
   ]
  },
  {
   "cell_type": "code",
   "execution_count": 12,
   "metadata": {
    "kernel": "SoS",
    "tags": []
   },
   "outputs": [
    {
     "data": {
      "text/plain": [
       "123983"
      ]
     },
     "execution_count": 12,
     "metadata": {},
     "output_type": "execute_result"
    }
   ],
   "source": [
    "import os\n",
    "os.path.getsize(p)"
   ]
  },
  {
   "cell_type": "markdown",
   "metadata": {
    "kernel": "SoS",
    "tags": []
   },
   "source": [
    "The following is an example of using `with_suffix` on `_input`, which is of type `sos_targets` but in this case acts just like a `file_target`"
   ]
  },
  {
   "cell_type": "code",
   "execution_count": 13,
   "metadata": {
    "kernel": "SoS",
    "tags": []
   },
   "outputs": [
    {
     "name": "stdout",
     "output_type": "stream",
     "text": [
      "Generating test1.bai from test1.bam\n",
      "Generating test2.bai from test2.bam\n"
     ]
    }
   ],
   "source": [
    "!touch test1.bam test2.bam\n",
    "\n",
    "input_files = ['test1.bam', 'test2.bam']\n",
    "input: input_files, group_by=1\n",
    "output: _input.with_suffix('.bai')\n",
    "\n",
    "print(f\"Generating {_output} from {_input}\")\n",
    "_output.touch()"
   ]
  },
  {
   "cell_type": "markdown",
   "metadata": {
    "kernel": "SoS",
    "tags": []
   },
   "source": [
    "### Operator `+` for `file_target`\n",
    "\n",
    "`file_target` allows you to extend `file_target` with a `str` or `path` with a `+` operation. For example, with"
   ]
  },
  {
   "cell_type": "code",
   "execution_count": 14,
   "metadata": {
    "kernel": "SoS",
    "tags": []
   },
   "outputs": [],
   "source": [
    "p = file_target('test.txt')"
   ]
  },
  {
   "cell_type": "markdown",
   "metadata": {
    "kernel": "SoS",
    "tags": []
   },
   "source": [
    "`p + '.tmp'` returns a `path` with `.tmp` appended to the path"
   ]
  },
  {
   "cell_type": "code",
   "execution_count": 15,
   "metadata": {
    "kernel": "SoS",
    "tags": []
   },
   "outputs": [
    {
     "data": {
      "text/plain": [
       "file_target('test.txt.tmp')"
      ]
     },
     "execution_count": 15,
     "metadata": {},
     "output_type": "execute_result"
    }
   ],
   "source": [
    "p + '.tmp'"
   ]
  },
  {
   "cell_type": "markdown",
   "metadata": {
    "kernel": "SoS",
    "tags": []
   },
   "source": [
    "which is different from the `/` operator that join the operant as another piece of the path"
   ]
  },
  {
   "cell_type": "code",
   "execution_count": 16,
   "metadata": {
    "kernel": "SoS",
    "tags": []
   },
   "outputs": [
    {
     "data": {
      "text/plain": [
       "file_target('test.txt/.tmp')"
      ]
     },
     "execution_count": 16,
     "metadata": {},
     "output_type": "execute_result"
    }
   ],
   "source": [
    "p / '.tmp'"
   ]
  },
  {
   "cell_type": "markdown",
   "metadata": {
    "kernel": "SoS",
    "tags": []
   },
   "source": [
    "A note of caution, however, is that because `file_target` strips ending slash from an input path"
   ]
  },
  {
   "cell_type": "code",
   "execution_count": 17,
   "metadata": {
    "kernel": "SoS",
    "tags": []
   },
   "outputs": [
    {
     "data": {
      "text/plain": [
       "file_target('/path/to')"
      ]
     },
     "execution_count": 17,
     "metadata": {},
     "output_type": "execute_result"
    }
   ],
   "source": [
    "file_target('/path/to/')"
   ]
  },
  {
   "cell_type": "markdown",
   "metadata": {
    "kernel": "SoS",
    "tags": []
   },
   "source": [
    "The result of the following can be surprising"
   ]
  },
  {
   "cell_type": "code",
   "execution_count": 18,
   "metadata": {
    "kernel": "SoS",
    "tags": []
   },
   "outputs": [
    {
     "data": {
      "text/plain": [
       "file_target('/path/toa.txt')"
      ]
     },
     "execution_count": 18,
     "metadata": {},
     "output_type": "execute_result"
    }
   ],
   "source": [
    "file_target('/path/to/') + 'a.txt'"
   ]
  },
  {
   "cell_type": "markdown",
   "metadata": {
    "kernel": "SoS",
    "tags": []
   },
   "source": [
    "so the rule of thumb is that you should use `/` to extend path and `+` to extend name, as in"
   ]
  },
  {
   "cell_type": "code",
   "execution_count": 19,
   "metadata": {
    "kernel": "SoS",
    "tags": []
   },
   "outputs": [
    {
     "data": {
      "text/plain": [
       "file_target('/path/to/dir/filename.ext')"
      ]
     },
     "execution_count": 19,
     "metadata": {},
     "output_type": "execute_result"
    }
   ],
   "source": [
    "file_target('/path/to') / \"dir\" / \"filename\" + \".ext\""
   ]
  },
  {
   "cell_type": "markdown",
   "metadata": {
    "kernel": "SoS",
    "tags": []
   },
   "source": [
    "Because `sos_targets` with a single `file_target` will act like a `file_target`, the following is an example of using `+` directly on `_input` to generate `_output` of a substep"
   ]
  },
  {
   "cell_type": "code",
   "execution_count": 20,
   "metadata": {
    "kernel": "SoS",
    "tags": []
   },
   "outputs": [
    {
     "name": "stdout",
     "output_type": "stream",
     "text": [
      "Generating test1.bam.bai from test1.bam\n",
      "Generating test2.bam.bai from test2.bam\n"
     ]
    }
   ],
   "source": [
    "!touch test1.bam test2.bam\n",
    "\n",
    "input_files = ['test1.bam', 'test2.bam']\n",
    "input: input_files, group_by=1\n",
    "output: _input + '.bai'\n",
    "\n",
    "print(f\"Generating {_output} from {_input}\")\n",
    "_output.touch()"
   ]
  },
  {
   "cell_type": "markdown",
   "metadata": {
    "kernel": "SoS",
    "tags": []
   },
   "source": [
    "### Format specification"
   ]
  },
  {
   "cell_type": "markdown",
   "metadata": {
    "kernel": "SoS",
    "tags": []
   },
   "source": [
    "`file_target` accepts a list of format options to easily format path in different formats:"
   ]
  },
  {
   "cell_type": "markdown",
   "metadata": {
    "kernel": "SoS",
    "tags": []
   },
   "source": [
    "\n",
    "| convertor |operation| effect | operant | output |\n",
    "| :----------|:----| :----- | :----- | :-------|\n",
    "| `a`       | absolute path  | `abspath()` |  `test.sos` | `/path/to/test.sos` |\n",
    "| `b`       | base filename  | `basename())` |  `{home}/SoS/test.sos` | `test.sos` |\n",
    "| `e`       | escape  | `replace(' ', '\\\\ ')` | `file 1.txt` | `file\\ 1.txt`|\n",
    "| `d`       | directory name  | `dirname()` or `'.'` |  `/path/to/test.sos` | `/path/to` |\n",
    "| `l`      | expand link   | `realpath()` | `test.sos` | `/realpath/to/test.sos` |\n",
    "| `n`      | remove extension   | `splitext()[0]` | `/path/to/test.sos` | `/path/to/test` |\n",
    "| `p`     | posix name    | `replace('\\\\', '/')...` | `c:\\\\Users` | `/c/Users` | \n",
    "| `q`     |quote    | `quoted()` | `file 1.txt` | `'file 1.txt'`|\n",
    "| `r`     | repr | `repr()` | `file.txt` | `'file.txt'` |\n",
    "| `s`    | str | `str()` | `file.txt` | `file.txt` |\n",
    "| `U`   | undo expanduser | `replace(expanduser('~'), '~')` | `/home/user/test.sos` | `~/test.sos` |\n",
    "| `x`      | file extension   | `splitext()[1]` | `~/SoS/test.sos` | `.sos` |\n",
    "| `,`   | join with comma      | `','.join()` | `['a.txt', 'b.txt']` | `a.txt,b.txt`|\n"
   ]
  },
  {
   "cell_type": "markdown",
   "metadata": {
    "kernel": "SoS",
    "tags": []
   },
   "source": [
    "These format options allow you to pass filenames to scripts in different formats. For example, it would be perfectly OK to pass `~/a.txt` to a shell script, but a `u` formatter should be added if you are passing the filename to a script that does not understand `~` in filenames. For example,"
   ]
  },
  {
   "cell_type": "code",
   "execution_count": 21,
   "metadata": {
    "kernel": "SoS",
    "output_cache": "[]",
    "tags": []
   },
   "outputs": [
    {
     "data": {
      "text/html": [
       "<div class=\"sos_hint\">> name: str of length 37</div>"
      ],
      "text/plain": [
       ">>> name:\n"
      ]
     },
     "metadata": {},
     "output_type": "display_data"
    },
    {
     "data": {
      "text/plain": [
       "'/Users/bpeng1/sos/examples/update_toc'"
      ]
     },
     "metadata": {},
     "output_type": "display_data"
    },
    {
     "data": {
      "text/html": [
       "<div class=\"sos_hint\">> filename: str of length 14</div>"
      ],
      "text/plain": [
       ">>> filename:\n"
      ]
     },
     "metadata": {},
     "output_type": "display_data"
    },
    {
     "data": {
      "text/plain": [
       "'update_toc.sos'"
      ]
     },
     "metadata": {},
     "output_type": "display_data"
    },
    {
     "data": {
      "text/html": [
       "<div class=\"sos_hint\">> basefilename: str of length 10</div>"
      ],
      "text/plain": [
       ">>> basefilename:\n"
      ]
     },
     "metadata": {},
     "output_type": "display_data"
    },
    {
     "data": {
      "text/plain": [
       "'update_toc'"
      ]
     },
     "metadata": {},
     "output_type": "display_data"
    },
    {
     "data": {
      "text/html": [
       "<div class=\"sos_hint\">> expanded: str of length 41</div>"
      ],
      "text/plain": [
       ">>> expanded:\n"
      ]
     },
     "metadata": {},
     "output_type": "display_data"
    },
    {
     "data": {
      "text/plain": [
       "'/Users/bpeng1/sos/examples/update_toc.sos'"
      ]
     },
     "metadata": {},
     "output_type": "display_data"
    },
    {
     "data": {
      "text/html": [
       "<div class=\"sos_hint\">> parparname: str of length 3</div>"
      ],
      "text/plain": [
       ">>> parparname:\n"
      ]
     },
     "metadata": {},
     "output_type": "display_data"
    },
    {
     "data": {
      "text/plain": [
       "'sos'"
      ]
     },
     "metadata": {},
     "output_type": "display_data"
    },
    {
     "data": {
      "text/html": [
       "<div class=\"sos_hint\">> shortname: str of length 29</div>"
      ],
      "text/plain": [
       ">>> shortname:\n"
      ]
     },
     "metadata": {},
     "output_type": "display_data"
    },
    {
     "data": {
      "text/plain": [
       "'~/sos/examples/update_toc.sos'"
      ]
     },
     "metadata": {},
     "output_type": "display_data"
    }
   ],
   "source": [
    "%preview -n name filename basefilename expanded parparname shortname\n",
    "file = file_target('~/sos/examples/update_toc.sos')\n",
    "name = f\"{file:n}\"\n",
    "filename = f\"{file:b}\"\n",
    "basefilename = f\"{file:bn}\"\n",
    "expanded = f\"{file:u}\"\n",
    "parparname = f\"{file:ddb}\"\n",
    "shortname = f\"{file:U}\""
   ]
  },
  {
   "cell_type": "markdown",
   "metadata": {
    "kernel": "SoS",
    "tags": []
   },
   "source": [
    "The last example is pretty interesting because it applies three converters and gets the name of grand-parent directory using an equivalence of `basename(dirname(dirname(file)))`."
   ]
  },
  {
   "cell_type": "markdown",
   "metadata": {
    "kernel": "SoS",
    "tags": []
   },
   "source": [
    "Finally, `path` formats the object with these format operators and then the resulting string with additional formatters. For example, you can format the `path` object as a regular string"
   ]
  },
  {
   "cell_type": "code",
   "execution_count": 25,
   "metadata": {
    "kernel": "SoS",
    "tags": []
   },
   "outputs": [
    {
     "data": {
      "text/plain": [
       "'         /Users/bpeng1/sos/examples/update_toc.sos'"
      ]
     },
     "execution_count": 25,
     "metadata": {},
     "output_type": "execute_result"
    }
   ],
   "source": [
    "f\"{file:>50}\""
   ]
  },
  {
   "cell_type": "markdown",
   "metadata": {
    "kernel": "SoS",
    "tags": []
   },
   "source": [
    "or apply `path` formatter (`bn` for base name of filename) and then as a regular string."
   ]
  },
  {
   "cell_type": "code",
   "execution_count": 26,
   "metadata": {
    "kernel": "SoS",
    "scrolled": true,
    "tags": []
   },
   "outputs": [
    {
     "data": {
      "text/plain": [
       "'                                        update_toc'"
      ]
     },
     "execution_count": 26,
     "metadata": {},
     "output_type": "execute_result"
    }
   ],
   "source": [
    "f\"{file:bn>50}\""
   ]
  },
  {
   "cell_type": "markdown",
   "metadata": {
    "kernel": "SoS",
    "tags": []
   },
   "source": [
    "The following example uses `:n` to get the basename of `_input` and add new suffix. It is in this case the same as `_input.with_suffix('.bam.bai')` so it is often a personal preference which style to use."
   ]
  },
  {
   "cell_type": "code",
   "execution_count": 27,
   "metadata": {
    "kernel": "SoS",
    "tags": []
   },
   "outputs": [
    {
     "name": "stdout",
     "output_type": "stream",
     "text": [
      "Generating test1.bam.bai from test1.bam\n",
      "Generating test2.bam.bai from test2.bam\n"
     ]
    }
   ],
   "source": [
    "!touch test1.bam test2.bam\n",
    "\n",
    "input_files = ['test1.bam', 'test2.bam']\n",
    "input: input_files, group_by=1\n",
    "output: f\"{_input:n}.bam.bai\"\n",
    "\n",
    "print(f\"Generating {_output} from {_input}\")\n",
    "_output.touch()"
   ]
  },
  {
   "cell_type": "markdown",
   "metadata": {
    "kernel": "SoS"
   },
   "source": [
    "### `zap()` function"
   ]
  },
  {
   "cell_type": "markdown",
   "metadata": {
    "kernel": "SoS",
    "tags": []
   },
   "source": [
    "Another addition of the `path` type is **a `zap()` function that removes the file and creates a `{filename}.zapped` file with file signatures**. This `.zapped` file is considered to be \"existent\" by the runtime signature system so that a workflow step will not be repeated of some of its input or output files are zapped, unless the actually files are needed. This function is usually used as `sos_targets.zap()` to zap all input or output files, and will be demonstrated in detail in [SoS datatypes](sos_datatypes.html)."
   ]
  },
  {
   "cell_type": "markdown",
   "metadata": {
    "kernel": "SoS",
    "tags": []
   },
   "source": [
    "## Target `executable` "
   ]
  },
  {
   "cell_type": "markdown",
   "metadata": {
    "collapsed": true,
    "jupyter": {
     "outputs_hidden": true
    },
    "kernel": "SoS",
    "tags": []
   },
   "source": [
    "`executable` targets are commands that should be accessible and executable by SoS. These targets are usually listed in the `depends` section of a SoS step. For example, SoS would stop if a command `fastqc` is not found."
   ]
  },
  {
   "cell_type": "code",
   "execution_count": 28,
   "metadata": {
    "kernel": "SoS",
    "scrolled": true,
    "tags": []
   },
   "outputs": [
    {
     "name": "stdout",
     "output_type": "stream",
     "text": [
      "\u001b[91mERROR\u001b[0m: \u001b[91mNo rule to generate target 'executable(\"some_command\")', needed by '10'.\u001b[0m\n"
     ]
    },
    {
     "name": "stderr",
     "output_type": "stream",
     "text": [
      "RuntimeError: Workflow exited with code 1"
     ]
    }
   ],
   "source": [
    "%env --expect-error\n",
    "\n",
    "%run\n",
    "[10]\n",
    "input:     'a.txt'\n",
    "depends:   executable('some_command')\n",
    "sh: expand=True\n",
    "    some_command {input}"
   ]
  },
  {
   "cell_type": "markdown",
   "metadata": {
    "kernel": "SoS",
    "tags": []
   },
   "source": [
    "`executable` target can also be output of a step but installing executables can be tricky because the commands should be installed to existing `$PATH` so that they can be immediately accessible by SoS. Because SoS automatically adds `~/.sos/bin` to `$PATH` (option `-b`), an environment-neutral way for on-the-fly installation is to install commands to this directory. For example"
   ]
  },
  {
   "cell_type": "markdown",
   "metadata": {
    "kernel": "SoS",
    "tags": []
   },
   "source": [
    "You can also have finer control over which version of the command is eligible by checking the output of commands. The trick here is to provide a complete command and one or more version strings as the string that should appear in the output of the command."
   ]
  },
  {
   "cell_type": "markdown",
   "metadata": {
    "kernel": "SoS",
    "tags": []
   },
   "source": [
    "For example, command `python --version` is executed in the following example to check if the output contains string `5.18`. The step would only be executed if the right version exists."
   ]
  },
  {
   "cell_type": "code",
   "execution_count": 29,
   "metadata": {
    "kernel": "SoS",
    "tags": []
   },
   "outputs": [
    {
     "name": "stdout",
     "output_type": "stream",
     "text": [
      "\u001b[32m[\u001b[0m\u001b[32m#\u001b[0m\u001b[32m]\u001b[0m 1 step processed (1 job completed)\n"
     ]
    }
   ],
   "source": [
    "%run -v0\n",
    "[10]\n",
    "depends: executable('python --version', version='3.7.3')\n",
    "print('ok')"
   ]
  },
  {
   "cell_type": "markdown",
   "metadata": {
    "kernel": "SoS",
    "tags": []
   },
   "source": [
    "If no verion string is provided, SoS will only check the existence of the command and not actually execute the command."
   ]
  },
  {
   "cell_type": "markdown",
   "metadata": {
    "kernel": "SoS",
    "tags": []
   },
   "source": [
    "## Target `sos_variable` \n",
    "\n",
    "`sos_variable(name)` targets represent SoS variables that are created by a SoS step and shared to other steps. These targets can be used to provide information to other steps. For example,"
   ]
  },
  {
   "cell_type": "code",
   "execution_count": 30,
   "metadata": {
    "kernel": "SoS",
    "tags": []
   },
   "outputs": [
    {
     "name": "stdout",
     "output_type": "stream",
     "text": [
      "There are 100 objects\n",
      "\n"
     ]
    }
   ],
   "source": [
    "%run -v1\n",
    "\n",
    "[counts: shared='counts']\n",
    "input: 'result.txt'\n",
    "with open(_input) as ifile:\n",
    "    counts = int(ifile.read())\n",
    "\n",
    "[10]\n",
    "# perform some task and create a file with some statistics\n",
    "output: 'result.txt'\n",
    "run:\n",
    "   echo 100 > result.txt \n",
    "\n",
    "[100]\n",
    "depends: sos_variable('counts')\n",
    "report: expand=True\n",
    "    There are {counts} objects"
   ]
  },
  {
   "cell_type": "markdown",
   "metadata": {
    "kernel": "SoS",
    "tags": []
   },
   "source": [
    "Step `100` needed some information extracted from output of another step (step `10`). You can either parse the information in step `100` or use another step to provide the information. The latter is recommended because the information could be requested by multiple steps. Note that `counts` is an auxiliary step that provides `sos_variable('counts')` through its `shared` section option."
   ]
  },
  {
   "cell_type": "markdown",
   "metadata": {
    "kernel": "SoS",
    "tags": []
   },
   "source": [
    "## Target `env_variable` "
   ]
  },
  {
   "cell_type": "markdown",
   "metadata": {
    "kernel": "SoS",
    "tags": []
   },
   "source": [
    "SoS keeps tract of runtime environment and creates signatures of executed steps so that they do not have to be executed again. Some commands, especially shell scripts, could however behave differently with different environmental variables. To make sure a step would be re-executed with changing environments, you should list the variables that affects the output of these commands as dependencies of the step. For example"
   ]
  },
  {
   "cell_type": "code",
   "execution_count": 31,
   "metadata": {
    "kernel": "SoS",
    "tags": []
   },
   "outputs": [
    {
     "name": "stdout",
     "output_type": "stream",
     "text": [
      "\u001b[91mERROR\u001b[0m: \u001b[91mNo rule to generate target 'env_variable(\"DEBUG\")', needed by '10'.\u001b[0m\n"
     ]
    },
    {
     "name": "stderr",
     "output_type": "stream",
     "text": [
      "RuntimeError: Workflow exited with code 1"
     ]
    }
   ],
   "source": [
    "%env --expect-error\n",
    "\n",
    "%run\n",
    "[10]\n",
    "depends:   env_variable('DEBUG')\n",
    "sh:\n",
    "    echo DEBUG is set to $DEBUG"
   ]
  },
  {
   "cell_type": "markdown",
   "metadata": {
    "kernel": "SoS",
    "tags": []
   },
   "source": [
    "## Target `sos_step` "
   ]
  },
  {
   "cell_type": "markdown",
   "metadata": {
    "kernel": "SoS",
    "tags": []
   },
   "source": [
    "The `sos_step` target represents, needless to say, a SoS step. This target provides a straightforward method to specify step dependencies. For example,"
   ]
  },
  {
   "cell_type": "code",
   "execution_count": 32,
   "metadata": {
    "kernel": "SoS",
    "tags": []
   },
   "outputs": [
    {
     "name": "stdout",
     "output_type": "stream",
     "text": [
      "Initialize\n",
      "I am 10\n"
     ]
    }
   ],
   "source": [
    "%run -s force -v1\n",
    "[init]\n",
    "print(\"Initialize\")\n",
    "\n",
    "[10]\n",
    "depends: sos_step(\"init\")\n",
    "print(f\"I am {step_name}\")"
   ]
  },
  {
   "cell_type": "markdown",
   "metadata": {
    "kernel": "SoS",
    "tags": []
   },
   "source": [
    "What is more interesting, however, is that `sos_step('a')` matches to steps such as `a_1`, `a_2` so the step will depend on the execution of the entire workflow.\n",
    "\n",
    "For example, in the following workflow, step `default` depends on `sos_step('work')`, which triggers a process-oriented workflow `work` with steps `work_1` and `work_2`."
   ]
  },
  {
   "cell_type": "code",
   "execution_count": 33,
   "metadata": {
    "kernel": "SoS",
    "tags": []
   },
   "outputs": [
    {
     "data": {
      "text/html": [
       "<div class=\"sos_hint\">> test.dot (859 B):</div>"
      ],
      "text/plain": [
       "\n",
       "> test.dot (859 B):"
      ]
     },
     "metadata": {},
     "output_type": "display_data"
    },
    {
     "data": {
      "image/png": "[encoded data removed]"
     },
     "metadata": {},
     "output_type": "display_data"
    }
   ],
   "source": [
    "%preview -n test.dot\n",
    "%run -v1 -d test.dot\n",
    "\n",
    "[work_1]\n",
    "# generate result\n",
    "output: 'result.txt'\n",
    "sh: expand=True\n",
    "  echo some result > {_output}\n",
    "\n",
    "[work_2]\n",
    "# backup result\n",
    "output: 'result.txt.bak'\n",
    "sh: expand=True\n",
    "  cp {_input} {_output}\n",
    "  \n",
    "[default]\n",
    "depends: sos_step(\"work\")"
   ]
  },
  {
   "cell_type": "markdown",
   "metadata": {
    "kernel": "SoS",
    "tags": []
   },
   "source": [
    "This example is similar to the following workflow that uses subworkflow (`sos_run('work')`) but as you can see from the generated DAG, the execution logics of the two are quite different. More specifically, the `sos_step()` target adds a subworkflow to the master DAG, while `sos_run` triggers a separate DAG. "
   ]
  },
  {
   "cell_type": "code",
   "execution_count": 34,
   "metadata": {
    "kernel": "SoS",
    "tags": []
   },
   "outputs": [
    {
     "data": {
      "text/html": [
       "<div class=\"sos_hint\">> test.dot (917 B):</div>"
      ],
      "text/plain": [
       "\n",
       "> test.dot (917 B):"
      ]
     },
     "metadata": {},
     "output_type": "display_data"
    },
    {
     "data": {
      "image/png": "[encoded data removed]"
     },
     "metadata": {},
     "output_type": "display_data"
    }
   ],
   "source": [
    "%preview -n test.dot\n",
    "%run -v1 -d test.dot\n",
    "\n",
    "[work_1]\n",
    "# generate result\n",
    "output: 'result.txt'\n",
    "sh: expand=True\n",
    "  echo some result > {_output}\n",
    "\n",
    "[work_2]\n",
    "# backup result\n",
    "output: 'result.txt.bak'\n",
    "sh: expand=True\n",
    "  cp {_input} {_output}\n",
    "  \n",
    "[default]\n",
    "sos_run(\"work\")"
   ]
  },
  {
   "cell_type": "markdown",
   "metadata": {
    "kernel": "SoS",
    "tags": []
   },
   "source": [
    "### Target `dynamic` \n",
    "\n",
    "A `dynamic` target is a target that can only be determined when the step is actually executed. \n",
    "\n",
    "For example,"
   ]
  },
  {
   "cell_type": "code",
   "execution_count": 35,
   "metadata": {
    "kernel": "SoS",
    "tags": []
   },
   "outputs": [
    {
     "name": "stdout",
     "output_type": "stream",
     "text": [
      "Last output is \n"
     ]
    }
   ],
   "source": [
    "!rm -f *.bat\n",
    "\n",
    "%run -v1\n",
    "\n",
    "[10]\n",
    "output: '*.bat'\n",
    "sh:\n",
    "    touch a.bat\n",
    "\n",
    "[20]\n",
    "print(f'Last output is {_input}')"
   ]
  },
  {
   "cell_type": "markdown",
   "metadata": {
    "kernel": "SoS",
    "tags": []
   },
   "source": [
    "To address this problem, you should try to expand the output file after the completion of the step, using a `dynamic` target."
   ]
  },
  {
   "cell_type": "code",
   "execution_count": 36,
   "metadata": {
    "kernel": "SoS",
    "tags": []
   },
   "outputs": [
    {
     "name": "stdout",
     "output_type": "stream",
     "text": [
      "Last output is a.bat\n"
     ]
    }
   ],
   "source": [
    "!rm -f *.bat\n",
    "%run -v1\n",
    "\n",
    "[10]\n",
    "output: dynamic('*.bat')\n",
    "sh:\n",
    "    touch a.bat\n",
    "\n",
    "[20]\n",
    "print(f\"Last output is {_input}\")"
   ]
  },
  {
   "cell_type": "markdown",
   "metadata": {
    "kernel": "SoS",
    "tags": []
   },
   "source": [
    "Please refer to chapter [SoS Step](sos_syntax.html) for details of such targets."
   ]
  },
  {
   "cell_type": "markdown",
   "metadata": {
    "kernel": "SoS",
    "tags": []
   },
   "source": [
    "### Target `remote`"
   ]
  },
  {
   "cell_type": "markdown",
   "metadata": {
    "kernel": "SoS",
    "tags": []
   },
   "source": [
    "A target that is marked as `remote` and would be instantiated only when it is executed by a task. Please check section [Remote Execution](remote_execution.html) for details."
   ]
  },
  {
   "cell_type": "markdown",
   "metadata": {
    "kernel": "SoS",
    "tags": []
   },
   "source": [
    "### Target `system_resource`"
   ]
  },
  {
   "cell_type": "markdown",
   "metadata": {
    "kernel": "SoS",
    "tags": []
   },
   "source": [
    "Target `system_resource` checks the available system resource and is available only if the system has enough memory and/or diskspace for the workflow step. For example, the following step would generate an error if the system does not have at least `16G` of RAM and `1T` of disk space on the volume of the current project directory."
   ]
  },
  {
   "cell_type": "code",
   "execution_count": 37,
   "metadata": {
    "kernel": "SoS",
    "tags": []
   },
   "outputs": [
    {
     "name": "stdout",
     "output_type": "stream",
     "text": [
      "\u001b[91mERROR\u001b[0m: \u001b[91mNo rule to generate target 'system_resource(mem='16G',disk='1T')', needed by '10'.\u001b[0m\n"
     ]
    },
    {
     "name": "stderr",
     "output_type": "stream",
     "text": [
      "RuntimeError: Workflow exited with code 1"
     ]
    }
   ],
   "source": [
    "%env --expect-error\n",
    "\n",
    "%run\n",
    "[10]\n",
    "depends: system_resource(mem='16G', disk='1T')\n",
    "run:\n",
    "   echo \"some large job\""
   ]
  },
  {
   "cell_type": "markdown",
   "metadata": {
    "kernel": "SoS",
    "tags": []
   },
   "source": [
    "### Target `R_library`"
   ]
  },
  {
   "cell_type": "markdown",
   "metadata": {
    "kernel": "SoS",
    "tags": []
   },
   "source": [
    "The `R_library` target represents a R library. If the libraries are not available, it will try to install it from [CRAN](https://cran.r-project.org/), [bioconductor](https://www.bioconductor.org/), or [github](https://github.com/). Github package name should be formatted as `pkg@path`. A typical usage of this target would be"
   ]
  },
  {
   "cell_type": "code",
   "execution_count": 38,
   "metadata": {
    "kernel": "SoS",
    "tags": []
   },
   "outputs": [
    {
     "name": "stdout",
     "output_type": "stream",
     "text": [
      "null device \n",
      "          1 \n"
     ]
    }
   ],
   "source": [
    "%run -v1\n",
    "[10]\n",
    "output: 'test.jpg'\n",
    "depends: R_library('ggplot2')\n",
    "R: expand=True\n",
    "  library(ggplot2) \n",
    "  jpeg({_output:r})\n",
    "  qplot(Sepal.Length, Petal.Length, data = iris, color = Species)\n",
    "  dev.off()\n"
   ]
  },
  {
   "cell_type": "markdown",
   "metadata": {
    "kernel": "sos",
    "tags": []
   },
   "source": [
    "`R_library` can also be used to check for specific versions of packages. For example:\n",
    "\n",
    "```\n",
    "R_library('edgeR', '3.12.0')\n",
    "```\n",
    "will result in a warning if edgeR version is not 3.12.0. You can specify multiple versions \n",
    "\n",
    "```\n",
    "R_library('edgeR', ['3.12.0', '3.12.1'])\n",
    "```\n",
    "\n",
    "certain version or newer,\n",
    "```\n",
    "R_library('edgeR', '>=3.12.0')\n",
    "```\n",
    "\n",
    "certain version or older\n",
    "```\n",
    "check_R_library('ggplot2', '<1.0.0')\n",
    "```\n",
    "\n",
    "The default R library repo is `http://cran.us.r-project.org`. It is possible to customize the repo for which a R library would be installed, for example:\n",
    "\n",
    "```\n",
    "R_library('Rmosek', repos = \"http://download.mosek.com/R/7\")\n",
    "```\n",
    "\n",
    "To install from a github repository:\n",
    "\n",
    "```\n",
    "R_library('varbvs@pcarbo/varbvs/varbvs-R')\n",
    "```\n",
    "where `varbvs` is package name, `pcarbo/varbvs/varbvs-R` corresponds to sub-directory `varbvs-R` in repository `https://github.com/pcarbo/varbvs`."
   ]
  },
  {
   "cell_type": "markdown",
   "metadata": {
    "kernel": "SoS",
    "tags": []
   },
   "source": [
    "### Target `Py_Module`"
   ]
  },
  {
   "cell_type": "markdown",
   "metadata": {
    "kernel": "SoS",
    "tags": []
   },
   "source": [
    "This target is usually used in the `depends` statement of a SoS step to specify a required Python module. For example,"
   ]
  },
  {
   "cell_type": "code",
   "execution_count": 39,
   "metadata": {
    "kernel": "SoS",
    "tags": []
   },
   "outputs": [
    {
     "name": "stdout",
     "output_type": "stream",
     "text": [
      "-----  ------  -------------\n",
      "Sun    696000     1.9891e+09\n",
      "Earth    6371  5973.6\n",
      "Moon     1737    73.5\n",
      "Mars     3390   641.85\n",
      "-----  ------  -------------\n"
     ]
    }
   ],
   "source": [
    "%run\n",
    "\n",
    "depends: Py_Module('tabulate')\n",
    "from tabulate import tabulate\n",
    "table = [[\"Sun\",696000,1989100000],[\"Earth\",6371,5973.6],\n",
    "    [\"Moon\",1737,73.5],[\"Mars\",3390,641.85]]\n",
    "print(tabulate(table))"
   ]
  },
  {
   "cell_type": "markdown",
   "metadata": {
    "kernel": "SoS",
    "tags": []
   },
   "source": [
    "If a module is not available, with `autoinstall=True` SoS will try to execute command `pip install` to install it, which might or might not succeed depending on your system configuration. For example,\n",
    "\n",
    "```\n",
    "Py_Module('numpy', autoinstall=True)\n",
    "```\n",
    "\n",
    "To specify version, \n",
    "\n",
    "```\n",
    "Py_Module('numpy', version=\">=1.14.0\")\n",
    "```\n",
    "\n",
    "Or a shorthand syntax, \n",
    "\n",
    "```\n",
    "Py_Module('numpy>1.14.0')\n",
    "```"
   ]
  }
 ],
 "metadata": {
  "kernelspec": {
   "display_name": "SoS",
   "language": "sos",
   "name": "sos"
  },
  "language_info": {
   "codemirror_mode": "sos",
   "file_extension": ".sos",
   "mimetype": "text/x-sos",
   "name": "sos",
   "nbconvert_exporter": "sos_notebook.converter.SoS_Exporter",
   "pygments_lexer": "sos"
  },
  "sos": {
   "kernels": [
    [
     "Bash",
     "bash",
     "Bash",
     "#E6EEFF"
    ],
    [
     "R",
     "ir",
     "R",
     "#DCDCDA"
    ],
    [
     "SoS",
     "sos",
     "",
     ""
    ]
   ],
   "panel": {
    "displayed": true,
    "height": 0
   },
   "version": "0.21.6"
  }
 },
 "nbformat": 4,
 "nbformat_minor": 4
}
