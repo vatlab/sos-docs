{
 "cells": [
  {
   "cell_type": "markdown",
   "metadata": {
    "kernel": "SoS",
    "tags": []
   },
   "source": [
    "# Command execution actions"
   ]
  },
  {
   "cell_type": "markdown",
   "metadata": {
    "kernel": "SoS",
    "tags": []
   },
   "source": [
    "* **Difficulty level**: easy\n",
    "* **Time need to lean**: 10 minutes or less\n",
    "* **Key points**:\n",
    "  * Action `run` uses `bash` under linux and `batch` under windows\n",
    "  * Other shell scripting actions calls respective shells\n",
    "  "
   ]
  },
  {
   "cell_type": "markdown",
   "metadata": {
    "kernel": "SoS",
    "tags": []
   },
   "source": [
    "##  Action `run`"
   ]
  },
  {
   "cell_type": "markdown",
   "metadata": {
    "kernel": "SoS",
    "tags": []
   },
   "source": [
    "`run` is the most frequently used action in sos. In most cases, it is similar to action `bash` and uses `bash` to execute specified script. Under the hood, this action is quite different from `bash` because the run action does not have a default interpreter and would behave differently under different situations."
   ]
  },
  {
   "cell_type": "markdown",
   "metadata": {
    "kernel": "SoS",
    "tags": []
   },
   "source": [
    "### Executing a list of commands"
   ]
  },
  {
   "cell_type": "markdown",
   "metadata": {
    "kernel": "SoS",
    "tags": []
   },
   "source": [
    "In the simplest case when one or more commands are specified, action `run` would assume it is a batch script under windows, and a bash script otherwise."
   ]
  },
  {
   "cell_type": "code",
   "execution_count": 1,
   "metadata": {
    "kernel": "SoS",
    "output_cache": "[{\"name\":\"stdout\",\"output_type\":\"stream\",\"text\":\"A\\n\"}]",
    "tags": []
   },
   "outputs": [
    {
     "name": "stdout",
     "output_type": "stream",
     "text": [
      "echo \"A\"\n",
      "A\n"
     ]
    }
   ],
   "source": [
    "run:\n",
    "    echo \"A\""
   ]
  },
  {
   "cell_type": "markdown",
   "metadata": {
    "kernel": "SoS",
    "output_cache": "[]",
    "tags": []
   },
   "source": [
    "It is different from an `bash` action in that\n",
    "\n",
    "* It will **print the commands that re executed before execute**\n",
    "* It will **exit with error if any of the commands exits with non-zero code**\n",
    "\n",
    "For example, whereas a `bash` action would print an error message but continue as follows"
   ]
  },
  {
   "cell_type": "code",
   "execution_count": 2,
   "metadata": {
    "kernel": "SoS",
    "output_cache": "[{\"output_type\":\"stream\",\"text\":\"B\\n\",\"name\":\"stdout\"},{\"output_type\":\"stream\",\"text\":\"/var/folders/ys/gnzk0qbx5wbdgm531v82xxljv5yqy8/T/tmpp8ur8ynw.sh: line 1: echoo: command not found\\n\",\"name\":\"stderr\"}]",
    "tags": []
   },
   "outputs": [
    {
     "name": "stdout",
     "output_type": "stream",
     "text": [
      "/var/folders/ys/gnzk0qbx5wbdgm531v82xxljv5yqy8/T/tmp1nykq5tz.sh: line 1: echoo: command not found\n",
      "This is correct\n"
     ]
    }
   ],
   "source": [
    "bash:\n",
    "    echoo \"This is wrong\"\n",
    "    echo \"This is correct\""
   ]
  },
  {
   "cell_type": "markdown",
   "metadata": {
    "kernel": "SoS",
    "output_cache": "[]",
    "tags": []
   },
   "source": [
    "The `run` action would exit with error"
   ]
  },
  {
   "cell_type": "code",
   "execution_count": 3,
   "metadata": {
    "kernel": "SoS",
    "output_cache": "[{\"output_type\":\"stream\",\"text\":\"/var/folders/ys/gnzk0qbx5wbdgm531v82xxljv5yqy8/T/tmpr6ni2p3z: line 1: echoo: command not found\\nFailed to process statement 'run(\\\"echoo \\\\\\\\\\\"A\\\\\\\\\\\"\\\\\\\\necho \\\\\\\\\\\"B\\\\\\\\\\\"\\\")\\\\n' (RuntimeError): Failed to execute script (ret=127).\\nPlease use command\\n\\t``/bin/bash \\\\\\n\\t  -e \\\\\\n\\t  /var/folders/ys/gnzk0qbx5wbdgm531v82xxljv5yqy8/T/tmppwtttdjc/.sos/interactive_0_0_9f062482``\\nunder \\\"/private/var/folders/ys/gnzk0qbx5wbdgm531v82xxljv5yqy8/T/tmppwtttdjc\\\" to test it.\\n\",\"name\":\"stderr\"}]",
    "tags": []
   },
   "outputs": [
    {
     "name": "stdout",
     "output_type": "stream",
     "text": [
      "echoo \"This is wrong\"\n",
      "/var/folders/ys/gnzk0qbx5wbdgm531v82xxljv5yqy8/T/tmpiycbcidi.sh: line 1: echoo: command not found\n"
     ]
    },
    {
     "name": "stderr",
     "output_type": "stream",
     "text": [
      "ExecuteError: [0]: \n",
      "Failed to execute ``/bin/bash -ev .sos/scratch_0_0_fca38a45.sh``\n",
      "exitcode=127, workdir=``/Users/bpeng1/sos/sos-docs/src/user_guide``\n",
      "---------------------------------------------------------------------------"
     ]
    }
   ],
   "source": [
    "%env --expect-error\n",
    "\n",
    "run:\n",
    "    echoo \"This is wrong\"\n",
    "    echo \"This is correct\""
   ]
  },
  {
   "cell_type": "markdown",
   "metadata": {
    "kernel": "SoS",
    "output_cache": "[{\"output_type\":\"stream\",\"text\":\"File contains parsing errors: <string>\\n\\t[line  2]: In another word,\\n```\\nrun:\\n    command1\\n    command2\\n\\nInvalid statements: SyntaxError('invalid syntax', ('<string>', 1, 10, 'In another word,\\\\n'))\\n\",\"name\":\"stderr\"}]",
    "tags": []
   },
   "source": [
    "In another word,\n",
    "```\n",
    "run:\n",
    "    command1\n",
    "    command2\n",
    "    command3\n",
    "```\n",
    "is equivalent to\n",
    "\n",
    "```\n",
    "bash:\n",
    "    command1 && command2 && command3\n",
    "```\n",
    "under Linux/MacOS systems."
   ]
  },
  {
   "cell_type": "markdown",
   "metadata": {
    "kernel": "SoS",
    "tags": []
   },
   "source": [
    "### Using shebang-specified interpreter"
   ]
  },
  {
   "cell_type": "markdown",
   "metadata": {
    "kernel": "SoS",
    "tags": []
   },
   "source": [
    "If the script starts with a shebang line, this action would execute the script directly. This allows you to execute any script in any language. For example, the following script executes a python script using action `run`"
   ]
  },
  {
   "cell_type": "code",
   "execution_count": 4,
   "metadata": {
    "kernel": "SoS",
    "tags": []
   },
   "outputs": [
    {
     "name": "stdout",
     "output_type": "stream",
     "text": [
      "This is python\n"
     ]
    }
   ],
   "source": [
    "run:\n",
    "    #!/usr/bin/env python\n",
    "    print('This is python')"
   ]
  },
  {
   "cell_type": "markdown",
   "metadata": {
    "kernel": "SoS",
    "tags": []
   },
   "source": [
    "and the following example runs a complete sos script using command `sos-runner`"
   ]
  },
  {
   "cell_type": "code",
   "execution_count": 5,
   "metadata": {
    "kernel": "SoS",
    "tags": []
   },
   "outputs": [
    {
     "name": "stdout",
     "output_type": "stream",
     "text": [
      "INFO: Running \u001b[32m10\u001b[0m: !/usr/bin/env sos-runner\n",
      "This is 10\n",
      "INFO: \u001b[32m10\u001b[0m is \u001b[32mcompleted\u001b[0m.\n",
      "INFO: Running \u001b[32m20\u001b[0m: \n",
      "This is 20\n",
      "INFO: \u001b[32m20\u001b[0m is \u001b[32mcompleted\u001b[0m.\n",
      "INFO: Workflow default (ID=55b3a265b673438c) is executed successfully with 2 completed steps.\n"
     ]
    }
   ],
   "source": [
    "run:\n",
    "    #!/usr/bin/env sos-runner\n",
    "    [10]\n",
    "    print(f\"This is {step_name}\")\n",
    "    [20]\n",
    "    print(f\"This is {step_name}\")"
   ]
  },
  {
   "cell_type": "markdown",
   "metadata": {
    "kernel": "SoS",
    "tags": []
   },
   "source": [
    "Note that action `run`would not analyze shebang line of a script if it is executed in a docker container (with option `docker-image`) and would always assumed to be `bash`."
   ]
  },
  {
   "cell_type": "markdown",
   "metadata": {
    "kernel": "SoS",
    "tags": []
   },
   "source": [
    "## Action  `bash`\n",
    "\n",
    "Action `bash(script)` accepts a shell script and execute it using `bash`. "
   ]
  },
  {
   "cell_type": "code",
   "execution_count": 6,
   "metadata": {
    "kernel": "SoS",
    "tags": []
   },
   "outputs": [
    {
     "name": "stdout",
     "output_type": "stream",
     "text": [
      "10 9 8 7 6 5 4 3 2 1 \n"
     ]
    }
   ],
   "source": [
    "bash:\n",
    "    for (( counter=10; counter>0; counter-- ))\n",
    "    do\n",
    "        echo -n \"$counter \"\n",
    "    done\n",
    "    printf \"\\n\""
   ]
  },
  {
   "cell_type": "markdown",
   "metadata": {
    "kernel": "SoS",
    "tags": []
   },
   "source": [
    "## Action `sh`"
   ]
  },
  {
   "cell_type": "markdown",
   "metadata": {
    "kernel": "SoS",
    "tags": []
   },
   "source": [
    "Execute script with a `sh` interpreter. On most systems it is just an alias to `bash`. "
   ]
  },
  {
   "cell_type": "code",
   "execution_count": 7,
   "metadata": {
    "kernel": "SoS",
    "tags": []
   },
   "outputs": [
    {
     "name": "stdout",
     "output_type": "stream",
     "text": [
      "It is a two digit number\n"
     ]
    }
   ],
   "source": [
    "n = 10\n",
    "sh: expand=True\n",
    "    if [ {n} -lt 10 ];\n",
    "    then\n",
    "        echo \"It is a one digit number\"\n",
    "    else\n",
    "        echo \"It is a two digit number\"\n",
    "    fi"
   ]
  },
  {
   "cell_type": "markdown",
   "metadata": {
    "kernel": "SoS",
    "tags": []
   },
   "source": [
    "## Action  `csh`"
   ]
  },
  {
   "cell_type": "markdown",
   "metadata": {
    "kernel": "SoS",
    "tags": []
   },
   "source": [
    "Action `csh` executes specified script with a `csh` interpreter"
   ]
  },
  {
   "cell_type": "code",
   "execution_count": 8,
   "metadata": {
    "kernel": "SoS",
    "tags": []
   },
   "outputs": [
    {
     "name": "stdout",
     "output_type": "stream",
     "text": [
      "File cde1 is not abc\n"
     ]
    }
   ],
   "source": [
    "csh:\n",
    "    set name1 = abc\n",
    "    set name = cde\n",
    "    set text = \"File $name\"\"1 is not $name1\"\n",
    "    echo $text"
   ]
  },
  {
   "cell_type": "markdown",
   "metadata": {
    "kernel": "SoS",
    "tags": []
   },
   "source": [
    "## Action  `tcsh`"
   ]
  },
  {
   "cell_type": "markdown",
   "metadata": {
    "kernel": "SoS",
    "tags": []
   },
   "source": [
    "Action `tcsh` executes specified script with a `tcsh` interpreter"
   ]
  },
  {
   "cell_type": "code",
   "execution_count": 9,
   "metadata": {
    "kernel": "SoS",
    "tags": []
   },
   "outputs": [
    {
     "name": "stdout",
     "output_type": "stream",
     "text": [
      "it worked\n",
      "This is the end of the test\n"
     ]
    }
   ],
   "source": [
    "tcsh:\n",
    "    set testing = 10\n",
    "    if ($testing == 10) echo \"it worked\"\n",
    "    echo \"This is the end of the test\""
   ]
  },
  {
   "cell_type": "markdown",
   "metadata": {
    "kernel": "SoS",
    "tags": []
   },
   "source": [
    "##  Action `zsh`"
   ]
  },
  {
   "cell_type": "markdown",
   "metadata": {
    "kernel": "SoS",
    "tags": []
   },
   "source": [
    "Action `zsh` executes script with a `zsh` interpreter"
   ]
  },
  {
   "cell_type": "code",
   "execution_count": 10,
   "metadata": {
    "kernel": "SoS",
    "tags": []
   },
   "outputs": [
    {
     "name": "stdout",
     "output_type": "stream",
     "text": [
      "->one two three<-\n"
     ]
    }
   ],
   "source": [
    "zsh:\n",
    "    wordlist=\"one two three\"\n",
    "    wordarray=( $wordlist )\n",
    "\n",
    "    for word in $wordarray; do\n",
    "        echo \"->$word<-\"\n",
    "    done"
   ]
  },
  {
   "cell_type": "markdown",
   "metadata": {
    "kernel": "SoS"
   },
   "source": [
    "### Parameter `entrypoint`"
   ]
  },
  {
   "cell_type": "markdown",
   "metadata": {
    "kernel": "SoS"
   },
   "source": [
    "refer to [script actions](script_actions.html) for detail"
   ]
  }
 ],
 "metadata": {
  "kernelspec": {
   "display_name": "SoS",
   "language": "sos",
   "name": "sos"
  },
  "language_info": {
   "codemirror_mode": "sos",
   "file_extension": ".sos",
   "mimetype": "text/x-sos",
   "name": "sos",
   "nbconvert_exporter": "sos_notebook.converter.SoS_Exporter",
   "pygments_lexer": "sos"
  },
  "sos": {
   "kernels": [
    [
     "Bash",
     "bash",
     "Bash",
     "#E6EEFF"
    ],
    [
     "R",
     "ir",
     "R",
     "#DCDCDA"
    ],
    [
     "SoS",
     "sos",
     "",
     ""
    ]
   ],
   "panel": {
    "displayed": true,
    "height": 0
   },
   "version": "0.24.1"
  }
 },
 "nbformat": 4,
 "nbformat_minor": 4
}
