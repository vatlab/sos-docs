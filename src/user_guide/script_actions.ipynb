{
 "cells": [
  {
   "cell_type": "markdown",
   "metadata": {
    "kernel": "SoS",
    "tags": []
   },
   "source": [
    "# Script execution actions"
   ]
  },
  {
   "cell_type": "markdown",
   "metadata": {
    "kernel": "SoS",
    "tags": []
   },
   "source": [
    "* **Difficulty level**: easy\n",
    "* **Time need to lean**: 10 minutes or less\n",
    "  * Action `script` is a general script execution action\n",
    "  * Actions such as `Python2`, `Python3`, `Perl` executes scripts with specified interpreters\n",
    "  "
   ]
  },
  {
   "cell_type": "markdown",
   "metadata": {
    "kernel": "SoS",
    "tags": []
   },
   "source": [
    "## Action `script`"
   ]
  },
  {
   "cell_type": "markdown",
   "metadata": {
    "kernel": "SoS",
    "tags": []
   },
   "source": [
    "Action `script` is the general form of all script-executing actions in SoS. It accepts a script, and parameters `interpreter` (required), `suffix` (if required by the interpreter) and optional `args` (command line arguments). It can be used to execute any script for which its interpreter is not currently supported by SoS. For example, the action\n",
    "\n",
    "```\n",
    "python:\n",
    "    print('HERE')\n",
    "```\n",
    "\n",
    "can be executed as"
   ]
  },
  {
   "cell_type": "code",
   "execution_count": 1,
   "metadata": {
    "kernel": "SoS",
    "tags": []
   },
   "outputs": [
    {
     "name": "stdout",
     "output_type": "stream",
     "text": [
      "HERE\n"
     ]
    }
   ],
   "source": [
    "script: interpreter='python'\n",
    "    print('HERE')"
   ]
  },
  {
   "cell_type": "markdown",
   "metadata": {
    "kernel": "SoS",
    "tags": []
   },
   "source": [
    "## Action  `perl`"
   ]
  },
  {
   "cell_type": "markdown",
   "metadata": {
    "kernel": "SoS",
    "tags": []
   },
   "source": [
    "Action `perl` executes the passed script using `perl` interpreter."
   ]
  },
  {
   "cell_type": "code",
   "execution_count": 2,
   "metadata": {
    "kernel": "SoS",
    "tags": []
   },
   "outputs": [
    {
     "name": "stdout",
     "output_type": "stream",
     "text": [
      "Hello, Brian!\n"
     ]
    }
   ],
   "source": [
    "perl:\n",
    "    my $name = \"Brian\";\n",
    "    print \"Hello, $name!\\n\";"
   ]
  },
  {
   "cell_type": "markdown",
   "metadata": {
    "kernel": "SoS",
    "tags": []
   },
   "source": [
    "## Action  `ruby`"
   ]
  },
  {
   "cell_type": "markdown",
   "metadata": {
    "kernel": "SoS",
    "tags": []
   },
   "source": [
    "Action `ruby` execute the passed script using `ruby` interpreter."
   ]
  },
  {
   "cell_type": "code",
   "execution_count": 3,
   "metadata": {
    "kernel": "SoS",
    "tags": []
   },
   "outputs": [
    {
     "name": "stdout",
     "output_type": "stream",
     "text": [
      "/System/Library/Frameworks/Ruby.framework/Versions/2.3/usr/lib/ruby/2.3.0/universal-darwin18/rbconfig.rb:215: warning: Insecure world writable dir /Applications/FastQC.app/Contents/MacOS in PATH, mode 040777\n",
      "45 3 19 8 sam max 56 98.9 3 10 jill\n",
      "19 3 10\n",
      "3 8 19 45\n",
      "A: 45 3 19 8 57 9 phil\n"
     ]
    }
   ],
   "source": [
    "ruby:\n",
    "    a = [ 45, 3, 19, 8 ]\n",
    "    b = [ 'sam', 'max', 56, 98.9, 3, 10, 'jill' ]\n",
    "    print (a + b).join(' '), \"\\n\"\n",
    "    print a[2], \" \", b[4], \" \", b[-2], \"\\n\"\n",
    "    print a.sort.join(' '), \"\\n\"\n",
    "    a << 57 << 9 << 'phil'\n",
    "    print \"A: \", a.join(' '), \"\\n\""
   ]
  },
  {
   "cell_type": "markdown",
   "metadata": {
    "kernel": "SoS",
    "tags": []
   },
   "source": [
    "##  Action  `node`"
   ]
  },
  {
   "cell_type": "markdown",
   "metadata": {
    "kernel": "SoS",
    "tags": []
   },
   "source": [
    "Action `node` executes the passed script using `node` (JavaScript) interpreter."
   ]
  },
  {
   "cell_type": "code",
   "execution_count": 4,
   "metadata": {
    "kernel": "SoS",
    "tags": []
   },
   "outputs": [
    {
     "name": "stdout",
     "output_type": "stream",
     "text": [
      "\u001b[33m967\u001b[39m\n"
     ]
    }
   ],
   "source": [
    "node:\n",
    "    var i, a, b, c, max;\n",
    "\n",
    "    max = 1000000000;\n",
    "\n",
    "    var d = Date.now();\n",
    "\n",
    "    for (i = 0; i < max; i++) {\n",
    "        a = 1234 + 5678 + i;\n",
    "        b = 1234 * 5678 + i;\n",
    "        c = 1234 / 2 + i;\n",
    "    }\n",
    "\n",
    "    console.log(Date.now() - d);"
   ]
  },
  {
   "cell_type": "markdown",
   "metadata": {
    "kernel": "SoS",
    "tags": []
   },
   "source": [
    "## Action `julia`"
   ]
  },
  {
   "cell_type": "markdown",
   "metadata": {
    "kernel": "SoS",
    "tags": []
   },
   "source": [
    "Action `julia` execute specified Julia script with command `julia`. Because my system does not have julia installed, the following example executes a Julia script in a docker container."
   ]
  },
  {
   "cell_type": "code",
   "execution_count": 5,
   "metadata": {
    "kernel": "SoS",
    "tags": []
   },
   "outputs": [
    {
     "data": {
      "text/html": [
       "<div class=\"sos_hint\">Pulling docker image julia</div>"
      ]
     },
     "metadata": {},
     "output_type": "display_data"
    },
    {
     "name": "stdout",
     "output_type": "stream",
     "text": [
      "\n",
      "The quick brown fox jumps over the lazy dog α,β,γ\n"
     ]
    }
   ],
   "source": [
    "julia: container='julia'\n",
    "    s1 = \"The quick brown fox jumps over the lazy dog α,β,γ\"\n",
    "    println(s1)"
   ]
  },
  {
   "cell_type": "markdown",
   "metadata": {
    "kernel": "SoS",
    "tags": []
   },
   "source": [
    "### Action `matlab`"
   ]
  },
  {
   "cell_type": "markdown",
   "metadata": {
    "kernel": "SoS",
    "tags": []
   },
   "source": [
    "Action `matlab` execute specified matlab script with default options `-nojvm -nodisplay -nosplash -r {filename:n};quit`. The options start matlab without desktop, execute the strip (with parameter without `.m` extension), and quit matlab when the script is completed."
   ]
  },
  {
   "cell_type": "markdown",
   "metadata": {
    "kernel": "SoS",
    "tags": []
   },
   "source": [
    "### Action `python`"
   ]
  },
  {
   "cell_type": "markdown",
   "metadata": {
    "kernel": "SoS",
    "tags": []
   },
   "source": [
    "Action `python` and `python3` accepts a Python script and execute it with python or python3, respectively.\n",
    "\n",
    "Because SoS can include Python statements directly in a SoS script, it is important to note that embedded Python\n",
    "statements are interpreted by SoS and the `python` and `python3` actions are execute in separate processes without access to the SoS environment.\n",
    "\n",
    "For example, the following SoS step execute some python statements **within** SoS with direct access to SoS variables such as `input`, and with `result` writing directly to the SoS environment,\n",
    "\n",
    "```python\n",
    "[10]\n",
    "for filename in input:\n",
    "    with open(filename) as data:\n",
    "        result = filename + '.res'\n",
    "        ....\n",
    "```\n",
    "\n",
    "while\n",
    "\n",
    "```python\n",
    "[10]\n",
    "input: group_by='single'\n",
    "\n",
    "python:\n",
    "\n",
    "with open(${input!r}) as data:\n",
    "   result = ${input!r} + '.res'\n",
    "   ...\n",
    "\n",
    "\n",
    "```\n",
    "\n",
    "composes a Python script for each input file and calls separate Python interpreters to execute them. Whereas\n",
    "the Python statement in the first example will always be executed, the statements in `python` will not be executed in `inspect` mode."
   ]
  },
  {
   "cell_type": "markdown",
   "metadata": {
    "kernel": "SoS",
    "tags": []
   },
   "source": [
    "In the following example, `python` actually calls Python 3 because version 3 is the default python interpreter on my system."
   ]
  },
  {
   "cell_type": "code",
   "execution_count": 6,
   "metadata": {
    "kernel": "SoS",
    "tags": []
   },
   "outputs": [
    {
     "name": "stdout",
     "output_type": "stream",
     "text": [
      "3.7.3 | packaged by conda-forge | (default, Jul  1 2019, 14:38:56) \n",
      "[Clang 4.0.1 (tags/RELEASE_401/final)]\n"
     ]
    }
   ],
   "source": [
    "python:\n",
    "  import sys\n",
    "  print(sys.version)"
   ]
  },
  {
   "cell_type": "markdown",
   "metadata": {
    "kernel": "SoS",
    "tags": []
   },
   "source": [
    "### Action `python2`\n",
    "\n",
    "Action `python2` is similar to `python` but it tries to use interpreter `python2` (or `python2.7` on some systems) before `python`, which could be python 3. Note that this action does not actually test the version of interpreter so it would use python 3 if this is the only available version."
   ]
  },
  {
   "cell_type": "code",
   "execution_count": 7,
   "metadata": {
    "kernel": "SoS",
    "tags": []
   },
   "outputs": [
    {
     "name": "stdout",
     "output_type": "stream",
     "text": [
      "Hello world\n"
     ]
    }
   ],
   "source": [
    "python2:\n",
    "  print \"Hello world\""
   ]
  },
  {
   "cell_type": "markdown",
   "metadata": {
    "kernel": "SoS",
    "tags": []
   },
   "source": [
    "### Action `python3`\n",
    "\n",
    "Action `python3` is similar to `python` but it tries to use interpreter `python3` (version 3 of python) before `python`, which could be python 2. Note that this action does not actually test the version of interpreter so it would use python 2 if this is the only available version."
   ]
  },
  {
   "cell_type": "code",
   "execution_count": 8,
   "metadata": {
    "kernel": "SoS",
    "tags": []
   },
   "outputs": [
    {
     "name": "stdout",
     "output_type": "stream",
     "text": [
      "Hello world\n"
     ]
    }
   ],
   "source": [
    "python3:\n",
    "  print('Hello world')"
   ]
  },
  {
   "cell_type": "markdown",
   "metadata": {
    "kernel": "SoS",
    "tags": []
   },
   "source": [
    "### Action `R`"
   ]
  },
  {
   "cell_type": "markdown",
   "metadata": {
    "kernel": "SoS",
    "tags": []
   },
   "source": [
    "Action `R(script)` execute the passed script using `Rscript` command. "
   ]
  },
  {
   "cell_type": "code",
   "execution_count": 9,
   "metadata": {
    "kernel": "SoS",
    "tags": []
   },
   "outputs": [
    {
     "name": "stdout",
     "output_type": "stream",
     "text": [
      "  x  y\n",
      "1 1  7\n",
      "4 1  2\n",
      "2 2 19\n",
      "3 3  2\n"
     ]
    }
   ],
   "source": [
    "R:\n",
    "    D <- data.frame(x=c(1,2,3,1), y=c(7,19,2,2))\n",
    "    # Sort on x\n",
    "    indexes <- order(D$x)\n",
    "    D[indexes,]"
   ]
   },
  {
   "cell_type": "markdown",
   "metadata": {
    "kernel": "SoS",
    "tags": []
   },
   "source": [
    "### Parameter `entrypoint`"
   ]
  },
  {
   "cell_type": "markdown",
   "metadata": {
    "kernel": "SoS"
   },
   "source": [
    "You can use parameter entrypoint to change the environment in which the interpreter will be executed. An entrypoint is usually the name of a shell script that defines a number of environment variables and run the command given by the command line parameters in such a way that the current process is replaced by it,\n",
    "\n",
    "```SoS\n",
    "#!/bin/bash\n",
    "\n",
    "set -o errexit\n",
    "set -o pipefail\n",
    "set -o nounset\n",
    "\n",
    "export MY_ENV=MY_VALUE\n",
    "\n",
    "exec \"$@\"\n",
    "```\n",
    "but it can also be other commands such as `micromamba run -n ENVIRONMENT`.\n",
    "\n",
    "For example, the following statement will execute `interpreter` Rscript"
   ]
  },
  {
   "cell_type": "code",
   "execution_count": 10,
   "metadata": {
    "kernel": "SoS"
   },
   "outputs": [
    {
     "name": "stdout",
     "output_type": "stream",
     "text": [
      "\u001b[34mINFO:   \u001b[0m Running default:\n",
      "\u001b[34mINFO:   \u001b[0m default is completed.\n",
      "\u001b[34mINFO:   \u001b[0m Workflow default is executed successfully with 1 completed step.\n"
     ]
    }
   ],
   "source": [
    "R: entrypoint = 'micromamba run -n ENVIRONMENT'"
   ]
  },
  {
   "cell_type": "markdown",
   "metadata": {
    "kernel": "SoS"
   },
   "source": [
    "It's equivalent to the following statement"
   ]
  },
  {
   "cell_type": "code",
   "execution_count": null,
   "metadata": {
    "kernel": "SoS"
   },
   "outputs": [],
   "source": [
    "script: interpreter = Rscript, entrypoint = 'micromamba run -n ENVIRONMENT'"
   ]
  }
 ],
 "metadata": {
  "kernelspec": {
   "display_name": "SoS",
   "language": "sos",
   "name": "sos"
  },
  "language_info": {
   "codemirror_mode": "sos",
   "file_extension": ".sos",
   "mimetype": "text/x-sos",
   "name": "sos",
   "nbconvert_exporter": "sos_notebook.converter.SoS_Exporter",
   "pygments_lexer": "sos"
  },
  "sos": {
   "kernels": [
    [
     "Bash",
     "bash",
     "Bash",
     "#E6EEFF"
    ],
    [
     "R",
     "ir",
     "R",
     "#DCDCDA"
    ],
    [
     "SoS",
     "sos",
     "",
     ""
    ]
   ],
   "panel": {
    "displayed": true,
    "height": 0
   },
   "version": "0.24.1"
  }
 },
 "nbformat": 4,
 "nbformat_minor": 4
}
