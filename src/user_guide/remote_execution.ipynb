{
 "cells": [
  {
   "cell_type": "markdown",
   "metadata": {
    "kernel": "SoS",
    "papermill": {
     "duration": 0.036736,
     "end_time": "2019-12-23T17:04:37.466053",
     "exception": false,
     "start_time": "2019-12-23T17:04:37.429317",
     "status": "completed"
    },
    "tags": []
   },
   "source": [
    "# Customized or remote execution of workflows"
   ]
  },
  {
   "cell_type": "markdown",
   "metadata": {
    "kernel": "SoS",
    "papermill": {
     "duration": 0.028599,
     "end_time": "2019-12-23T17:04:37.522218",
     "exception": false,
     "start_time": "2019-12-23T17:04:37.493619",
     "status": "completed"
    },
    "tags": []
   },
   "source": [
    "* **Difficulty level**: intermediate\n",
    "* **Time need to lean**: 30 minutes or less\n",
    "* **Key points**:\n",
    "  * Option `-r host` executes workflow on `host`, optionally through a `workflow_template` specified through host configuration.\n",
    "  * The remote host could be a regular server, or a cluster system, in which case the workflow could be executed using multiple computing nodes.\n",
    "  * Local and remote hosts should share directories (e.g. via NFS mount) for input and output files."
   ]
  },
  {
   "cell_type": "markdown",
   "metadata": {
    "kernel": "SoS",
    "papermill": {
     "duration": 0.021278,
     "end_time": "2019-12-23T17:04:37.564341",
     "exception": false,
     "start_time": "2019-12-23T17:04:37.543063",
     "status": "completed"
    },
    "tags": []
   },
   "source": [
    "Option `-r host` executes workflow on `host`. Depending on the properties of `host`, this option allows you to\n",
    "\n",
    "1. Execute workflows locally, but in a customized environment\n",
    "2. Execute workflows on a remote server directly\n",
    "3. Execute entire workflows on a remote cluster system with option `-r`\n",
    "3. Execute entire workflows on a remote cluster system with job submission with options `-r`, `-q`\n",
    "\n",
    "Please refer to [host configuration](host_setup.html) for details on host configuration."
   ]
  },
  {
   "cell_type": "markdown",
   "metadata": {
    "kernel": "SoS",
    "papermill": {
     "duration": 0.024947,
     "end_time": "2019-12-23T17:04:37.612903",
     "exception": false,
     "start_time": "2019-12-23T17:04:37.587956",
     "status": "completed"
    },
    "tags": []
   },
   "source": [
    "## Customized local environment for workflow execution"
   ]
  },
  {
   "cell_type": "markdown",
   "metadata": {
    "kernel": "SoS",
    "papermill": {
     "duration": 0.025339,
     "end_time": "2019-12-23T17:04:37.662600",
     "exception": false,
     "start_time": "2019-12-23T17:04:37.637261",
     "status": "completed"
    },
    "tags": []
   },
   "source": [
    "Assuming a system with two R versions, a system R installation under `/usr/local/bin` and a local installation in a conda environment. The latter version is the default version but if for some reasons the system R is preferred (e.g. if a library is only available there), you can change the local `PATH` of the `R` action using an `env` option (see [SoS actions](sos_actions.html) for details."
   ]
  },
  {
   "cell_type": "code",
   "execution_count": 1,
   "metadata": {
    "kernel": "SoS",
    "papermill": {
     "duration": 2.454832,
     "end_time": "2019-12-23T17:04:40.144765",
     "exception": false,
     "start_time": "2019-12-23T17:04:37.689933",
     "status": "completed"
    },
    "tags": []
   },
   "outputs": [
    {
     "name": "stdout",
     "output_type": "stream",
     "text": [
      "[1] \"R version 3.6.1 (2019-07-05)\"\n"
     ]
    }
   ],
   "source": [
    "R:\n",
    "    R.Version()$version.string"
   ]
  },
  {
   "cell_type": "code",
   "execution_count": 2,
   "metadata": {
    "kernel": "SoS",
    "papermill": {
     "duration": 1.480646,
     "end_time": "2019-12-23T17:04:41.663985",
     "exception": false,
     "start_time": "2019-12-23T17:04:40.183339",
     "status": "completed"
    },
    "tags": []
   },
   "outputs": [
    {
     "name": "stdout",
     "output_type": "stream",
     "text": [
      "[1] \"R version 3.5.2 (2018-12-20)\"\n"
     ]
    }
   ],
   "source": [
    "import os\n",
    "\n",
    "R: env={'PATH': f\"/usr/local/bin:{os.environ['PATH']}\"}\n",
    "    R.Version()$version.string"
   ]
  },
  {
   "cell_type": "markdown",
   "metadata": {
    "kernel": "SoS",
    "papermill": {
     "duration": 0.028171,
     "end_time": "2019-12-23T17:04:41.721396",
     "exception": false,
     "start_time": "2019-12-23T17:04:41.693225",
     "status": "completed"
    },
    "tags": []
   },
   "source": [
    "This action level `env` configuration is very flexible (e.g. you can use different versions of R in the same workflow) but can be difficult to maintain if you have multiple `R` actions. If your intent to use the same version of R throughout the workflow, it is easier to execute the entire workflow in a customized environment.\n",
    "\n",
    "To achieve this, you can define a host as follows, which has a default `address` of `localhost`."
   ]
  },
  {
   "cell_type": "code",
   "execution_count": 3,
   "metadata": {
    "kernel": "SoS",
    "papermill": {
     "duration": 0.038384,
     "end_time": "2019-12-23T17:04:41.782508",
     "exception": false,
     "start_time": "2019-12-23T17:04:41.744124",
     "status": "completed"
    },
    "tags": []
   },
   "outputs": [
    {
     "data": {
      "text/html": [
       "<div class=\"sos_hint\">Cell content saved to <a href=\"myconfig.yml\" target=\"_blank\">myconfig.yml</a>, use option -r to also execute the cell.</div>"
      ],
      "text/plain": [
       "Cell content saved to myconfig.yml, use option -r to also execute the cell.\n"
      ]
     },
     "metadata": {},
     "output_type": "display_data"
    }
   ],
   "source": [
    "%save myconfig.yml -f\n",
    "hosts:\n",
    "  system_R:\n",
    "    workflow_template: |\n",
    "      export PATH=/usr/local/bin:$PATH\n",
    "      {command}            "
   ]
  },
  {
   "cell_type": "markdown",
   "metadata": {
    "kernel": "SoS",
    "papermill": {
     "duration": 0.02328,
     "end_time": "2019-12-23T17:04:41.831690",
     "exception": false,
     "start_time": "2019-12-23T17:04:41.808410",
     "status": "completed"
    },
    "tags": []
   },
   "source": [
    "Then, we will be using the conda version of R by default"
   ]
  },
  {
   "cell_type": "code",
   "execution_count": 4,
   "metadata": {
    "kernel": "SoS",
    "papermill": {
     "duration": 4.976894,
     "end_time": "2019-12-23T17:04:46.831672",
     "exception": false,
     "start_time": "2019-12-23T17:04:41.854778",
     "status": "completed"
    },
    "tags": []
   },
   "outputs": [
    {
     "name": "stdout",
     "output_type": "stream",
     "text": [
      "[1] \"R version 3.6.1 (2019-07-05)\"\n"
     ]
    }
   ],
   "source": [
    "%run -v1\n",
    "R:\n",
    "    R.Version()$version.string"
   ]
  },
  {
   "cell_type": "markdown",
   "metadata": {
    "kernel": "SoS",
    "papermill": {
     "duration": 0.024947,
     "end_time": "2019-12-23T17:04:46.879871",
     "exception": false,
     "start_time": "2019-12-23T17:04:46.854924",
     "status": "completed"
    },
    "tags": []
   },
   "source": [
    "and be using the system R if we execute the workflow in the `system_R` host with option `-r`, despite the fact that `system_R` is just a localhost with a template"
   ]
  },
  {
   "cell_type": "code",
   "execution_count": 5,
   "metadata": {
    "kernel": "SoS",
    "papermill": {
     "duration": 4.532367,
     "end_time": "2019-12-23T17:04:51.435095",
     "exception": false,
     "start_time": "2019-12-23T17:04:46.902728",
     "status": "completed"
    },
    "tags": []
   },
   "outputs": [
    {
     "name": "stdout",
     "output_type": "stream",
     "text": [
      "[1] \"R version 3.5.2 (2018-12-20)\"\n"
     ]
    }
   ],
   "source": [
    "%run -r system_R -c myconfig.yml -v1\n",
    "R:\n",
    "    R.Version()$version.string"
   ]
  },
  {
   "cell_type": "markdown",
   "metadata": {
    "kernel": "SoS",
    "papermill": {
     "duration": 0.021374,
     "end_time": "2019-12-23T17:04:51.479065",
     "exception": false,
     "start_time": "2019-12-23T17:04:51.457691",
     "status": "completed"
    },
    "tags": []
   },
   "source": [
    "As you can imagine, the template can set up a variety of different environment such as conda environments, debug environments, and using `module load` on a cluster system."
   ]
  },
  {
   "cell_type": "markdown",
   "metadata": {
    "kernel": "SoS",
    "papermill": {
     "duration": 0.022024,
     "end_time": "2019-12-23T17:04:51.522285",
     "exception": false,
     "start_time": "2019-12-23T17:04:51.500261",
     "status": "completed"
    },
    "tags": []
   },
   "source": [
    "## Execution of workflow on a remote host"
   ]
  },
  {
   "cell_type": "markdown",
   "metadata": {
    "kernel": "SoS",
    "papermill": {
     "duration": 0.020769,
     "end_time": "2019-12-23T17:04:51.611968",
     "exception": false,
     "start_time": "2019-12-23T17:04:51.591199",
     "status": "completed"
    },
    "tags": []
   },
   "source": [
    "If the `host` is a real remote host, then\n",
    "\n",
    "```bash\n",
    "sos run script workflow -r host [other options]\n",
    "```\n",
    "would execute the entire workflow on the `host`.\n",
    "\n",
    "This option is useful if you would like to **write the entire workflow for a remote host and execute the workflow with all input, software, and output files on the remote host**. Typical use cases for this option are when the data is too large to be processed locally, or when the software is only available on the remote host.\n",
    "\n",
    "For example, with a host definition similar to\n",
    "\n",
    "```\n",
    "hosts:\n",
    "  bcb:\n",
    "    address:  myserver.utexas.edu\n",
    "    paths:\n",
    "      home: /Users/bpeng1/scratch\n",
    "```\n",
    "\n",
    "the following cell execute the workflow on `bcb`"
   ]
  },
  {
   "cell_type": "code",
   "execution_count": 6,
   "metadata": {
    "kernel": "SoS",
    "papermill": {
     "duration": 3.587526,
     "end_time": "2019-12-23T17:04:55.221544",
     "exception": false,
     "start_time": "2019-12-23T17:04:51.634018",
     "status": "completed"
    },
    "tags": []
   },
   "outputs": [
    {
     "name": "stdout",
     "output_type": "stream",
     "text": [
      "INFO: No matching tasks are identified. Use option -a to check all tasks.\n",
      "INFO: Running \u001b[32mdefault\u001b[0m: \n",
      "null device \n",
      "          1 \n",
      "INFO: \u001b[32mdefault\u001b[0m is \u001b[32mcompleted\u001b[0m.\n",
      "INFO: Workflow default (ID=94ec1bfb48adfe06) is executed successfully with 1 completed step.\n"
     ]
    }
   ],
   "source": [
    "%run -r bcb\n",
    "R:\n",
    "  set.seed(1)\n",
    "  x <- 1:100\n",
    "  y <- 0.029*x + rnorm(100)\n",
    "  png(\"test.png\", height=400, width=600)\n",
    "  plot(x, y, pch=19, col=rgb(0.5, 0.5, 0.5, 0.5), cex=1.5)\n",
    "  abline(lm(y ~ x))\n",
    "  dev.off()\n"
   ]
  },
  {
   "cell_type": "markdown",
   "metadata": {
    "kernel": "SoS",
    "papermill": {
     "duration": 0.0319,
     "end_time": "2019-12-23T17:04:55.284564",
     "exception": false,
     "start_time": "2019-12-23T17:04:55.252664",
     "status": "completed"
    },
    "tags": []
   },
   "source": [
    "The resulting `test.png` are generated on `bcb` and is unavailable for local preview. You can however preview the file with `-r` option of magic `%preview`"
   ]
  },
  {
   "cell_type": "code",
   "execution_count": 7,
   "metadata": {
    "kernel": "SoS",
    "papermill": {
     "duration": 3.24173,
     "end_time": "2019-12-23T17:04:58.559507",
     "exception": false,
     "start_time": "2019-12-23T17:04:55.317777",
     "status": "completed"
    },
    "tags": []
   },
   "outputs": [
    {
     "data": {
      "text/html": [
       "<div class=\"sos_hint\">> test.png (30.5 KiB):</div>"
      ],
      "text/plain": [
       "\n",
       "> test.png (30.5 KiB):"
      ]
     },
     "metadata": {},
     "output_type": "display_data"
    },
    {
     "data": {
      "image/png": "[encoded data removed]"
     },
     "metadata": {},
     "output_type": "display_data",
     "source": "test.png"
    }
   ],
   "source": [
    "%preview -n test.png -r bcb"
   ]
  },
  {
   "cell_type": "markdown",
   "metadata": {
    "kernel": "SoS",
    "papermill": {
     "duration": 0.036206,
     "end_time": "2019-12-23T17:04:58.641017",
     "exception": false,
     "start_time": "2019-12-23T17:04:58.604811",
     "status": "completed"
    },
    "tags": []
   },
   "source": [
    "In this case we do not define any `workflow_template` for `bcb` so the workflow is executed directly on `bcb`. If a `workflow_template` is defined, the workflow will be executed through the shell script that is expanded from the template."
   ]
  },
  {
   "cell_type": "markdown",
   "metadata": {
    "kernel": "SoS"
   },
   "source": [
    "Note that local configrations, including the ones specified with option `-c` will be transferred and used on the remote host, with only the `localhost` definition switched to be the remote host. It is therefore safe to use local configurations with option `-r`."
   ]
  },
  {
   "cell_type": "markdown",
   "metadata": {
    "kernel": "SoS",
    "papermill": {
     "duration": 0.057432,
     "end_time": "2019-12-23T17:05:22.505374",
     "exception": false,
     "start_time": "2019-12-23T17:05:22.447942",
     "status": "completed"
    },
    "tags": []
   },
   "source": [
    "## Executing entire workflows on remote cluster systems"
   ]
  },
  {
   "cell_type": "markdown",
   "metadata": {
    "kernel": "SoS"
   },
   "source": [
    "If the remote host specified by option `-r host` is a cluster system, the workflow will be submitted to the cluster as a regular cluster job. The `workflow_template` of `host` will be used, using options specified from command line (`-r host KEY=VALUE KEY=VALUE`.\n",
    "\n",
    "If `node=1`, sos will be executed with a single node, similar to what will happen if you execute the command locally. If `node=n` is specified, the workflow will be executed in a multi-node mode with `-j` automatically expanded to include remote workers that are assigned to the cluster job. see [option `-j`](verbosity_and_jobs.html) for details.\n",
    "\n",
    "Because no `-q` option is specified, all tasks will be executed as regular substeps (as long as no `queue=` option is specified) and be executed to the cluster nodes for execution. This method is most efficient for the execution of a large number of small tasks because there is no overhead for the creation and execution of external tasks. It is less efficient for workflows with varying \"sizes\" of tasks because all computing nodes may have to wait for one computing node to execute one substep. In which case the follow execution method, namely submiting additional tasks from computing nodes could be better."
   ]
  },
  {
   "cell_type": "code",
   "execution_count": 2,
   "metadata": {
    "kernel": "SoS"
   },
   "outputs": [],
   "source": [
    "## Executing entire workflows on remote cluster systems with job submission"
   ]
  },
  {
   "cell_type": "markdown",
   "metadata": {
    "kernel": "SoS",
    "papermill": {
     "duration": 0.072575,
     "end_time": "2019-12-23T17:05:22.639139",
     "exception": false,
     "start_time": "2019-12-23T17:05:22.566564",
     "status": "completed"
    },
    "tags": []
   },
   "source": [
    "We already discussed the [use of option `-q` to submit tasks to remote hosts or cluster systems](task_statement.html). The key idea is that **the workflow is executed locally**. The main sos process will monitor and wait for the completion of remote tasks, and continue after the completion of the remote tasks. Because tasks are executed separately, it can be safely killed and resumed, which is one of the main advantages of the SoS task execution model."
   ]
  },
  {
   "cell_type": "markdown",
   "metadata": {
    "kernel": "SoS",
    "papermill": {
     "duration": 0.066334,
     "end_time": "2019-12-23T17:05:22.903036",
     "exception": false,
     "start_time": "2019-12-23T17:05:22.836702",
     "status": "completed"
    },
    "tags": []
   },
   "source": [
    "It becomes a bit tricky to submit the workflow to a cluster system while allowing the master sos process, now executed on a computing node, to submit additional jobs. The command can be as simple as\n",
    "\n",
    "```\n",
    "sos run script -r host -q host\n",
    "```\n",
    "\n",
    "but things can go wrong if you do not understand completely what is happening:\n",
    "\n",
    "1. With option `-r`, the entire workflow is executed on `host`. Since `host` has a PBS queue, the workflow will be submitted as a regular cluster job. **The resources needed for the master job needs to be specified from command line and expanded in `workflow_template`**.\n",
    "2. The master `sos` process will be executed with a **transferred local config** on a computing node, with an option `-q host`. Now, because the `localhost` is set to `host` by the `-r` option, the cluster will appear to be a localhost to the `sos`, but with a different IP address etc.\n",
    "3. The `sos` process will try to submit the tasks to the headnode through commands similar to `ssh host qsub job_id`. It is therfore mandatary that the `host` can be accessed with the specified `address` from the computing nodes. This is usually not a problem but it is possible that the headnode has different outfacing and inward addresses, in which case you will have to define a different `host` for option `-q`."
   ]
  },
  {
   "cell_type": "markdown",
   "metadata": {
    "kernel": "SoS",
    "papermill": {
     "duration": 0.06946,
     "end_time": "2019-12-23T17:05:23.045618",
     "exception": false,
     "start_time": "2019-12-23T17:05:22.976158",
     "status": "completed"
    },
    "tags": []
   },
   "source": [
    " ```yaml\n",
    " hosts:\n",
    "     htc:\n",
    "        address: htc_cluster.mdanderson.edu\n",
    "        description: HTC cluster (PBS)\n",
    "        queue_type: pbs\n",
    "        status_check_interval: 60\n",
    "        submit_cmd: qsub {job_file}\n",
    "        status_cmd: qstat {job_id}\n",
    "        kill_cmd: qdel {job_id}        \n",
    "        nodes: 2\n",
    "        cores: 4\n",
    "        walltime: 01:00:00\n",
    "        mem: 4G\n",
    "        workflow_template: |\n",
    "            #!/bin/bash\n",
    "            #PBS -N {job_name}\n",
    "            #PBS -l nodes={nodes}:ppn={cores}\n",
    "            #PBS -l walltime={walltime}\n",
    "            #PBS -l mem={mem}\n",
    "            #PBS -m n\n",
    "            module load R\n",
    "            {command}\n",
    "        task_template: |                \n",
    "            #!/bin/bash\n",
    "            #PBS -N {job_name}\n",
    "            #PBS -l nodes={nodes}:ppn={cores}\n",
    "            #PBS -l walltime={walltime}\n",
    "            #PBS -l mem={mem//10**9}GB\n",
    "            #PBS -o ~/.sos/tasks/{task}.out\n",
    "            #PBS -e ~/.sos/tasks/{task}.err\n",
    "            #PBS -m n            \n",
    "            module load R\n",
    "            {command}\n",
    "```            "
   ]
  }
 ],
 "metadata": {
  "anaconda-cloud": {},
  "celltoolbar": "Select cell kernel",
  "kernelspec": {
   "display_name": "SoS",
   "language": "sos",
   "name": "sos"
  },
  "language_info": {
   "codemirror_mode": "sos",
   "file_extension": ".sos",
   "mimetype": "text/x-sos",
   "name": "sos",
   "nbconvert_exporter": "sos_notebook.converter.SoS_Exporter",
   "pygments_lexer": "sos"
  },
  "papermill": {
   "duration": 58.84471,
   "end_time": "2019-12-23T17:05:33.520193",
   "environment_variables": {},
   "exception": null,
   "input_path": "/Users/bpeng1/sos/sos-docs/src/user_guide/remote_execution.ipynb",
   "output_path": "remote_execution.ipynb_rerun.ipynb",
   "parameters": {},
   "start_time": "2019-12-23T17:04:34.675483",
   "version": "1.1.0"
  },
  "sos": {
   "celltoolbar": true,
   "default_kernel": "SoS",
   "kernels": [
    [
     "SoS",
     "sos",
     "",
     ""
    ]
   ],
   "panel": {
    "displayed": true,
    "height": 0,
    "style": "side"
   },
   "version": "0.21.3"
  },
  "toc": {
   "colors": {
    "hover_highlight": "#DAA520",
    "running_highlight": "#FF0000",
    "selected_highlight": "#FFD700"
   },
   "moveMenuLeft": true,
   "nav_menu": {
    "height": "172px",
    "width": "254px"
   },
   "navigate_menu": true,
   "number_sections": true,
   "sideBar": true,
   "threshold": 4,
   "toc_cell": false,
   "toc_position": {
    "height": "675px",
    "left": "0px",
    "right": "1920px",
    "top": "106px",
    "width": "361px"
   },
   "toc_section_display": "block",
   "toc_window_display": true
  }
 },
 "nbformat": 4,
 "nbformat_minor": 4
}
