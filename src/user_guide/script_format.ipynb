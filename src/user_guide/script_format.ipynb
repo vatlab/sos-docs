{
 "cells": [
  {
   "cell_type": "markdown",
   "metadata": {
    "kernel": "SoS",
    "tags": []
   },
   "source": [
    "# Script format of function calls"
   ]
  },
  {
   "cell_type": "markdown",
   "metadata": {
    "kernel": "SoS",
    "tags": []
   },
   "source": [
    "* **Difficulty level**: easy\n",
    "* **Time need to lean**: 10 minutes or less\n",
    "* **Key points**:\n",
    "  * A Python function with a string as the first parameter can be written in a script style\n",
    "  * Scripts are dedented, and included in verbatim by default\n",
    "  * `expand=True` turns the script into a Python f-string\n",
    "  * `expand=\"l r\"` can be used to specify an alternative delimiter for string interpolation"
   ]
  },
  {
   "cell_type": "markdown",
   "metadata": {
    "kernel": "SoS",
    "tags": []
   },
   "source": [
    "## SoS \"actions\""
   ]
  },
  {
   "cell_type": "markdown",
   "metadata": {
    "kernel": "SoS",
    "tags": []
   },
   "source": [
    "SoS defines a number of **actions**, which are simply Python functions that follow a specific set of conventions. For example, an action `sh` is a python function that executes its first parameter as a shell script:"
   ]
  },
  {
   "cell_type": "code",
   "execution_count": 1,
   "metadata": {
    "kernel": "SoS",
    "tags": []
   },
   "outputs": [
    {
     "name": "stdout",
     "output_type": "stream",
     "text": [
      "Hello world\n"
     ]
    }
   ],
   "source": [
    "sh('echo Hello world')"
   ]
  },
  {
   "cell_type": "markdown",
   "metadata": {
    "kernel": "SoS",
    "tags": []
   },
   "source": [
    "When you execute a SoS script from command line or SoS Notebook, these functions are automatically imported and can be used directly, and you can use them just like any other Python functions. For example, you can compose a script using Python string formatting:"
   ]
  },
  {
   "cell_type": "code",
   "execution_count": 2,
   "metadata": {
    "kernel": "SoS",
    "tags": []
   },
   "outputs": [
    {
     "name": "stdout",
     "output_type": "stream",
     "text": [
      "Hello world\n"
     ]
    }
   ],
   "source": [
    "greeting = \"Hello world\"\n",
    "sh(f'echo {greeting}')"
   ]
  },
  {
   "cell_type": "markdown",
   "metadata": {
    "kernel": "SoS",
    "tags": []
   },
   "source": [
    "Here we define a Python string `greeting` and use the `sh` action to execute a shell script. A [Python f-string](https://www.python.org/dev/peps/pep-0498/) is used to compose the script with the defined variable."
   ]
  },
  {
   "cell_type": "markdown",
   "metadata": {
    "kernel": "SoS",
    "tags": []
   },
   "source": [
    "<div class=\"bs-callout bs-callout-primary\" role=\"alert\">\n",
    "  <h4>Python f-string</h4>\n",
    "  <p>SoS uses Python f-string extensively. Please read <a href=\"https://www.python.org/dev/peps/pep-0498/\">PEP498</a> or one of the online tutorials on how to use Python f-strings if you are not familiar with it.</p>  \n",
    "</div>"
   ]
  },
  {
   "cell_type": "markdown",
   "metadata": {
    "kernel": "SoS",
    "tags": [],
    "workflow_cell": true
   },
   "source": [
    "When the scripts get longer, you can use Python multi-line strings to pass them to the action. Here is an example for the use of a `R` action to execute a longer `R` script:"
   ]
  },
  {
   "cell_type": "code",
   "execution_count": 3,
   "metadata": {
    "kernel": "SoS",
    "tags": []
   },
   "outputs": [
    {
     "name": "stdout",
     "output_type": "stream",
     "text": [
      "[1] \"Non-negative number\"\n"
     ]
    }
   ],
   "source": [
    "R(\"\"\"\\\n",
    "x <- 5\n",
    "if(x >= 0) {\n",
    "    print(\"Non-negative number\")\n",
    "} else {\n",
    "    print(\"Negative number\")\n",
    "}\n",
    "\"\"\")"
   ]
  },
  {
   "cell_type": "markdown",
   "metadata": {
    "kernel": "SoS",
    "tags": []
   },
   "source": [
    "The use of format string in these cases become more complicated. First, you will need to use multi-line f-string (`f'''x'''` and `f\"\"\"x\"\"\"`). Second, when the script itself contains braces, they will need to be doubled to avoid being interpreted as Python expressions.\n",
    "\n",
    "Consequently, a `R` script that uses a Python variable `my_num` needs to be written as follows:"
   ]
  },
  {
   "cell_type": "code",
   "execution_count": 4,
   "metadata": {
    "kernel": "SoS",
    "tags": []
   },
   "outputs": [
    {
     "name": "stdout",
     "output_type": "stream",
     "text": [
      "[1] \"Negative number\"\n"
     ]
    }
   ],
   "source": [
    "my_num = -1\n",
    "\n",
    "R(f\"\"\"\\\n",
    "x <- {my_num}\n",
    "if(x >= 0) {{\n",
    "    print(\"Non-negative number\")\n",
    "}} else {{\n",
    "    print(\"Negative number\")\n",
    "}}\n",
    "\"\"\")"
   ]
  },
  {
   "cell_type": "markdown",
   "metadata": {
    "kernel": "SoS",
    "tags": []
   },
   "source": [
    "## Script style function calls <a id=\"Script_style_function_call\"></a>"
   ]
  },
  {
   "cell_type": "markdown",
   "metadata": {
    "kernel": "SoS",
    "tags": []
   },
   "source": [
    "The f-string in the last example is not quite readable, error-prone, and difficult to maintain, especially when the script contains multiple braces and variables. For this reason, SoS introduces a special syntax that allows you to write Python functions that accept a script (string) as the first parameter in a special script format.\n",
    "\n",
    "For example,"
   ]
  },
  {
   "cell_type": "code",
   "execution_count": 5,
   "metadata": {
    "kernel": "SoS",
    "tags": []
   },
   "outputs": [
    {
     "name": "stdout",
     "output_type": "stream",
     "text": [
      "[1] \"Non-negative number\"\n"
     ]
    }
   ],
   "source": [
    "R(\"\"\"\\\n",
    "x <- 5\n",
    "if(x >= 0) {\n",
    "    print(\"Non-negative number\")\n",
    "} else {\n",
    "    print(\"Negative number\")\n",
    "}\n",
    "\"\"\")"
   ]
  },
  {
   "cell_type": "markdown",
   "metadata": {
    "kernel": "SoS",
    "tags": []
   },
   "source": [
    "can be written as"
   ]
  },
  {
   "cell_type": "code",
   "execution_count": 6,
   "metadata": {
    "kernel": "SoS",
    "tags": []
   },
   "outputs": [
    {
     "data": {
      "text/html": [
       "<div class=\"sos_logging sos_warning\">WARNING: Embedding script \"x <- 5...\" without indentation is error-prone and will be deprecated in the future.</div>"
      ]
     },
     "metadata": {},
     "output_type": "display_data"
    },
    {
     "name": "stdout",
     "output_type": "stream",
     "text": [
      "[1] \"Non-negative number\"\n"
     ]
    }
   ],
   "source": [
    "R:\n",
    "x <- 5\n",
    "if(x >= 0) {\n",
    "    print(\"Non-negative number\")\n",
    "} else {\n",
    "    print(\"Negative number\")\n",
    "}"
   ]
  },
  {
   "cell_type": "markdown",
   "metadata": {
    "kernel": "SoS",
    "tags": []
   },
   "source": [
    "but as the warning message shows, better included with indentation:"
   ]
  },
  {
   "cell_type": "code",
   "execution_count": 7,
   "metadata": {
    "kernel": "SoS",
    "tags": []
   },
   "outputs": [
    {
     "name": "stdout",
     "output_type": "stream",
     "text": [
      "[1] \"Non-negative number\"\n"
     ]
    }
   ],
   "source": [
    "R:\n",
    "    x <- 5\n",
    "    if(x >= 0) {\n",
    "        print(\"Non-negative number\")\n",
    "    } else {\n",
    "        print(\"Negative number\")\n",
    "    }"
   ]
  },
  {
   "cell_type": "markdown",
   "metadata": {
    "kernel": "SoS",
    "tags": []
   },
   "source": [
    "<div class=\"bs-callout bs-callout-info\" role=\"alert\">\n",
    "  <h4>Indentation of scripts</h4>\n",
    "  <p>The indentation of scripts in the script style is optional but highly recommended because it makes the scripts much easier to identify and read </p>\n",
    "    <pre>\n",
    "    R:\n",
    "       cat('this is R')\n",
    "    </pre>\n",
    "    <pre>\n",
    "    python:\n",
    "       print('this is python')\n",
    "    </pre>\n",
    "</div>"
   ]
  },
  {
   "cell_type": "markdown",
   "metadata": {
    "kernel": "SoS",
    "tags": []
   },
   "source": [
    "## <a id=\"option-expand\"></a> The `expand` option"
   ]
  },
  {
   "cell_type": "markdown",
   "metadata": {
    "kernel": "SoS",
    "tags": []
   },
   "source": [
    "When option `expand=True` is specified, the included script will be treated as a Python f-string. For example,"
   ]
  },
  {
   "cell_type": "code",
   "execution_count": 8,
   "metadata": {
    "kernel": "SoS",
    "tags": []
   },
   "outputs": [
    {
     "name": "stdout",
     "output_type": "stream",
     "text": [
      "[1] \"Negative number\"\n"
     ]
    }
   ],
   "source": [
    "my_num = -1\n",
    "\n",
    "R(f\"\"\"\\\n",
    "x <- {my_num}\n",
    "if(x >= 0) {{\n",
    "    print(\"Non-negative number\")\n",
    "}} else {{\n",
    "    print(\"Negative number\")\n",
    "}}\n",
    "\"\"\")"
   ]
  },
  {
   "cell_type": "markdown",
   "metadata": {
    "kernel": "SoS",
    "tags": []
   },
   "source": [
    "can be written as"
   ]
  },
  {
   "cell_type": "code",
   "execution_count": 9,
   "metadata": {
    "kernel": "SoS",
    "tags": []
   },
   "outputs": [
    {
     "name": "stdout",
     "output_type": "stream",
     "text": [
      "[1] \"Negative number\"\n"
     ]
    }
   ],
   "source": [
    "my_num = -1\n",
    "\n",
    "R: expand=True\n",
    "    x <- {my_num}\n",
    "    if(x >= 0) {{\n",
    "        print(\"Non-negative number\")\n",
    "    }} else {{\n",
    "        print(\"Negative number\")\n",
    "    }}"
   ]
  },
  {
   "cell_type": "markdown",
   "metadata": {
    "kernel": "SoS",
    "tags": []
   },
   "source": [
    "Note that SoS Notebook automatically highlights the interpolated parts of the included script, which makes it much easier to differentiate Python expressions from the original R script."
   ]
  },
  {
   "cell_type": "markdown",
   "metadata": {
    "kernel": "SoS",
    "tags": []
   },
   "source": [
    "<div class=\"bs-callout bs-callout-info\" role=\"alert\">\n",
    "  <h4>Use of alternative sigils</h4>\n",
    "  <p>When the included scripts have braces, it is easier to use an alternative sigil for string interpolation.</p>\n",
    "</div>"
   ]
  },
  {
   "cell_type": "markdown",
   "metadata": {
    "kernel": "SoS",
    "tags": []
   },
   "source": [
    "Because the included script has two pairs of braces, it is necessary to double them so that they are not treated as Python expressions. In these cases, it is actually easier to use a different set of sigil (delimiters) for string interpolation. This can be done using the `expand` option as follows:"
   ]
  },
  {
   "cell_type": "code",
   "execution_count": 10,
   "metadata": {
    "kernel": "SoS",
    "tags": []
   },
   "outputs": [
    {
     "name": "stdout",
     "output_type": "stream",
     "text": [
      "[1] \"Negative number\"\n"
     ]
    }
   ],
   "source": [
    "my_num = -1\n",
    "\n",
    "R: expand='${ }'\n",
    "    x <- ${my_num}\n",
    "    if(x >= 0) {\n",
    "        print(\"Non-negative number\")\n",
    "    } else {\n",
    "        print(\"Negative number\")\n",
    "    }"
   ]
  },
  {
   "cell_type": "markdown",
   "metadata": {
    "kernel": "SoS",
    "tags": []
   },
   "source": [
    "The sigil should be specified as a string with left and right sigil separated by a space. You can use any pair of sigils as long as they do not cause confusion. "
   ]
  },
  {
   "cell_type": "markdown",
   "metadata": {
    "kernel": "SoS",
    "tags": []
   },
   "source": [
    "## Indented script format (no longer supported)"
   ]
  },
  {
   "cell_type": "markdown",
   "metadata": {
    "kernel": "SoS",
    "tags": []
   },
   "source": [
    "What you have seen so far are function calls without Python control structure. Because SoS allows you to execute the same statements repeatedly for different inputs ([substeps](input_substeps.html) and stop the execution of substeps through actions such as [`skip_if` and `done_if`](control_actions.html), there is rarely a need to call SoS actions within the `if...else...` block or `for` or `while` loops.\n",
    "\n",
    "If you do need to call SoS actions inside a Python control structure, you will have to use the function format of the actions. FOr example,"
   ]
  },
  {
   "cell_type": "code",
   "execution_count": 11,
   "metadata": {
    "kernel": "SoS",
    "tags": []
   },
   "outputs": [
    {
     "name": "stdout",
     "output_type": "stream",
     "text": [
      "0\n",
      "1\n",
      "2\n"
     ]
    }
   ],
   "source": [
    "for i in range(3):\n",
    "    sh(f'echo {i}')"
   ]
  }
 ],
 "metadata": {
  "kernelspec": {
   "display_name": "SoS",
   "language": "sos",
   "name": "sos"
  },
  "language_info": {
   "codemirror_mode": "sos",
   "file_extension": ".sos",
   "mimetype": "text/x-sos",
   "name": "sos",
   "nbconvert_exporter": "sos_notebook.converter.SoS_Exporter",
   "pygments_lexer": "sos"
  },
  "sos": {
   "kernels": [
    [
     "Bash",
     "bash",
     "Bash",
     "#E6EEFF"
    ],
    [
     "R",
     "ir",
     "R",
     "#DCDCDA"
    ],
    [
     "SoS",
     "sos",
     "",
     ""
    ]
   ],
   "panel": {
    "displayed": true,
    "height": 0
   },
   "version": "0.23.4"
  }
 },
 "nbformat": 4,
 "nbformat_minor": 4
}
