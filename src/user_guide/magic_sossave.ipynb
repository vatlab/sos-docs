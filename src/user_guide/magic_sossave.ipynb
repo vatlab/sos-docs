{
 "cells": [
  {
   "cell_type": "markdown",
   "metadata": {
    "kernel": "SoS"
   },
   "source": [
    "# How to generate HTML reports from SoS notebook"
   ]
  },
  {
   "cell_type": "markdown",
   "metadata": {
    "kernel": "SoS"
   },
   "source": [
    "* **Difficulty level**: easy\n",
    "* **Time need to lean**: 10 minutes or less\n",
    "* **Key points**:\n",
    "  * Magic `%sossave` exports notebook in other formats, mostly HTML\n",
    "  "
   ]
  },
  {
   "cell_type": "markdown",
   "metadata": {
    "kernel": "SoS"
   },
   "source": [
    "## Convert `.ipynb` to HTML format <a id=\"Convert_ipynb_to_HTML_format\"></a>"
   ]
  },
  {
   "cell_type": "markdown",
   "metadata": {
    "kernel": "SoS"
   },
   "source": [
    "Because it is not particularly easy to open an `.ipynb` file (a live Jupyter server is required) and because of risk of changing the content of an `.ipynb` file, it is often desired to save an `.ipynb` file in HTML format.\n",
    "\n",
    "Jupyter makes use of a template system to control the content and style of exported HTML file. For example, you can use the default Jupyter template (`File` -> `Save As` -> `HTML`) to save all input and output cells, or you can use the [hide code Jupyter extension](https://github.com/kirbs-/hide_code) to manually hide input or output of each cell and produce a customized .HTML file.\n",
    "\n",
    "SoS provides its own `template` called `sos-report`, which can be used from command line using command\n",
    "\n",
    "```\n",
    "sos convert analysis.ipynb analysis.html --template sos-report\n",
    "```\n",
    "or from within Jupyter with magic `%sossave` with specified filename\n",
    "\n",
    "```\n",
    "%sossave analysis.html -f\n",
    "```\n",
    "or using the same name as the notebook with option `--to html`\n",
    "```\n",
    "%sossave --to html -f\n",
    "```\n",
    "\n",
    "Option `-f` overrides existing file if an output file already exists. You could also use other `sos` based templates such as `sos-full`, which displays all cells.\n",
    "\n",
    "The generated HTML file has the following properties\n",
    "\n",
    "1. It by default only displays markdown cells, input and output cells with tag `report_cell`, and output cells with tag `report_output`.  This is the **report view** that only displays the results of interest.\n",
    "\n",
    "2. If you point your mose to the left top corner of the window, a display control panel will be displayed for you to select additional items to display, including all input and output cells, input and output prompts, and various messages. This is the **notebook view** that displays all the details of the analysis.\n",
    "\n",
    "The `report_output` tag can be toggled using keyboard shortcut `Ctrl-Shift-O` and cells with this tag will be marked by a gray bar to the right of the output area. The `report_cell` and `scratch` tag has to be manually added through the `tag` toolbar (`View` -> `Cell Toolbar` -> `Tags`). Whereas `report_output` only works for output of code cells, the `scratch` tag applies to both markdown and code cells. Finally, if you have created your own customized template, you can define `sos-default-template` in a configuration file (eg. `sos config --set sos-default-template mytemplate.tpl`) instead of specifying it with option `--template` each time.\n"
   ]
  },
  {
   "cell_type": "markdown",
   "metadata": {
    "kernel": "SoS"
   },
   "source": [
    "## Further reading\n",
    "\n",
    "* tet"
   ]
  }
 ],
 "metadata": {
  "kernelspec": {
   "display_name": "SoS",
   "language": "sos",
   "name": "sos"
  },
  "language_info": {
   "codemirror_mode": "sos",
   "file_extension": ".sos",
   "mimetype": "text/x-sos",
   "name": "sos",
   "nbconvert_exporter": "sos_notebook.converter.SoS_Exporter",
   "pygments_lexer": "sos"
  },
  "sos": {
   "kernels": [
    [
     "Bash",
     "bash",
     "Bash",
     "#E6EEFF"
    ],
    [
     "R",
     "ir",
     "R",
     "#DCDCDA"
    ],
    [
     "SoS",
     "sos",
     "",
     ""
    ]
   ],
   "panel": {
    "displayed": true,
    "height": 0
   },
   "version": "0.18.5"
  }
 },
 "nbformat": 4,
 "nbformat_minor": 2
}
